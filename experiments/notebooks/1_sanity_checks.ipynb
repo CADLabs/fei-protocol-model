{
 "cells": [
  {
   "cell_type": "markdown",
   "metadata": {},
   "source": [
    "# Experiment Notebook: Sanity Checks"
   ]
  },
  {
   "cell_type": "markdown",
   "metadata": {},
   "source": [
    "# Table of Contents\n",
    "* [Experiment Summary](#Experiment-Summary)\n",
    "* [Experiment Assumptions](#Experiment-Assumptions)\n",
    "* [Experiment Setup](#Experiment-Setup)\n",
    "* [Analysis 1: System Dynamics Over Volatile Asset Price Trajectories](#Analysis-1:-System-Dynamics-Over-Volatile-Asset-Price-Trajectories)\n",
    "* [Analysis 2.1: State Variable Relationships](#Analysis-2.1:-State-Variable-Relationships)\n",
    "* [Analysis 2.2: State Variable Correlation](#Analysis-2.2:-State-Variable-Correlation)\n",
    "* [Analysis 3: Liquidity Pool Dynamics](#Analysis-3:-Liquidity-Pool-Dynamics)"
   ]
  },
  {
   "cell_type": "markdown",
   "metadata": {},
   "source": [
    "# Experiment Summary \n",
    "\n",
    "The purpose of this notebook is to perform a set of sanity checks that validate the expected key system dynamics, as well as the relationships between different key state variables. These analyses should also serve as an educational explanatory tool for less intuitive system dynamics and as an introduction to the model.\n",
    "\n",
    "# Experiment Assumptions\n",
    "\n",
    "See [assumptions document](../../ASSUMPTIONS.md) for further details."
   ]
  },
  {
   "cell_type": "markdown",
   "metadata": {},
   "source": [
    "# Experiment Setup\n",
    "\n",
    "We begin with several experiment-notebook-level preparatory setup operations:\n",
    "\n",
    "* Import relevant dependencies\n",
    "* Import relevant experiment templates\n",
    "* Create copies of experiments\n",
    "* Configure and customize experiments \n",
    "\n",
    "Analysis-specific setup operations are handled in their respective notebook sections."
   ]
  },
  {
   "cell_type": "code",
   "execution_count": null,
   "metadata": {},
   "outputs": [],
   "source": [
    "# Import the setup module:\n",
    "# * sets up the Python path\n",
    "# * runs shared notebook configuration methods, such as loading IPython modules\n",
    "import setup\n",
    "\n",
    "import copy\n",
    "import logging\n",
    "import numpy as np\n",
    "import pandas as pd\n",
    "import plotly.express as px\n",
    "import plotly.figure_factory as ff\n",
    "\n",
    "import experiments.notebooks.visualizations as visualizations\n",
    "from experiments.run import run\n",
    "from experiments.utils import display_code"
   ]
  },
  {
   "cell_type": "code",
   "execution_count": null,
   "metadata": {},
   "outputs": [],
   "source": [
    "from experiments.notebooks.helpers.system_metrics import *"
   ]
  },
  {
   "cell_type": "code",
   "execution_count": null,
   "metadata": {},
   "outputs": [],
   "source": [
    "# Configure Plotly\n",
    "import plotly.io as pio\n",
    "png_renderer = pio.renderers[\"png\"]\n",
    "png_renderer.width = 1200\n",
    "png_renderer.height = 500\n",
    "png_renderer.scale = 1\n",
    "\n",
    "pio.renderers.default = \"png\""
   ]
  },
  {
   "cell_type": "code",
   "execution_count": null,
   "metadata": {},
   "outputs": [],
   "source": [
    "# Enable/disable logging\n",
    "logger = logging.getLogger()\n",
    "logger.disabled = False\n",
    "logging.disable(logging.DEBUG)"
   ]
  },
  {
   "cell_type": "code",
   "execution_count": null,
   "metadata": {},
   "outputs": [],
   "source": [
    "# Import experiment templates\n",
    "import experiments.default_experiment as default_experiment"
   ]
  },
  {
   "cell_type": "code",
   "execution_count": null,
   "metadata": {},
   "outputs": [],
   "source": [
    "# Create a simulation for each analysis\n",
    "simulation_1 = copy.deepcopy(default_experiment.experiment.simulations[0])\n",
    "simulation_2 = copy.deepcopy(default_experiment.experiment.simulations[0])"
   ]
  },
  {
   "cell_type": "code",
   "execution_count": null,
   "metadata": {},
   "outputs": [],
   "source": [
    "# Experiment configuration\n",
    "# simulation_1.model.initial_state.update({})\n",
    "# simulation_1.model.params.update({})"
   ]
  },
  {
   "cell_type": "markdown",
   "metadata": {},
   "source": [
    "# Analysis 1: System Dynamics Over Volatile Asset Price Trajectories"
   ]
  },
  {
   "cell_type": "markdown",
   "metadata": {},
   "source": [
    "The Fei Protocol Model is strongly driven by the Volatile Asset price process - mimicking the dependency on the Ethereum price which avenues of FEI and PCV have in the system.\n",
    "\n",
    "In this analysis we look at the effect of setting the Volatile Asset price trajectory in four scenarios:\n",
    "- As a linear constant price\n",
    "- As a step price\n",
    "- As a linearly increasing price\n",
    "- As a linearly decreasing price\n",
    "\n",
    "The purpose of this analysis is to illustrate and validate the driving influence of the Volatile Asset price on key system dynamics."
   ]
  },
  {
   "cell_type": "code",
   "execution_count": null,
   "metadata": {},
   "outputs": [],
   "source": [
    "# Analysis-specific setup\n",
    "simulation_1.model.params.update({\n",
    "    # Disable policy by setting to `None`\n",
    "    \"target_stable_pcv_ratio\": [None],\n",
    "    \"target_stable_backing_ratio\": [None],\n",
    "    \"volatile_asset_price_process\": [\n",
    "        lambda _run, _timestep: 2_000,\n",
    "        lambda _run, timestep: 2_000 if timestep < 365 / 4 else (1_000 if timestep < 365 * 3/4 else 2_000),\n",
    "        lambda _run, timestep: 2_000 * (1 + timestep * 0.2 / 365),\n",
    "        lambda _run, timestep: 2_000 * (1 - timestep * 0.2 / 365),\n",
    "    ],\n",
    "})\n",
    "\n",
    "scenario_names = {0: \"Constant Price\", 1: \"Step Price\", 2: \"Increasing Price\", 3: \"Decreasing Price\"}"
   ]
  },
  {
   "cell_type": "code",
   "execution_count": null,
   "metadata": {},
   "outputs": [],
   "source": [
    "# Experiment execution\n",
    "df_1, exceptions = run(simulation_1)"
   ]
  },
  {
   "cell_type": "code",
   "execution_count": null,
   "metadata": {},
   "outputs": [],
   "source": [
    "# Post-processing and visualizations"
   ]
  },
  {
   "cell_type": "code",
   "execution_count": null,
   "metadata": {},
   "outputs": [],
   "source": [
    "df_1[\"Scenario\"] = df_1[\"subset\"].map(scenario_names)"
   ]
  },
  {
   "cell_type": "code",
   "execution_count": null,
   "metadata": {},
   "outputs": [],
   "source": [
    "fig = df_1.plot(y='volatile_asset_price', color='Scenario')\n",
    "\n",
    "fig.update_layout(\n",
    "    title=\"Volatile Asset (e.g. ETH) Price Trajectories\",\n",
    "    xaxis_title=\"Timestamp\",\n",
    "    yaxis_title=\"Volatile Asset Price (USD)\",\n",
    "    legend=dict(\n",
    "        yanchor=\"top\",\n",
    "        y=0.98,\n",
    "        xanchor=\"left\",\n",
    "        x=0.01\n",
    "    )\n",
    ")"
   ]
  },
  {
   "cell_type": "code",
   "execution_count": null,
   "metadata": {},
   "outputs": [],
   "source": [
    "from plotly.subplots import make_subplots\n",
    "import plotly.graph_objects as go\n",
    "import itertools\n",
    "from experiments.notebooks.visualizations.plotly_theme import cadlabs_colorway_sequence\n",
    "color_cycle = itertools.cycle(cadlabs_colorway_sequence)\n",
    "\n",
    "\n",
    "column_titles = list(scenario_names.values())\n",
    "row_titles = [\n",
    "    \"Volatile Asset Price (USD)\",\n",
    "    \"Stable / Volatile PCV (USD)\",\n",
    "    \"Total FEI Supply (FEI)\",\n",
    "    \"Collateralization (%)\",\n",
    "    \"Liquidity Pool TVL (USD)\",\n",
    "]\n",
    "\n",
    "fig = make_subplots(\n",
    "    rows=5,\n",
    "    cols=len(df_1.subset.unique()),\n",
    "    shared_xaxes=True,\n",
    "    shared_yaxes=\"rows\",\n",
    "    horizontal_spacing=0.05,\n",
    "    vertical_spacing=0.05,\n",
    "    column_titles=column_titles,\n",
    "    row_titles=row_titles,\n",
    ")\n",
    "\n",
    "for subset in df_1.subset.unique():\n",
    "    df_plot = df_1.query('subset == @subset')\n",
    "    \n",
    "    show_legend = bool(subset == 0)\n",
    "    column = subset + 1\n",
    "    \n",
    "    row = 1\n",
    "    fig.add_trace(\n",
    "        go.Scatter(\n",
    "            x=df_plot.timestamp,\n",
    "            y=df_plot.volatile_asset_price,\n",
    "            name=\"Volatile Asset Price\",\n",
    "            line=dict(color=cadlabs_colorway_sequence[row - 1]),\n",
    "            showlegend=show_legend,\n",
    "        ),\n",
    "        row=row, col=column,\n",
    "    )\n",
    "    \n",
    "    row = 2\n",
    "    fig.add_trace(\n",
    "        go.Scatter(\n",
    "            x=df_plot.timestamp,\n",
    "            y=df_plot.total_volatile_asset_pcv,\n",
    "            name=\"Volatile Asset PCV\",\n",
    "            line=dict(color=cadlabs_colorway_sequence[row - 1]),\n",
    "            showlegend=show_legend,\n",
    "            stackgroup='one',\n",
    "        ),\n",
    "        row=row, col=column\n",
    "    )\n",
    "    \n",
    "    row = 2\n",
    "    fig.add_trace(\n",
    "        go.Scatter(\n",
    "            x=df_plot.timestamp,\n",
    "            y=df_plot.total_stable_asset_pcv,\n",
    "            name=\"Stable Asset PCV\",\n",
    "            line=dict(color=cadlabs_colorway_sequence[row]),\n",
    "            showlegend=show_legend,\n",
    "            stackgroup='one',\n",
    "        ),\n",
    "        row=row, col=column\n",
    "    )\n",
    "    \n",
    "    row = 3\n",
    "    fig.add_trace(\n",
    "        go.Scatter(\n",
    "            x=df_plot.timestamp,\n",
    "            y=df_plot.total_fei_supply,\n",
    "            name=\"Total FEI Supply\",\n",
    "            line=dict(color=cadlabs_colorway_sequence[row]),\n",
    "            showlegend=show_legend,\n",
    "        ),\n",
    "        row=row, col=column\n",
    "    )\n",
    "    \n",
    "    row = 4\n",
    "    fig.add_trace(\n",
    "        go.Scatter(\n",
    "            x=df_plot.timestamp,\n",
    "            y=df_plot.collateralization_ratio,\n",
    "            name=\"Collateralization Ratio\",\n",
    "            line=dict(color=cadlabs_colorway_sequence[row]),\n",
    "            showlegend=show_legend,\n",
    "        ),\n",
    "        row=row, col=column\n",
    "    )\n",
    "    \n",
    "    row = 5\n",
    "    fig.add_trace(\n",
    "        go.Scatter(\n",
    "            x=df_plot.timestamp,\n",
    "            y=df_plot.liquidity_pool_tvl,\n",
    "            name=\"Liquidity Pool TVL\",\n",
    "            line=dict(color=cadlabs_colorway_sequence[row]),\n",
    "            showlegend=show_legend,\n",
    "        ),\n",
    "        row=row, col=column\n",
    "    )\n",
    "\n",
    "fig.update_layout(title=\"Fei Protocol Model Sanity Checks\")\n",
    "fig.show(height=1200)"
   ]
  },
  {
   "cell_type": "markdown",
   "metadata": {},
   "source": [
    "By looking at the components of total FEI supply in the subset with a step decrease in the volatile asset price, we can further develop our intuition about the behaviour of the model:"
   ]
  },
  {
   "cell_type": "code",
   "execution_count": null,
   "metadata": {},
   "outputs": [],
   "source": [
    "df_debug = df_1.query(\"subset == 1\")"
   ]
  },
  {
   "cell_type": "code",
   "execution_count": null,
   "metadata": {},
   "outputs": [],
   "source": [
    "df_debug[\"fei_money_market_pcv_deposit_balance_idle\"] = df_debug[\"fei_money_market_pcv_deposit_balance\"] * (1 - df_debug[\"fei_money_market_utilization\"])\n",
    "df_debug[\"fei_money_market_user_deposit_balance_idle\"] = df_debug[\"fei_money_market_user_deposit_balance\"] * (1 - df_debug[\"fei_money_market_utilization\"])\n",
    "\n",
    "fei_state_variables = [\n",
    "    # Protocol\n",
    "    \"fei_idle_pcv_deposit_balance\",\n",
    "    \"fei_liquidity_pool_pcv_deposit_balance\",\n",
    "    \"fei_money_market_pcv_deposit_balance_idle\",\n",
    "    # User\n",
    "    \"fei_idle_user_deposit_balance\",\n",
    "    \"fei_savings_user_deposit_balance\",\n",
    "    \"fei_liquidity_pool_user_deposit_balance\",\n",
    "    \"fei_money_market_user_deposit_balance_idle\",\n",
    "    \"fei_money_market_borrowed\",   \n",
    "]\n",
    "\n",
    "fig = px.area(df_debug, y=fei_state_variables, title=\"Total FEI Supply\")\n",
    "\n",
    "fig.update_layout(\n",
    "    title=\"Total FEI Supply\",\n",
    "    xaxis_title=\"Timestamp\",\n",
    "    yaxis_title=\"Total FEI Supply (FEI)\",\n",
    "    legend=dict(title=\"\"),\n",
    ")\n",
    "fig.show()"
   ]
  },
  {
   "cell_type": "markdown",
   "metadata": {},
   "source": [
    "## Effect of Volatile Asset Price Trajectory on Main KPIs"
   ]
  },
  {
   "cell_type": "code",
   "execution_count": null,
   "metadata": {},
   "outputs": [],
   "source": [
    "fn_dict = get_fn_dict()"
   ]
  },
  {
   "cell_type": "markdown",
   "metadata": {},
   "source": [
    "### 1. Collateralization Ratio"
   ]
  },
  {
   "cell_type": "code",
   "execution_count": null,
   "metadata": {},
   "outputs": [],
   "source": [
    "fig = df_1.plot(\n",
    "    y='collateralization_ratio_pct',\n",
    "    color='Scenario'\n",
    ")\n",
    "\n",
    "fig.update_layout(\n",
    "    title=\"Collateralization Ratio\",\n",
    "    xaxis_title=\"Timestamp\",\n",
    "    yaxis_title=\"Collateralization Ratio (%)\",\n",
    "    legend=dict(\n",
    "        yanchor=\"top\",\n",
    "        y=0.98,\n",
    "        xanchor=\"left\",\n",
    "        x=0.01\n",
    "    )\n",
    ")\n",
    "fig.show()"
   ]
  },
  {
   "cell_type": "code",
   "execution_count": null,
   "metadata": {},
   "outputs": [],
   "source": [
    "compute_metric_set_for_variable(df_1, fn_dict, 'collateralization_ratio')"
   ]
  },
  {
   "cell_type": "markdown",
   "metadata": {},
   "source": [
    "### 2. Stable Backing Ratio"
   ]
  },
  {
   "cell_type": "code",
   "execution_count": null,
   "metadata": {},
   "outputs": [],
   "source": [
    "fig = df_1.plot(\n",
    "    y='stable_backing_ratio_pct',\n",
    "    color='Scenario'\n",
    ")\n",
    "\n",
    "fig.update_layout(\n",
    "    title=\"Stable Backing Ratio\",\n",
    "    xaxis_title=\"Timestamp\",\n",
    "    yaxis_title=\"Stable Backing Ratio (%)\",\n",
    "    legend=dict(\n",
    "        yanchor=\"top\",\n",
    "        y=0.98,\n",
    "        xanchor=\"left\",\n",
    "        x=0.01\n",
    "    )\n",
    ")\n",
    "fig.show()"
   ]
  },
  {
   "cell_type": "code",
   "execution_count": null,
   "metadata": {},
   "outputs": [],
   "source": [
    "compute_metric_set_for_variable(df_1, fn_dict, 'stable_backing_ratio')"
   ]
  },
  {
   "cell_type": "markdown",
   "metadata": {},
   "source": [
    "### 3. Total PCV"
   ]
  },
  {
   "cell_type": "code",
   "execution_count": null,
   "metadata": {},
   "outputs": [],
   "source": [
    "fig = df_1.plot(\n",
    "    y='total_pcv',\n",
    "    color='Scenario'\n",
    ")\n",
    "\n",
    "fig.update_layout(\n",
    "    title=\"Total PCV\",\n",
    "    xaxis_title=\"Timestamp\",\n",
    "    yaxis_title=\"Total PCV (USD)\",\n",
    "    legend=dict(\n",
    "        yanchor=\"top\",\n",
    "        y=0.98,\n",
    "        xanchor=\"left\",\n",
    "        x=0.01\n",
    "    )\n",
    ")\n",
    "fig.show()"
   ]
  },
  {
   "cell_type": "code",
   "execution_count": null,
   "metadata": {},
   "outputs": [],
   "source": [
    "compute_metric_set_for_variable(df_1, fn_dict, 'total_pcv')"
   ]
  },
  {
   "cell_type": "markdown",
   "metadata": {},
   "source": [
    "### 4. Total User-circulating FEI"
   ]
  },
  {
   "cell_type": "code",
   "execution_count": null,
   "metadata": {},
   "outputs": [],
   "source": [
    "fig = df_1.plot(\n",
    "    y='total_user_circulating_fei',\n",
    "    color='Scenario'\n",
    ")\n",
    "\n",
    "fig.update_layout(\n",
    "    title=\"Total User-circulating FEI\",\n",
    "    xaxis_title=\"Timestamp\",\n",
    "    yaxis_title=\"Total User-circulating FEI (FEI)\",\n",
    "    legend=dict(\n",
    "        yanchor=\"top\",\n",
    "        y=0.98,\n",
    "        xanchor=\"left\",\n",
    "        x=0.01\n",
    "    )\n",
    ")\n",
    "fig.show()"
   ]
  },
  {
   "cell_type": "code",
   "execution_count": null,
   "metadata": {},
   "outputs": [],
   "source": [
    "compute_metric_set_for_variable(df_1, fn_dict, 'total_user_circulating_fei')"
   ]
  },
  {
   "cell_type": "markdown",
   "metadata": {},
   "source": [
    "# Analysis 2.1: State Variable Relationships"
   ]
  },
  {
   "cell_type": "markdown",
   "metadata": {},
   "source": [
    "The purpose of this analysis is to illustrate and validate the relationships between and distribution of key system state variables using the model's default experiment initial state and system parameters."
   ]
  },
  {
   "cell_type": "code",
   "execution_count": null,
   "metadata": {},
   "outputs": [],
   "source": [
    "# Experiment execution\n",
    "df_2, exceptions = run(simulation_2)"
   ]
  },
  {
   "cell_type": "code",
   "execution_count": null,
   "metadata": {},
   "outputs": [],
   "source": [
    "# Post-processing and visualizations"
   ]
  },
  {
   "cell_type": "code",
   "execution_count": null,
   "metadata": {},
   "outputs": [],
   "source": [
    "variables = [\n",
    "    \"volatile_asset_price\",\n",
    "    \"total_pcv\",\n",
    "    \"collateralization_ratio_pct\",\n",
    "    \"total_user_circulating_fei\",\n",
    "]"
   ]
  },
  {
   "cell_type": "code",
   "execution_count": null,
   "metadata": {},
   "outputs": [],
   "source": [
    "fig = px.scatter_matrix(\n",
    "    df_2,\n",
    "    dimensions=variables,\n",
    "    labels={col:col.replace('_', ' ') for col in df_2.columns}, # remove underscore\n",
    "    opacity=0.25,\n",
    ")\n",
    "\n",
    "fig.update_layout(title=\"Scatter Matrix\")\n",
    "fig.update_traces(diagonal_visible=False)\n",
    "fig.show(height=1000)"
   ]
  },
  {
   "cell_type": "code",
   "execution_count": null,
   "metadata": {},
   "outputs": [],
   "source": [
    "from model.system_parameters import parameters\n",
    "\n",
    "capital_allocation_fei_deposit_variables = parameters['capital_allocation_fei_deposit_variables'][0]\n",
    "\n",
    "capital_allocation_weights = [f\"{key}_weight\" for key in capital_allocation_fei_deposit_variables]\n",
    "capital_allocation_balances = [f\"{key}_balance\" for key in capital_allocation_fei_deposit_variables]"
   ]
  },
  {
   "cell_type": "code",
   "execution_count": null,
   "metadata": {},
   "outputs": [],
   "source": [
    "fig = df_2.groupby('timestep').mean().plot(y=capital_allocation_weights)\n",
    "\n",
    "fig.update_layout(\n",
    "    title=\"FEI Capital Allocation Weights\",\n",
    "    xaxis_title=\"Timestamp\",\n",
    "    yaxis_title=\"Weight (Yield / Risk)\",\n",
    "    legend=dict(\n",
    "        title=\"\",\n",
    "        yanchor=\"top\",\n",
    "        y=0.98,\n",
    "        xanchor=\"left\",\n",
    "        x=0.01\n",
    "    )\n",
    ")\n",
    "fig.show()"
   ]
  },
  {
   "cell_type": "code",
   "execution_count": null,
   "metadata": {},
   "outputs": [],
   "source": [
    "fig = px.area(df_2, y=capital_allocation_balances, groupnorm=\"percent\")\n",
    "\n",
    "fig.update_layout(\n",
    "    title=\"FEI Capital Allocation\",\n",
    "    xaxis_title=\"Timestamp\",\n",
    "    yaxis_title=\"FEI Capital Allocation (%)\",\n",
    "    legend=dict(\n",
    "        title=\"\",\n",
    "        yanchor=\"top\",\n",
    "        y=0.98,\n",
    "        xanchor=\"left\",\n",
    "        x=0.01\n",
    "    )\n",
    ")\n",
    "fig.show()"
   ]
  },
  {
   "cell_type": "markdown",
   "metadata": {},
   "source": [
    "# Analysis 2.2: State Variable Correlation"
   ]
  },
  {
   "cell_type": "markdown",
   "metadata": {},
   "source": [
    "The purpose of this analysis is to illustrate and validate the correlation between key system state variables."
   ]
  },
  {
   "cell_type": "code",
   "execution_count": null,
   "metadata": {},
   "outputs": [],
   "source": [
    "z = df_2[variables + ['timestep']].groupby('timestep').mean().corr()\n",
    "\n",
    "correlation_matrix = ff.create_annotated_heatmap(\n",
    "    z=np.round(z, 2).to_numpy(),\n",
    "    x=z.columns.tolist(),\n",
    "    y=z.index.tolist(),\n",
    "    colorscale='Viridis',\n",
    "    zmax=1, zmin=-1,\n",
    "    showscale=True,\n",
    ")\n",
    "\n",
    "correlation_matrix.update_layout(\n",
    "    title=\"Correlation Matrix\",\n",
    "    title_x=0.5,\n",
    "    autosize=False,\n",
    "    width=1000,\n",
    "    height=1000,\n",
    ")\n",
    "correlation_matrix.show()"
   ]
  },
  {
   "cell_type": "markdown",
   "metadata": {},
   "source": [
    "# Analysis 3: Liquidity Pool Dynamics"
   ]
  },
  {
   "cell_type": "markdown",
   "metadata": {},
   "source": [
    "The purpose of this analysis is to illustrate and validate the effect of a step change in the Volatile Asset price on the liquidity pool imbalance, resulting minting and redemption, and capital allocation.\n",
    "\n",
    "Evaluating the second subset, a step in the volatile asset price, we expect the following results:\n",
    "\n",
    "1. A step in the volatile asset price results in an imbalance in the liquidity pool, which is rebalanced by:\n",
    " - Step down in volatile asset price results in an excess of FEI in the pool: FEI is released from the liquidity pool into the circulating supply and **redeemed**\n",
    " - Step up in volatile asset price results in a deficit of FEI in the pool: FEI is **minted** and deposited into the liquidity pool\n",
    "2. The rebalancing transaction volume causes a spike in transaction fees collected and resulting liquidity pool yield rate\n",
    "3. The capital allocation weights for the liquidity pool increase\n",
    "4. The capital allocation Model moves user FEI into the liquidity pool"
   ]
  },
  {
   "cell_type": "code",
   "execution_count": null,
   "metadata": {},
   "outputs": [],
   "source": [
    "df_subset_1 = df_1.query(\"subset == 1\")"
   ]
  },
  {
   "cell_type": "code",
   "execution_count": null,
   "metadata": {},
   "outputs": [],
   "source": [
    "fig = df_subset_1.plot(y=['fei_minted_redeemed'])\n",
    "\n",
    "fig.update_layout(\n",
    "    title=\"Liquidity Pool FEI Minted (+ve) / Redeemed (-ve)\",\n",
    "    xaxis_title=\"Timestamp\",\n",
    "    yaxis_title=\"FEI Minted / Redeemed (FEI)\",\n",
    "    showlegend=False,\n",
    ")\n",
    "fig.show()"
   ]
  },
  {
   "cell_type": "code",
   "execution_count": null,
   "metadata": {},
   "outputs": [],
   "source": [
    "fig = df_subset_1.plot(y=['fei_liquidity_pool_pcv_deposit_balance', 'fei_liquidity_pool_user_deposit_balance'])\n",
    "\n",
    "fig.update_layout(\n",
    "    title=\"Liquidity Pool FEI Balance\",\n",
    "    xaxis_title=\"Timestamp\",\n",
    "    yaxis_title=\"Balance (FEI)\",\n",
    "    legend=dict(\n",
    "        title=\"\",\n",
    "        yanchor=\"top\",\n",
    "        y=0.98,\n",
    "        xanchor=\"left\",\n",
    "        x=0.01\n",
    "    )\n",
    ")\n",
    "fig.show()"
   ]
  },
  {
   "cell_type": "code",
   "execution_count": null,
   "metadata": {},
   "outputs": [],
   "source": [
    "fig = df_subset_1.plot(y=['volatile_liquidity_pool_pcv_deposit_balance', 'volatile_liquidity_pool_user_deposit_balance'])\n",
    "\n",
    "fig.update_layout(\n",
    "    title=\"Liquidity Pool Volatile Asset Balance\",\n",
    "    xaxis_title=\"Timestamp\",\n",
    "    yaxis_title=\"Balance (Volatile Asset Units)\",\n",
    "    legend=dict(\n",
    "        title=\"\",\n",
    "        yanchor=\"top\",\n",
    "        y=0.98,\n",
    "        xanchor=\"left\",\n",
    "        x=0.01\n",
    "    )\n",
    ")\n",
    "fig.show()"
   ]
  },
  {
   "cell_type": "code",
   "execution_count": null,
   "metadata": {},
   "outputs": [],
   "source": [
    "fig = df_subset_1.plot(\n",
    "    title='Liquidity Pool Invariant',\n",
    "    x='timestep',\n",
    "    y=['liquidity_pool_invariant'],\n",
    ")\n",
    "\n",
    "fig.update_layout(\n",
    "    title=\"Liquidity Pool Invariant\",\n",
    "    xaxis_title=\"Timestamp\",\n",
    "    yaxis_title=\"Invariant (FEI * Volatile Asset Balance)\",\n",
    "    showlegend=False,\n",
    ")\n",
    "fig.show()"
   ]
  },
  {
   "cell_type": "code",
   "execution_count": null,
   "metadata": {},
   "outputs": [],
   "source": [
    "fig = df_subset_1.groupby('timestep').mean().plot(y=capital_allocation_weights)\n",
    "\n",
    "fig.update_layout(\n",
    "    title=\"FEI Capital Allocation Weights\",\n",
    "    xaxis_title=\"Timestamp\",\n",
    "    yaxis_title=\"Weight (Yield / Risk)\",\n",
    "    legend=dict(\n",
    "        title=\"\",\n",
    "        yanchor=\"top\",\n",
    "        y=0.98,\n",
    "        xanchor=\"left\",\n",
    "        x=0.01\n",
    "    )\n",
    ")\n",
    "fig.show()"
   ]
  }
 ],
 "metadata": {
  "kernelspec": {
   "display_name": "Python (CADLabs Fei Model)",
   "language": "python",
   "name": "python-cadlabs-fei"
  },
  "language_info": {
   "codemirror_mode": {
    "name": "ipython",
    "version": 3
   },
   "file_extension": ".py",
   "mimetype": "text/x-python",
   "name": "python",
   "nbconvert_exporter": "python",
   "pygments_lexer": "ipython3",
   "version": "3.9.13"
  }
 },
 "nbformat": 4,
 "nbformat_minor": 4
}
