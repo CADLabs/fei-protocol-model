{
 "cells": [
  {
   "cell_type": "markdown",
   "metadata": {},
   "source": [
    "# Experiment Notebook: FEI Savings Rate Analyses"
   ]
  },
  {
   "cell_type": "markdown",
   "metadata": {},
   "source": [
    "# Table of Contents\n",
    "* [Experiment Summary](#Experiment-Summary)\n",
    "* [Experiment Assumptions](#Experiment-Assumptions)\n",
    "* [Experiment Setup](#Experiment-Setup)\n",
    "* [Analysis 1: ...](#Analysis-1:-...)"
   ]
  },
  {
   "cell_type": "markdown",
   "metadata": {},
   "source": [
    "# Experiment Summary \n",
    "\n",
    "The goal of analysis notebooks is to be able to related the results of the FEI ecosystem model to the existing state of governance of the FEI protocol and ecosystem. To do this, we attempt to leverage the large scale simulation output capabilities of the radCAD framework to produce FIP-relevant qualitative and probabilistic conclusions, such that they may loosely aid in the conceptual phase of protocol decision support.\n",
    "\n",
    "# Experiment Assumptions\n",
    "\n",
    "See [assumptions document](../../ASSUMPTIONS.md) for further details."
   ]
  },
  {
   "cell_type": "markdown",
   "metadata": {},
   "source": [
    "0. Parameter sweeps for the analysis\n",
    "1. CAM Weights and Deposit Allocation Proportions\n",
    "  - FEI Savings Rate Setting 1\n",
    "  - FEI Savings Rate Setting 2\n",
    "  - FEI Savings Rate Setting 3\n",
    "  - FEI Savings Rate Setting 4 (Disabled)\n",
    "2. User Circulating FEI Deposit Evolution\n",
    "  - 2.1. Total User Circulating FEI\n",
    "  - 2.2. FEI Liquidity Pool Deposit\n",
    "  - 2.3. FEI Money Market Deposit\n",
    "  - 2.4. FEI Savings User Deposit\n",
    "  - 2.5. FEI Idle User Deposit\n",
    "3. State variables for mechanisms associated to FEI deposits\n",
    "  - 3.1 FEI Money Market Dynamics\n",
    "  - 3.2 FEI Liquidity Pool Dynamics\n",
    "  - 3.3 FEI Savings Deposit Dynamics\n",
    "4. Conclusion"
   ]
  },
  {
   "cell_type": "markdown",
   "metadata": {},
   "source": [
    "# Experiment Setup\n",
    "\n",
    "We begin with several experiment-notebook-level preparatory setup operations:\n",
    "\n",
    "* Import relevant dependencies\n",
    "* Import relevant experiment templates\n",
    "* Create copies of experiments\n",
    "* Configure and customize experiments \n",
    "\n",
    "Analysis-specific setup operations are handled in their respective notebook sections."
   ]
  },
  {
   "cell_type": "code",
   "execution_count": null,
   "metadata": {},
   "outputs": [],
   "source": [
    "# Import the setup module:\n",
    "# * sets up the Python path\n",
    "# * runs shared notebook configuration methods, such as loading IPython modules\n",
    "import setup\n",
    "\n",
    "import copy\n",
    "import logging\n",
    "import numpy as np\n",
    "import pandas as pd\n",
    "import plotly.express as px\n",
    "\n",
    "import experiments.notebooks.visualizations as visualizations\n",
    "from experiments.run import run\n",
    "from experiments.utils import display_code\n",
    "from experiments.notebooks.helpers.system_metrics import *"
   ]
  },
  {
   "cell_type": "code",
   "execution_count": null,
   "metadata": {},
   "outputs": [],
   "source": [
    "from experiments.notebooks.visualizations.plotly_theme import cadlabs_colorway_sequence"
   ]
  },
  {
   "cell_type": "code",
   "execution_count": null,
   "metadata": {},
   "outputs": [],
   "source": [
    "from operator import lt, gt"
   ]
  },
  {
   "cell_type": "code",
   "execution_count": null,
   "metadata": {},
   "outputs": [],
   "source": [
    "from scipy.stats import norm"
   ]
  },
  {
   "cell_type": "code",
   "execution_count": null,
   "metadata": {},
   "outputs": [],
   "source": [
    "import plotly.graph_objects as go\n",
    "from plotly.subplots import make_subplots"
   ]
  },
  {
   "cell_type": "code",
   "execution_count": null,
   "metadata": {},
   "outputs": [],
   "source": [
    "# Configure Plotly\n",
    "import plotly.io as pio\n",
    "png_renderer = pio.renderers[\"png\"]\n",
    "png_renderer.width = 1200\n",
    "png_renderer.height = 500\n",
    "# png_renderer.scale = 1\n",
    "\n",
    "pio.renderers.default = \"png\""
   ]
  },
  {
   "cell_type": "code",
   "execution_count": null,
   "metadata": {},
   "outputs": [],
   "source": [
    "# Enable/disable logging\n",
    "logger = logging.getLogger()\n",
    "logger.disabled = False"
   ]
  },
  {
   "cell_type": "code",
   "execution_count": null,
   "metadata": {},
   "outputs": [],
   "source": [
    "# Import experiment templates\n",
    "import experiments.default_experiment as default_experiment"
   ]
  },
  {
   "cell_type": "code",
   "execution_count": null,
   "metadata": {},
   "outputs": [],
   "source": [
    "color_cycle = itertools.cycle(cadlabs_colorway_sequence)"
   ]
  },
  {
   "cell_type": "markdown",
   "metadata": {},
   "source": [
    "# Analysis 1: Effect of FEI Savings Rate on User FEI Capital Allocation"
   ]
  },
  {
   "cell_type": "markdown",
   "metadata": {},
   "source": [
    "In this analysis we aim to explore FEI ecosystem model output in terms of movements of User FEI amongst idle and yield bearing deposits, and look at the sustainability of budgeting of various levels of the FEI savings rate in relation to protocol revenue."
   ]
  },
  {
   "cell_type": "markdown",
   "metadata": {},
   "source": [
    "### Relevant FIPs for the Analysis"
   ]
  },
  {
   "cell_type": "markdown",
   "metadata": {},
   "source": [
    "- FIP-73 (Contractionary Monetary Policy)\n",
    "- FIP-103 (Creation of the FEI Savings Rate)\n",
    "- FIP-105 (Volt)"
   ]
  },
  {
   "cell_type": "markdown",
   "metadata": {},
   "source": [
    "The key element that can be drawn from the core of existing FEI savings rate discussion is a tentative setting of a FEI savings rate of 3% per annum. Which forms one of the settings in the parameter sweep of the savings rate process which is the object of this analysis notebook.\n",
    "\n",
    "The parameter sweep has four settings which are rationalized as follows:\n",
    "- One setting for an *unrealistically low* savings rate (0.5%), which will demonstrate that the intended usage of the FEI savings deposit as a demand sink is unsuccessful.\n",
    "- One setting for the FIP-informed rate of 3%, which will demonstrate the FSD succesfully acting as a demand sink given it is greater than the modelled money market and liquidity pool yield rates\n",
    "- One setting where the FEI savings rate starts at 3% then is discontinued by governance halfway through the simulation, to showcase transitory effects of changes in the savings rate\n",
    "- One setting where the FEI savings rate is disabled - corresponding to the current setting for the FEI protocol."
   ]
  },
  {
   "cell_type": "markdown",
   "metadata": {},
   "source": [
    "### Analysis Sections"
   ]
  },
  {
   "cell_type": "code",
   "execution_count": null,
   "metadata": {},
   "outputs": [],
   "source": [
    "# Create a simulation for each analysis\n",
    "simulation_1 = copy.deepcopy(default_experiment.experiment.simulations[0])"
   ]
  },
  {
   "cell_type": "code",
   "execution_count": null,
   "metadata": {},
   "outputs": [],
   "source": [
    "cam_deposits = [\n",
    "    #\"fei_liquidity_pool_user_deposit\",\n",
    "    \"fei_money_market_user_deposit\",\n",
    "    \"fei_savings_user_deposit\",\n",
    "    \"fei_idle_user_deposit\",\n",
    "]"
   ]
  },
  {
   "cell_type": "code",
   "execution_count": null,
   "metadata": {},
   "outputs": [],
   "source": [
    "parameter_overrides = {\n",
    "    \"capital_allocation_fei_deposit_variables\": [\n",
    "            cam_deposits,\n",
    "    ],\n",
    "    \"capital_allocation_rebalance_duration\": [30],\n",
    "    \"fei_savings_rate_process\": [\n",
    "         lambda _run, timestep: 0.005,\n",
    "         lambda _run, timestep: 0.03,\n",
    "         lambda _run, timestep: 0.03 if timestep < 365 / 2 else 0,\n",
    "         lambda _run, timestep: 0,\n",
    "    ],\n",
    "     \"yield_withdrawal_period\": [None],  # Disable yield-withdrawal policy\n",
    "     \"yield_reinvest_period\": [None],  # Disable yield-reinvestment policy\n",
    "}\n"
   ]
  },
  {
   "cell_type": "code",
   "execution_count": null,
   "metadata": {},
   "outputs": [],
   "source": [
    "# Experiment configuration\n",
    "\n",
    "# Override default experiment number of Monte Carlo Runs\n",
    "simulation_1.runs = 10\n",
    "\n",
    "# Override default experiment System Initial State\n",
    "simulation_1.model.initial_state.update({})\n",
    "\n",
    "# Override default experiment System Parameters\n",
    "simulation_1.model.params.update(parameter_overrides)"
   ]
  },
  {
   "cell_type": "code",
   "execution_count": null,
   "metadata": {},
   "outputs": [],
   "source": [
    "# Analysis-specific setup"
   ]
  },
  {
   "cell_type": "code",
   "execution_count": null,
   "metadata": {
    "scrolled": true
   },
   "outputs": [],
   "source": [
    "# Experiment execution\n",
    "df, exceptions = run(simulation_1)"
   ]
  },
  {
   "cell_type": "code",
   "execution_count": null,
   "metadata": {},
   "outputs": [],
   "source": [
    "# Post-processing and visualizations"
   ]
  },
  {
   "cell_type": "code",
   "execution_count": null,
   "metadata": {},
   "outputs": [],
   "source": [
    "# Decide whether to display additional information in analysis\n",
    "display_additional_info = True"
   ]
  },
  {
   "cell_type": "markdown",
   "metadata": {},
   "source": [
    "### 0. Parameter Sweeps for the Analysis"
   ]
  },
  {
   "cell_type": "markdown",
   "metadata": {},
   "source": [
    "In this analysis we look at the effect of setting the FEI savings rate in four ways:\n",
    "- As a constant process **below** the money market supply rate\n",
    "- As a constant process **above** the money market supply rate\n",
    "- As a step function which encodes governance updates to the savings rate at specific timesteps\n",
    "- Disabled\n",
    "\n",
    "We assume the demand for populating each deposit will depend on the rate of yield offered by the deposit, and gauge to what extent the difference in deposit yield affects how deposits are populated. We also look at the effect this has on Liquidity Pools, and a few other downstream effects on mechanism-specific metrics."
   ]
  },
  {
   "cell_type": "markdown",
   "metadata": {},
   "source": [
    "#### Visualization of parameter sweep:"
   ]
  },
  {
   "cell_type": "markdown",
   "metadata": {},
   "source": [
    "We sweep the fei savings rate process for three values, two constant processes and a step function"
   ]
  },
  {
   "cell_type": "code",
   "execution_count": null,
   "metadata": {},
   "outputs": [],
   "source": [
    "df.query('run==1').plot(x='timestamp', y=['fei_savings_rate'], color='subset')"
   ]
  },
  {
   "cell_type": "markdown",
   "metadata": {},
   "source": [
    "A visualization of the volatile asset price trajectories used in each monte carlo run:"
   ]
  },
  {
   "cell_type": "code",
   "execution_count": null,
   "metadata": {},
   "outputs": [],
   "source": [
    "df.query('subset==0').plot(x='timestamp', y=['volatile_asset_price'], color='run')"
   ]
  },
  {
   "cell_type": "code",
   "execution_count": null,
   "metadata": {},
   "outputs": [],
   "source": [
    "use_deposits = [key + '_balance' for key in cam_deposits]"
   ]
  },
  {
   "cell_type": "markdown",
   "metadata": {},
   "source": [
    "### 1. CAM Weights and Deposit Allocation Proportions"
   ]
  },
  {
   "cell_type": "markdown",
   "metadata": {},
   "source": [
    "#### 1.1 FEI Savings Rate Setting 1"
   ]
  },
  {
   "cell_type": "code",
   "execution_count": null,
   "metadata": {},
   "outputs": [],
   "source": [
    "get_weight_evolution_average(df, 0, use_deposits).plot(\n",
    "    title='CAM Weight Evolution for FEI Savings Rate Setting 1, across multiple runs',\n",
    "     labels={\n",
    "         \"value\": \"CAM Weights\",\n",
    "     },\n",
    ")"
   ]
  },
  {
   "cell_type": "code",
   "execution_count": null,
   "metadata": {},
   "outputs": [],
   "source": [
    "#fig = px.area(df.query('subset==0'), x='timestamp', y=use_deposits, groupnorm=\"percent\")\n",
    "fig = px.area(get_average_CAM_deposits(df, 0, use_deposits), x='timestamp', y=use_deposits, groupnorm=\"percent\")\n",
    "\n",
    "fig.update_layout(\n",
    "    title=\"FEI Capital Allocation for FEI Savings Rate Setting 1\",\n",
    "    xaxis_title=\"Timestamp\",\n",
    "    yaxis_title=\"FEI Capital Allocation\",\n",
    "    legend=dict(\n",
    "        yanchor=\"top\",\n",
    "        y=0.98,\n",
    "        xanchor=\"right\",\n",
    "        x=0.99\n",
    "    )\n",
    ")\n",
    "fig.show()"
   ]
  },
  {
   "cell_type": "code",
   "execution_count": null,
   "metadata": {},
   "outputs": [],
   "source": [
    "final_deposit_avgs = get_final_deposit_avgs(df, use_deposits, 0)\n",
    "\n",
    "fig = px.pie(np.round(final_deposit_avgs, 4), values='value', names='deposit', hole=0.3, opacity=0.8)\n",
    "fig.update_traces(sort=False) \n",
    "fig.show()"
   ]
  },
  {
   "cell_type": "markdown",
   "metadata": {},
   "source": [
    "In this setting, the FEI savings rate is lower than the money market supply rate. Even with deposit risk taken into consideration, aggregate demand for the money market yield avenue prevails over the usage of the Fei Savings deposit."
   ]
  },
  {
   "cell_type": "markdown",
   "metadata": {},
   "source": [
    "#### 1.2 FEI Savings Rate Setting 2"
   ]
  },
  {
   "cell_type": "code",
   "execution_count": null,
   "metadata": {},
   "outputs": [],
   "source": [
    "get_weight_evolution_average(df, 1, use_deposits).plot(\n",
    "    title='CAM Weight Evolution for FEI Savings Rate Setting 2, across multiple runs',\n",
    "     labels={\n",
    "         \"value\": \"CAM Weights\",\n",
    "     },\n",
    ")"
   ]
  },
  {
   "cell_type": "code",
   "execution_count": null,
   "metadata": {},
   "outputs": [],
   "source": [
    "#fig = px.area(df.query('subset==1'), x='timestamp', y=use_deposits, groupnorm=\"percent\")\n",
    "fig = px.area(get_average_CAM_deposits(df, 1, use_deposits), x='timestamp', y=use_deposits, groupnorm=\"percent\")\n",
    "\n",
    "fig.update_layout(\n",
    "    title=\"FEI Capital Allocation for FEI Savings Rate Setting 2\",\n",
    "    xaxis_title=\"Timestamp\",\n",
    "    yaxis_title=\"FEI Capital Allocation\",\n",
    "    legend=dict(\n",
    "        yanchor=\"top\",\n",
    "        y=0.98,\n",
    "        xanchor=\"right\",\n",
    "        x=0.99\n",
    "    )\n",
    ")\n",
    "\n",
    "fig.show()"
   ]
  },
  {
   "cell_type": "code",
   "execution_count": null,
   "metadata": {},
   "outputs": [],
   "source": [
    "final_deposit_avgs = get_final_deposit_avgs(df, use_deposits, 1)\n",
    "\n",
    "fig = px.pie(np.round(final_deposit_avgs, 4), values='value', names='deposit', hole=0.3, opacity=0.8)\n",
    "fig.update_traces(sort=False)\n",
    "fig.show()"
   ]
  },
  {
   "cell_type": "markdown",
   "metadata": {},
   "source": [
    "In this setting, the FEI savings rate is higher than the money market supply rate. Even with deposit risk taken into consideration, aggregate demand for the FEI savings deposit avenue prevails over the usage of the money market, acting as a demand sink for FEI."
   ]
  },
  {
   "cell_type": "markdown",
   "metadata": {},
   "source": [
    "#### 1.3 FEI Savings Rate Setting 3"
   ]
  },
  {
   "cell_type": "code",
   "execution_count": null,
   "metadata": {},
   "outputs": [],
   "source": [
    "get_weight_evolution_average(df, 2, use_deposits).plot(\n",
    "    title='CAM Weight Evolution for FEI Savings Rate Setting 3, across multiple runs',\n",
    "     labels={\n",
    "         \"value\": \"CAM Weights\",\n",
    "     },\n",
    ")"
   ]
  },
  {
   "cell_type": "code",
   "execution_count": null,
   "metadata": {},
   "outputs": [],
   "source": [
    "#fig = px.area(df.query('subset==2'), x='timestamp', y=use_deposits, groupnorm=\"percent\")\n",
    "fig = px.area(get_average_CAM_deposits(df, 2, use_deposits), x='timestamp', y=use_deposits, groupnorm=\"percent\")\n",
    "\n",
    "\n",
    "fig.update_layout(\n",
    "    title=\"FEI Capital Allocation for FEI Savings Rate Setting 3\",\n",
    "    xaxis_title=\"Timestamp\",\n",
    "    yaxis_title=\"FEI Capital Allocation\",\n",
    "    legend=dict(\n",
    "        yanchor=\"top\",\n",
    "        y=0.98,\n",
    "        xanchor=\"right\",\n",
    "        x=0.99\n",
    "    )\n",
    ")\n",
    "\n",
    "fig.show()"
   ]
  },
  {
   "cell_type": "code",
   "execution_count": null,
   "metadata": {},
   "outputs": [],
   "source": [
    "final_deposit_avgs = get_final_deposit_avgs(df, use_deposits, 2)\n",
    "\n",
    "fig = px.pie(np.round(final_deposit_avgs, 4), values='value', names='deposit', hole=0.3, opacity=0.8)\n",
    "fig.update_traces(sort=False) \n",
    "fig.show()"
   ]
  },
  {
   "cell_type": "markdown",
   "metadata": {},
   "source": [
    "In this setting, the FEI savings rate is higher than the money market supply rate. Even with deposit risk taken into consideration, aggregate demand for the FEI savings deposit avenue prevails over the usage of the money market, acting as a demand sink for FEI, while the savings rate is active.\n",
    "\n",
    "We then notice the transitory period of roughly 30 days around february 2023, induced by the rebalance duration parameter, in which user FEI moves out of the Fei Savings Deposit and into the money market as a result of the discontinuation of the Fei Savings rate."
   ]
  },
  {
   "cell_type": "markdown",
   "metadata": {},
   "source": [
    "#### 1.4 FEI Savings Rate Setting 4"
   ]
  },
  {
   "cell_type": "code",
   "execution_count": null,
   "metadata": {},
   "outputs": [],
   "source": [
    "get_weight_evolution_average(df, 3, use_deposits).plot(\n",
    "    title='CAM Weight Evolution for FEI Savings Rate Setting 4, across multiple runs',\n",
    "     labels={\n",
    "         \"value\": \"CAM Weights\",\n",
    "     },\n",
    ")"
   ]
  },
  {
   "cell_type": "code",
   "execution_count": null,
   "metadata": {},
   "outputs": [],
   "source": [
    "#fig = px.area(df.query('subset==2'), x='timestamp', y=use_deposits, groupnorm=\"percent\")\n",
    "fig = px.area(get_average_CAM_deposits(df, 3, use_deposits), x='timestamp', y=use_deposits, groupnorm=\"percent\")\n",
    "\n",
    "\n",
    "fig.update_layout(\n",
    "    title=\"FEI Capital Allocation for FEI Savings Rate Setting 4\",\n",
    "    xaxis_title=\"Timestamp\",\n",
    "    yaxis_title=\"FEI Capital Allocation\",\n",
    "    legend=dict(\n",
    "        yanchor=\"top\",\n",
    "        y=0.98,\n",
    "        xanchor=\"right\",\n",
    "        x=0.99\n",
    "    )\n",
    ")\n",
    "\n",
    "fig.show()"
   ]
  },
  {
   "cell_type": "code",
   "execution_count": null,
   "metadata": {},
   "outputs": [],
   "source": [
    "final_deposit_avgs = get_final_deposit_avgs(df, use_deposits, 3)\n",
    "\n",
    "fig = px.pie(np.round(final_deposit_avgs, 4), values='value', names='deposit', hole=0.3, opacity=0.8)\n",
    "fig.update_traces(sort=False) \n",
    "fig.show()"
   ]
  },
  {
   "cell_type": "markdown",
   "metadata": {},
   "source": [
    "Here, since the Fei Savings Rate is disabled, it is not a competing yield avenue, meaning aggregate demand for yield is split between money markets and liquidity pool trading fees."
   ]
  },
  {
   "cell_type": "markdown",
   "metadata": {},
   "source": [
    "### 2. User Circulating FEI Deposit Evolution"
   ]
  },
  {
   "cell_type": "markdown",
   "metadata": {},
   "source": [
    "#### 2.1 Total User Circulating FEI"
   ]
  },
  {
   "cell_type": "code",
   "execution_count": null,
   "metadata": {},
   "outputs": [],
   "source": [
    "metric_functions = get_metric_computation_functions()"
   ]
  },
  {
   "cell_type": "code",
   "execution_count": null,
   "metadata": {},
   "outputs": [],
   "source": [
    "fig = get_averages_by_subset(df, ['total_user_circulating_fei']).plot(\n",
    "    #x='timestep',\n",
    "    y='total_user_circulating_fei',\n",
    "    color='subset'\n",
    ")\n",
    "\n",
    "fig.update_layout(\n",
    "    title=\"Total User Circulating FEI\",\n",
    "    xaxis_title=\"Timestamp\",\n",
    "    yaxis_title=\"Total User Circulating FEI\",\n",
    "    legend=dict(\n",
    "        yanchor=\"top\",\n",
    "        y=0.98,\n",
    "        xanchor=\"left\",\n",
    "        x=0.01\n",
    "    )\n",
    ")\n",
    "\n",
    "fig.show()"
   ]
  },
  {
   "cell_type": "markdown",
   "metadata": {},
   "source": [
    "What is the implicit impact of the introduction of a FEI savings deposit on overall User Circulating FEI?\n",
    "\n",
    "With an extra yield-bearning avenue for users to hold FEI, mint/redemption dynamics as a result of liquidity pool and money market FEI and asset circulation will differ. As a result, so will the total user circulating FEI.\n",
    "\n",
    "We can analyze this by looking at the empiricial probability of the total user circulating FEI hitting predetermined levels in cases where the FEI savings deposit is enabled vs disabled."
   ]
  },
  {
   "cell_type": "code",
   "execution_count": null,
   "metadata": {},
   "outputs": [],
   "source": [
    "if display_additional_info:\n",
    "\n",
    "    md_df = get_variable_mean_difference(df, 'total_user_circulating_fei')\n",
    "    vd_prob = get_variable_difference_emp_prob(md_df)\n",
    "    print_emp_prob_message(vd_prob)\n",
    "    \n",
    "    print('\\n')\n",
    "    \n",
    "    s_df = get_state_variable_emp_dist(df, 'total_user_circulating_fei')\n",
    "    get_empirical_probability_for_deposit(s_df, 200_000_000, var_type='state_var')\n",
    "    \n",
    "    fig = s_df.T.hist(bins=30)\n",
    "    fig.show()\n",
    "    \n",
    "    metrics_df = compute_metric_set_for_variable(df, metric_functions, 'total_user_circulating_fei')\n",
    "    display(metrics_df)"
   ]
  },
  {
   "cell_type": "markdown",
   "metadata": {},
   "source": [
    "<b>Conclusion:</b> As we can see, in scenarios where the FEI savings rate is higher, total user circulating FEI is lower - attesting to the functionality of the FEI savings deposit as a demand sink for FEI. This is seen by the lower average final value attained, in combination with the resulting empirical probability of circulating FEI being higher in scenarios where a fei demand sink is present being very low (around 0.25)."
   ]
  },
  {
   "cell_type": "markdown",
   "metadata": {},
   "source": [
    "### CAM Constituent Deposits:"
   ]
  },
  {
   "cell_type": "markdown",
   "metadata": {},
   "source": [
    "What is the average impact of monetary policy settings of a fei savings rate in relation to other yield bearing and idle avenues for user circulating FEI?\n",
    "\n",
    "We can analyze this by looking at the empiricial probability of the size of the deposit FEI hitting predetermined levels of overall proportion of user circulating FEI attained by the deposit."
   ]
  },
  {
   "cell_type": "markdown",
   "metadata": {},
   "source": [
    "#### 2.2 FEI Liquidity Pool Deposit"
   ]
  },
  {
   "cell_type": "code",
   "execution_count": null,
   "metadata": {},
   "outputs": [],
   "source": [
    "fig = get_averages_by_subset(df, ['fei_liquidity_pool_user_deposit_balance']).plot(\n",
    "    #x='timestamp',\n",
    "    y='fei_liquidity_pool_user_deposit_balance',\n",
    "    color='subset',\n",
    ")\n",
    "\n",
    "fig.update_layout(\n",
    "    title='User FEI Liquidity Pool Balance',\n",
    "    xaxis_title=\"Timestamp\",\n",
    "    yaxis_title=\"User FEI LP Balance\",\n",
    "\n",
    "    legend=dict(\n",
    "        yanchor=\"top\",\n",
    "        y=0.98,\n",
    "        xanchor=\"left\",\n",
    "        x=0.01\n",
    "    )\n",
    ")\n",
    "\n",
    "fig.show()"
   ]
  },
  {
   "cell_type": "code",
   "execution_count": null,
   "metadata": {},
   "outputs": [],
   "source": [
    "if display_additional_info:\n",
    "\n",
    "    md_df = get_variable_mean_difference(df, 'fei_liquidity_pool_user_deposit_balance')\n",
    "    vd_prob = get_variable_difference_emp_prob(md_df)\n",
    "    print_emp_prob_message(vd_prob)\n",
    "    \n",
    "    print('\\n')\n",
    "    \n",
    "    p_df = get_deposit_proportion(df, 'fei_liquidity_pool_user_deposit_balance')\n",
    "    get_empirical_probability_for_deposit(p_df, 0.1)\n",
    "\n",
    "    fig = p_df.T.hist(bins=30)\n",
    "    fig.show()\n",
    "    \n",
    "    metrics_df = compute_metric_set_for_variable(df, metric_functions, 'fei_liquidity_pool_user_deposit_balance')\n",
    "    display(metrics_df)"
   ]
  },
  {
   "cell_type": "markdown",
   "metadata": {},
   "source": [
    "#### 2.3 FEI Money Market Deposit"
   ]
  },
  {
   "cell_type": "code",
   "execution_count": null,
   "metadata": {},
   "outputs": [],
   "source": [
    "fig = get_averages_by_subset(df, ['fei_money_market_user_deposit_balance']).plot(\n",
    "    #x='timestamp',\n",
    "    y='fei_money_market_user_deposit_balance',\n",
    "    color='subset',\n",
    ")\n",
    "\n",
    "fig.update_layout(\n",
    "    title='User FEI Money Market Balance',\n",
    "    xaxis_title=\"Timestamp\",\n",
    "    yaxis_title=\"User FEI MM Balance\",\n",
    "\n",
    "    legend=dict(\n",
    "        yanchor=\"top\",\n",
    "        y=0.98,\n",
    "        xanchor=\"left\",\n",
    "        x=0.01\n",
    "    )\n",
    ")\n",
    "\n",
    "fig.show()"
   ]
  },
  {
   "cell_type": "code",
   "execution_count": null,
   "metadata": {},
   "outputs": [],
   "source": [
    "if display_additional_info:\n",
    "\n",
    "    md_df = get_variable_mean_difference(df, 'fei_money_market_user_deposit_balance')\n",
    "    vd_prob = get_variable_difference_emp_prob(md_df)\n",
    "    print_emp_prob_message(vd_prob)\n",
    "    \n",
    "    print('\\n')\n",
    "    \n",
    "    p_df = get_deposit_proportion(df, 'fei_money_market_user_deposit_balance')\n",
    "    get_empirical_probability_for_deposit(p_df, 0.3)\n",
    "\n",
    "    fig = p_df.T.hist(bins=30)\n",
    "    fig.show()\n",
    "    \n",
    "    metrics_df = compute_metric_set_for_variable(df, metric_functions, 'fei_money_market_user_deposit_balance')\n",
    "    display(metrics_df)"
   ]
  },
  {
   "cell_type": "markdown",
   "metadata": {},
   "source": [
    "#### 2.4 FEI Savings User Deposit"
   ]
  },
  {
   "cell_type": "code",
   "execution_count": null,
   "metadata": {},
   "outputs": [],
   "source": [
    "fig = get_averages_by_subset(df, ['fei_savings_user_deposit_balance']).plot(\n",
    "    #x='timestep',\n",
    "    y='fei_savings_user_deposit_balance',\n",
    "    color='subset',\n",
    ")\n",
    "\n",
    "fig.update_layout(\n",
    "    title='User FEI Savings Deposit Balance',\n",
    "    xaxis_title=\"Timestamp\",\n",
    "    yaxis_title=\"User FEI SD Balance\",\n",
    "\n",
    "    legend=dict(\n",
    "        yanchor=\"top\",\n",
    "        y=0.98,\n",
    "        xanchor=\"left\",\n",
    "        x=0.01\n",
    "    )\n",
    ")\n",
    "\n",
    "fig.show()"
   ]
  },
  {
   "cell_type": "code",
   "execution_count": null,
   "metadata": {},
   "outputs": [],
   "source": [
    "if display_additional_info:\n",
    "\n",
    "    md_df = get_variable_mean_difference(df, 'fei_savings_user_deposit_balance')\n",
    "    vd_prob = get_variable_difference_emp_prob(md_df)\n",
    "    print_emp_prob_message(vd_prob)\n",
    "\n",
    "    print('\\n')\n",
    "    \n",
    "    p_df = get_deposit_proportion(df, 'fei_savings_user_deposit_balance')\n",
    "    get_empirical_probability_for_deposit(p_df, 0.6)\n",
    "\n",
    "    fig = p_df.T.hist(bins=30)\n",
    "    fig.show()\n",
    "    \n",
    "    metrics_df = compute_metric_set_for_variable(df, metric_functions, 'fei_savings_user_deposit_balance')\n",
    "    display(metrics_df)"
   ]
  },
  {
   "cell_type": "markdown",
   "metadata": {},
   "source": [
    "#### 2.5 FEI Idle Deposit"
   ]
  },
  {
   "cell_type": "code",
   "execution_count": null,
   "metadata": {},
   "outputs": [],
   "source": [
    "fig = get_averages_by_subset(df, ['fei_idle_user_deposit_balance']).plot(\n",
    "    #x='timestep',\n",
    "    y='fei_idle_user_deposit_balance',\n",
    "    color='subset',\n",
    ")\n",
    "\n",
    "fig.update_layout(\n",
    "    title='User FEI Savings Idle Balance',\n",
    "    xaxis_title=\"Timestamp\",\n",
    "    yaxis_title=\"User FEI Idle Balance\",\n",
    "\n",
    "    legend=dict(\n",
    "        yanchor=\"top\",\n",
    "        y=0.98,\n",
    "        xanchor=\"left\",\n",
    "        x=0.01\n",
    "    )\n",
    ")\n",
    "\n",
    "fig.show()"
   ]
  },
  {
   "cell_type": "code",
   "execution_count": null,
   "metadata": {},
   "outputs": [],
   "source": [
    "if display_additional_info:\n",
    "\n",
    "    md_df = get_variable_mean_difference(df, 'fei_idle_user_deposit_balance')\n",
    "    vd_prob = get_variable_difference_emp_prob(md_df)\n",
    "    print_emp_prob_message(vd_prob)\n",
    "\n",
    "    print('\\n')\n",
    "    \n",
    "    p_df = get_deposit_proportion(df, 'fei_idle_user_deposit_balance')\n",
    "    get_empirical_probability_for_deposit(p_df, 0.1)\n",
    "\n",
    "    fig = p_df.T.hist(bins=30)\n",
    "    fig.show()\n",
    "    \n",
    "    metrics_df = compute_metric_set_for_variable(df, metric_functions, 'fei_savings_user_deposit_balance')\n",
    "    display(metrics_df)"
   ]
  },
  {
   "cell_type": "markdown",
   "metadata": {},
   "source": [
    "### 3 State variables for Mechanisms associated to FEI deposits"
   ]
  },
  {
   "cell_type": "markdown",
   "metadata": {},
   "source": [
    "#### 3.1 FEI Money Market Dynamics"
   ]
  },
  {
   "cell_type": "code",
   "execution_count": null,
   "metadata": {},
   "outputs": [],
   "source": [
    "get_averages_by_subset(df, ['fei_money_market_borrowed']).plot(\n",
    "    y=['fei_money_market_borrowed'],\n",
    "    color='subset'\n",
    ")"
   ]
  },
  {
   "cell_type": "code",
   "execution_count": null,
   "metadata": {},
   "outputs": [],
   "source": [
    "get_averages_by_subset(df, ['fei_money_market_utilization']).plot(\n",
    "    y=['fei_money_market_utilization'],\n",
    "    color='subset'\n",
    ")"
   ]
  },
  {
   "cell_type": "code",
   "execution_count": null,
   "metadata": {},
   "outputs": [],
   "source": [
    "get_averages_by_subset(df, ['fei_money_market_supply_rate', 'fei_money_market_borrow_rate']).plot(\n",
    "    y=['fei_money_market_supply_rate', 'fei_money_market_borrow_rate'],\n",
    "    color='subset'\n",
    ")"
   ]
  },
  {
   "cell_type": "markdown",
   "metadata": {},
   "source": [
    "#### 3.2 FEI Liquidity Pool Dynamics"
   ]
  },
  {
   "cell_type": "code",
   "execution_count": null,
   "metadata": {},
   "outputs": [],
   "source": [
    "get_averages_by_subset(df, ['liquidity_pool_trading_fees']).plot(\n",
    "    y=['liquidity_pool_trading_fees'],\n",
    "    color='subset'\n",
    ")"
   ]
  },
  {
   "cell_type": "code",
   "execution_count": null,
   "metadata": {},
   "outputs": [],
   "source": [
    "get_averages_by_subset(df, ['fei_liquidity_pool_user_deposit_yield_rate']).plot(\n",
    "    y=['fei_liquidity_pool_user_deposit_yield_rate'],\n",
    "    color='subset'\n",
    ")"
   ]
  },
  {
   "cell_type": "markdown",
   "metadata": {},
   "source": [
    "#### 3.1 FEI Savings Deposit Dynamics"
   ]
  },
  {
   "cell_type": "code",
   "execution_count": null,
   "metadata": {},
   "outputs": [],
   "source": [
    "df.query('run==1').plot(x='timestamp', y=['fei_savings_rate'], color='subset')"
   ]
  },
  {
   "cell_type": "markdown",
   "metadata": {},
   "source": [
    "## 4. Conclusion"
   ]
  },
  {
   "cell_type": "markdown",
   "metadata": {},
   "source": [
    "From this analyisis we can make the following qualitative conclusion - when aggregate demand for deposits is based on a function of competing deposit yield rates and associated risk as the main driver of aggregate demand for capital allocation, deposit population will converge to the mechanism offering the highest yield.\n",
    "\n",
    "In Fei Savings Rate setting 3, given the non-instantaneous rebalance velocity, transitory periods are present in which user capital flows out or into the Fei Savings deposit based on the rate imposed by governance.\n",
    "\n",
    "We furthermore notice the existance of downstream effects on money market utilization and liquidity pool yield, more greatly sustained when both these deposits have higher affluence.\n",
    "\n",
    "We finally notice some minor downstream effects on the collateralization ratio. Here, this process is affected by changes in PCV value and PCV yield accrued, as well as changes in user circulating FEI, the former affected by money market usage and the latter by liquidity pool usage."
   ]
  },
  {
   "cell_type": "markdown",
   "metadata": {},
   "source": [
    "# Analysis 2: Sustainability of FEI Savings Rate with protocol revenue"
   ]
  },
  {
   "cell_type": "markdown",
   "metadata": {},
   "source": [
    "In the previous analysis we have inspected the effect of including a FEI savings rate on the circulation of user FEI driven by aggregate demand for yield.\n",
    "\n",
    "Here, we are concerned with the sustainability of the FEI savings rate in relation to protocol revenue.\n",
    "In practice, we attempt to answer how likely is it that protocol revenue can cover fei savings rate expenditure under different settings of the FEI savings  rate."
   ]
  },
  {
   "cell_type": "markdown",
   "metadata": {},
   "source": [
    "#### Analysis Setup"
   ]
  },
  {
   "cell_type": "markdown",
   "metadata": {},
   "source": [
    "- Protocol revenue is the sum of PSM redemption fees and PCV yield\n",
    "- FEI Savings Rate expenditure is the amount of FEI distributed to users of the FEI savings deposit, at the current size of the deposit and the current rate"
   ]
  },
  {
   "cell_type": "markdown",
   "metadata": {},
   "source": [
    "We begin by looking at the average over all monte carlo runs of the evolution of FEI savings rate expenditure, PSM redemption fees, protocol revenue, and the KPI of interest, protocol profit."
   ]
  },
  {
   "cell_type": "code",
   "execution_count": null,
   "metadata": {},
   "outputs": [],
   "source": [
    "get_averages_by_subset(df, ['fsr_expenditure']).plot(\n",
    "    #x='timestamp',\n",
    "    y=['fsr_expenditure'],\n",
    "    color='subset'\n",
    ")"
   ]
  },
  {
   "cell_type": "code",
   "execution_count": null,
   "metadata": {},
   "outputs": [],
   "source": [
    "get_averages_by_subset(df, ['psm_mint_redeem_fees']).plot(\n",
    "    #x='timestamp',\n",
    "    y=['psm_mint_redeem_fees'],\n",
    "    color='subset'\n",
    ")"
   ]
  },
  {
   "cell_type": "code",
   "execution_count": null,
   "metadata": {},
   "outputs": [],
   "source": [
    "get_averages_by_subset(df, ['protocol_revenue']).plot(\n",
    "    #x='timestamp',\n",
    "    y=['protocol_revenue'],\n",
    "    color='subset',\n",
    "    title=\"Protocol Revenue\",\n",
    ")"
   ]
  },
  {
   "cell_type": "code",
   "execution_count": null,
   "metadata": {},
   "outputs": [],
   "source": [
    "(365 * get_averages_by_subset(df, ['protocol_revenue'])).plot(\n",
    "    #x='timestamp',\n",
    "    y=['protocol_revenue'],\n",
    "    color='subset',\n",
    "    title=\"Annualized Protocol Revenue\",\n",
    ")"
   ]
  },
  {
   "cell_type": "code",
   "execution_count": null,
   "metadata": {},
   "outputs": [],
   "source": [
    "ratio_avg_df = get_averages_by_subset(df, ['total_pcv'])\n",
    "ratio_avg_df['annualized_pr_to_total_pcv'] = (\n",
    "    (365 * get_averages_by_subset(df, ['protocol_revenue'])['protocol_revenue']) /\n",
    "     get_averages_by_subset(df, ['total_pcv'])['total_pcv']\n",
    ")\n",
    "\n",
    "ratio_avg_df.plot(\n",
    "    #x='timestamp',\n",
    "    y=['annualized_pr_to_total_pcv'],\n",
    "    color='subset',\n",
    "    title=\"Ratio of Annualized Protocol Revenue to Total PCV\",\n",
    ")"
   ]
  },
  {
   "cell_type": "markdown",
   "metadata": {},
   "source": [
    "### Protocol Profit"
   ]
  },
  {
   "cell_type": "code",
   "execution_count": null,
   "metadata": {},
   "outputs": [],
   "source": [
    "get_averages_by_subset(df, ['protocol_profit']).plot(\n",
    "    y=['protocol_profit'],\n",
    "    color='subset'\n",
    ")"
   ]
  },
  {
   "cell_type": "code",
   "execution_count": null,
   "metadata": {},
   "outputs": [],
   "source": [
    "ts = '2022-10-01T12'\n",
    "ts_df = get_first_negative_pr_timestep(df)\n",
    "get_emp_prob_timestep(ts_df, ts)"
   ]
  },
  {
   "cell_type": "markdown",
   "metadata": {},
   "source": [
    "Above, we compute the empirical probability that the profit is negative within 3 months of the start of the simulation. In the original sweep of savings rates, and conditional on the PCV yield and redemption fees being at their current value, the protocol can maintain each level of savings rate throughout the simulation."
   ]
  },
  {
   "cell_type": "markdown",
   "metadata": {},
   "source": [
    "### Synthetic Protocol Profit"
   ]
  },
  {
   "cell_type": "markdown",
   "metadata": {},
   "source": [
    "We can look at 'synthetic' protocol profit and probability of budget deficit by setting higher levels of the FEI savings rate for realized values of protocol revenue."
   ]
  },
  {
   "cell_type": "code",
   "execution_count": null,
   "metadata": {},
   "outputs": [],
   "source": [
    "# Create a simulation for each analysis\n",
    "simulation_2 = copy.deepcopy(default_experiment.experiment.simulations[0])"
   ]
  },
  {
   "cell_type": "code",
   "execution_count": null,
   "metadata": {},
   "outputs": [],
   "source": [
    "parameter_overrides_2 = {\n",
    "    \"fei_savings_rate_process\": [\n",
    "         lambda _run, timestep: 0.1,\n",
    "         lambda _run, timestep: 0.12,\n",
    "         lambda _run, timestep: 0.15,\n",
    "    ],\n",
    "    \"volatile_asset_price_process\": [\n",
    "        lambda _run, timestep: 2_000 + generate_normal_rv(timestep, 1, 1),\n",
    "        lambda _run, timestep: 2_000 + generate_normal_rv(timestep, 1, 1),\n",
    "        lambda _run, timestep: 2_000 * (1 + timestep * 0.2 / 365) + generate_normal_rv(timestep, 1, 1),\n",
    "    ],\n",
    "}\n"
   ]
  },
  {
   "cell_type": "code",
   "execution_count": null,
   "metadata": {},
   "outputs": [],
   "source": [
    "# Experiment configuration\n",
    "\n",
    "# Override default experiment number of Monte Carlo Runs\n",
    "simulation_2.runs = 1\n",
    "\n",
    "# Override default experiment System Initial State\n",
    "simulation_2.model.initial_state.update({})\n",
    "\n",
    "# Override default experiment System Parameters\n",
    "simulation_2.model.params.update(parameter_overrides_2)"
   ]
  },
  {
   "cell_type": "code",
   "execution_count": null,
   "metadata": {},
   "outputs": [],
   "source": [
    "# Experiment execution\n",
    "df2, exceptions2 = run(simulation_2)"
   ]
  },
  {
   "cell_type": "code",
   "execution_count": null,
   "metadata": {},
   "outputs": [],
   "source": [
    "get_averages_by_subset(df2, ['pcv_yield']).plot(\n",
    "    #x='timestamp',\n",
    "    y=['pcv_yield'],\n",
    "    color='subset'\n",
    ")"
   ]
  },
  {
   "cell_type": "code",
   "execution_count": null,
   "metadata": {},
   "outputs": [],
   "source": [
    "get_averages_by_subset(df2, ['protocol_profit']).plot(\n",
    "    #x='timestamp',\n",
    "    y=['protocol_profit'],\n",
    "    color='subset'\n",
    ")"
   ]
  },
  {
   "cell_type": "code",
   "execution_count": null,
   "metadata": {},
   "outputs": [],
   "source": [
    "ts = '2022-08-07T12'\n",
    "ts_df = get_first_negative_pr_timestep(df2)\n",
    "get_emp_prob_timestep(ts_df, ts)"
   ]
  },
  {
   "cell_type": "code",
   "execution_count": null,
   "metadata": {},
   "outputs": [],
   "source": [
    "s_df = get_state_variable_emp_dist(df2, 'protocol_profit')\n",
    "get_empirical_probability_for_deposit(-s_df, 50_000, var_type='state_var')"
   ]
  },
  {
   "cell_type": "markdown",
   "metadata": {},
   "source": [
    "#### Conclusion"
   ]
  },
  {
   "cell_type": "markdown",
   "metadata": {},
   "source": [
    "Protocol revenue and expenditure in practice are dependent on more complex dynamics that what the radCAD ecosystem model implements at its current level of abstraction. However, this simple experiment confirms the intuition that a constant FEI savings rate process in the order of 10-15% APY is not sustainable in the market conditions the simulation puts forth."
   ]
  }
 ],
 "metadata": {
  "kernelspec": {
   "display_name": "Python 3",
   "language": "python",
   "name": "python3"
  },
  "language_info": {
   "codemirror_mode": {
    "name": "ipython",
    "version": 3
   },
   "file_extension": ".py",
   "mimetype": "text/x-python",
   "name": "python",
   "nbconvert_exporter": "python",
   "pygments_lexer": "ipython3",
   "version": "3.9.7"
  }
 },
 "nbformat": 4,
 "nbformat_minor": 4
}
