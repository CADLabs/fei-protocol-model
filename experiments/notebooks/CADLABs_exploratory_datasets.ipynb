{
 "cells": [
  {
   "cell_type": "code",
   "execution_count": null,
   "id": "f1532d0b",
   "metadata": {
    "ExecuteTime": {
     "end_time": "2022-05-26T16:56:10.834163Z",
     "start_time": "2022-05-26T16:56:10.413171Z"
    }
   },
   "outputs": [],
   "source": [
    "import matplotlib.pyplot as plt\n",
    "import numpy as np\n",
    "import pandas as pd\n",
    "import toolplot\n",
    "import tooltime\n",
    "\n",
    "from ctc import evm\n",
    "from ctc.protocols import fei_utils\n",
    "from ctc.protocols import chainlink_utils\n",
    "\n",
    "%matplotlib inline"
   ]
  },
  {
   "cell_type": "code",
   "execution_count": null,
   "id": "34b9679e",
   "metadata": {
    "ExecuteTime": {
     "end_time": "2022-05-26T16:56:10.837440Z",
     "start_time": "2022-05-26T16:56:10.835560Z"
    }
   },
   "outputs": [],
   "source": [
    "toolplot.setup_plot_formatting()"
   ]
  },
  {
   "cell_type": "code",
   "execution_count": null,
   "id": "0b62786e",
   "metadata": {
    "ExecuteTime": {
     "end_time": "2022-05-26T16:56:11.314076Z",
     "start_time": "2022-05-26T16:56:10.838563Z"
    }
   },
   "outputs": [],
   "source": [
    "# specify blocks\n",
    "\n",
    "# start_block = 14000000\n",
    "start_block = 13500000\n",
    "end_block = await evm.async_get_latest_block_number()\n",
    "n_samples = 1000\n",
    "\n",
    "blocks = np.linspace(start_block, end_block, n_samples).astype(int)\n",
    "print('start_block:', start_block)\n",
    "print('end_block:', end_block)\n",
    "print('total blocks:', end_block - start_block + 1)\n",
    "print('blocks sampled:', len(blocks))"
   ]
  },
  {
   "cell_type": "markdown",
   "id": "ae8bbc5d",
   "metadata": {
    "ExecuteTime": {
     "end_time": "2022-05-26T15:34:32.119842Z",
     "start_time": "2022-05-26T15:34:32.116271Z"
    }
   },
   "source": [
    "# Gather Data"
   ]
  },
  {
   "cell_type": "code",
   "execution_count": null,
   "id": "a48bee35",
   "metadata": {
    "ExecuteTime": {
     "end_time": "2022-05-26T16:56:41.536440Z",
     "start_time": "2022-05-26T16:56:11.317255Z"
    }
   },
   "outputs": [],
   "source": [
    "# gather pcv stats\n",
    "\n",
    "pcv_stats = await fei_utils.async_get_pcv_stats_by_block(\n",
    "    blocks=blocks,\n",
    "    provider={'chunk_size': 1},\n",
    ")\n",
    "\n",
    "pcv_stats"
   ]
  },
  {
   "cell_type": "code",
   "execution_count": null,
   "id": "d16f349e",
   "metadata": {
    "ExecuteTime": {
     "end_time": "2022-05-26T16:56:43.636751Z",
     "start_time": "2022-05-26T16:56:41.537807Z"
    }
   },
   "outputs": [],
   "source": [
    "# gather prices\n",
    "\n",
    "eth_usd = await chainlink_utils.async_get_eth_price_by_block(blocks=blocks)\n",
    "\n",
    "eth_usd"
   ]
  },
  {
   "cell_type": "code",
   "execution_count": null,
   "id": "2c36855c",
   "metadata": {
    "ExecuteTime": {
     "end_time": "2022-05-26T16:56:43.644025Z",
     "start_time": "2022-05-26T16:56:43.639478Z"
    }
   },
   "outputs": [],
   "source": [
    "# compile data\n",
    "\n",
    "data = pcv_stats.copy()\n",
    "data['cr'] = data['pcv'] / data['user_fei']\n",
    "data['eth_usd'] = eth_usd"
   ]
  },
  {
   "cell_type": "code",
   "execution_count": null,
   "id": "8e622e07",
   "metadata": {
    "ExecuteTime": {
     "end_time": "2022-05-26T16:56:43.658799Z",
     "start_time": "2022-05-26T16:56:43.645327Z"
    }
   },
   "outputs": [],
   "source": [
    "# save data\n",
    "\n",
    "name = 'cadlabs_exploratory_data__' + tooltime.create_timestamp_label() + '.csv'\n",
    "data.to_csv(name)\n",
    "print('saved to: ' + name)"
   ]
  },
  {
   "cell_type": "markdown",
   "id": "4cb53e3e",
   "metadata": {
    "ExecuteTime": {
     "end_time": "2022-05-26T15:35:02.934351Z",
     "start_time": "2022-05-26T15:35:02.930707Z"
    }
   },
   "source": [
    "# Visualize Data"
   ]
  },
  {
   "cell_type": "markdown",
   "id": "9dc8839f",
   "metadata": {
    "ExecuteTime": {
     "end_time": "2022-05-26T16:20:18.211582Z",
     "start_time": "2022-05-26T16:20:18.207385Z"
    }
   },
   "source": [
    "## metrics vs time"
   ]
  },
  {
   "cell_type": "code",
   "execution_count": null,
   "id": "e4d34ddd",
   "metadata": {
    "ExecuteTime": {
     "end_time": "2022-05-26T16:56:44.647120Z",
     "start_time": "2022-05-26T16:56:43.660805Z"
    }
   },
   "outputs": [],
   "source": [
    "plots = {\n",
    "    'subplot_height': 4,\n",
    "    'common': {\n",
    "        'x': blocks,\n",
    "        'name_position': 'ylabel',\n",
    "        'tickgrid': True,\n",
    "        'xtick_format': {'xticks_kwargs': {'color': 'white'}},\n",
    "        'ytick_format': {},\n",
    "    },\n",
    "    'plots': {\n",
    "        'ETH_USD': {\n",
    "            'name': 'ETH_USD',\n",
    "            'y': data['eth_usd'],\n",
    "            'y_kwargs': {'color': 'mediumslateblue'},\n",
    "            'title': 'Fei protocol metrics over time',\n",
    "        },\n",
    "        'PCV': {\n",
    "            'name': 'PCV',\n",
    "            'y': data['pcv'],\n",
    "            'y_kwargs': {'color': 'green'},\n",
    "        },\n",
    "        'CR': {\n",
    "            'name': 'Collateralization\\nRatio',\n",
    "            'y': data['cr'],\n",
    "            'y_kwargs': {'color': 'green'},\n",
    "        },\n",
    "        'User FEI': {\n",
    "            'name': 'User FEI',\n",
    "            'y': data['user_fei'],\n",
    "            'y_kwargs': {'color': 'green'},\n",
    "            'xtick_format': {},\n",
    "            'xlabel': 'block',\n",
    "        },\n",
    "    },\n",
    "}\n",
    "\n",
    "toolplot.plot_subplots(plots)"
   ]
  },
  {
   "cell_type": "markdown",
   "id": "902edce9",
   "metadata": {
    "ExecuteTime": {
     "end_time": "2022-05-26T16:20:33.891021Z",
     "start_time": "2022-05-26T16:20:33.887097Z"
    }
   },
   "source": [
    "## metrics vs eth price\n",
    "\n",
    "you can see that there is a strong linear correlation between PCV and ETH price\n",
    "\n",
    "the other relationships are more complex and noisy"
   ]
  },
  {
   "cell_type": "code",
   "execution_count": null,
   "id": "96ff6db1",
   "metadata": {
    "ExecuteTime": {
     "end_time": "2022-05-26T16:56:45.318571Z",
     "start_time": "2022-05-26T16:56:44.648605Z"
    }
   },
   "outputs": [],
   "source": [
    "for key, name in [\n",
    "    ['pcv', 'PCV'],\n",
    "    ['cr', 'Collateralization Ratio'],\n",
    "    ['user_fei', 'User FEI'],\n",
    "]:\n",
    "    plt.scatter(eth_usd, data[key], c=blocks, cmap='nipy_spectral', s=70)\n",
    "    plt.plot(eth_usd, data[key], color='black', alpha=0.1)\n",
    "    cbar = plt.colorbar()\n",
    "    cbar.set_label('block', labelpad=30, rotation=270)\n",
    "    plt.xlabel('ETH_USD')\n",
    "    plt.ylabel(name)\n",
    "    plt.title(name + ' vs ' + str('ETH_USD'))\n",
    "    toolplot.format_xticks()\n",
    "    toolplot.format_yticks()\n",
    "    toolplot.add_tick_grid()\n",
    "    plt.show()"
   ]
  }
 ],
 "metadata": {
  "kernelspec": {
   "display_name": "Python 3",
   "language": "python",
   "name": "python3"
  },
  "language_info": {
   "codemirror_mode": {
    "name": "ipython",
    "version": 3
   },
   "file_extension": ".py",
   "mimetype": "text/x-python",
   "name": "python",
   "nbconvert_exporter": "python",
   "pygments_lexer": "ipython3",
   "version": "3.8.13"
  }
 },
 "nbformat": 4,
 "nbformat_minor": 5
}
