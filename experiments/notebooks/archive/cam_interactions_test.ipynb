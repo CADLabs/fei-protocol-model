{
 "cells": [
  {
   "cell_type": "markdown",
   "metadata": {},
   "source": [
    "# Experiment Notebook: FEI Capital Allocation Model"
   ]
  },
  {
   "cell_type": "markdown",
   "metadata": {},
   "source": [
    "# Table of Contents\n",
    "* [Experiment Summary](#Experiment-Summary)\n",
    "* [Experiment Assumptions](#Experiment-Assumptions)\n",
    "* [Experiment Setup](#Experiment-Setup)\n",
    "* [Analysis 1: ...](#Analysis-1:-...)"
   ]
  },
  {
   "cell_type": "markdown",
   "metadata": {},
   "source": [
    "# Experiment Summary \n",
    "\n",
    "The purpose of this notebook is to...\n",
    "\n",
    "# Experiment Assumptions\n",
    "\n",
    "See [assumptions document](../../ASSUMPTIONS.md) for further details."
   ]
  },
  {
   "cell_type": "markdown",
   "metadata": {},
   "source": [
    "# Experiment Setup\n",
    "\n",
    "We begin with several experiment-notebook-level preparatory setup operations:\n",
    "\n",
    "* Import relevant dependencies\n",
    "* Import relevant experiment templates\n",
    "* Create copies of experiments\n",
    "* Configure and customize experiments \n",
    "\n",
    "Analysis-specific setup operations are handled in their respective notebook sections."
   ]
  },
  {
   "cell_type": "code",
   "execution_count": null,
   "metadata": {},
   "outputs": [],
   "source": [
    "# Import the setup module:\n",
    "# * sets up the Python path\n",
    "# * runs shared notebook configuration methods, such as loading IPython modules\n",
    "import setup\n",
    "\n",
    "import copy\n",
    "import logging\n",
    "import numpy as np\n",
    "import pandas as pd\n",
    "import plotly.express as px\n",
    "\n",
    "import experiments.notebooks.visualizations as visualizations\n",
    "from experiments.run import run\n",
    "from experiments.utils import display_code"
   ]
  },
  {
   "cell_type": "code",
   "execution_count": null,
   "metadata": {},
   "outputs": [],
   "source": [
    "from scipy.stats import norm"
   ]
  },
  {
   "cell_type": "code",
   "execution_count": null,
   "metadata": {},
   "outputs": [],
   "source": [
    "import plotly.graph_objects as go\n",
    "from plotly.subplots import make_subplots"
   ]
  },
  {
   "cell_type": "code",
   "execution_count": null,
   "metadata": {},
   "outputs": [],
   "source": [
    "import plotly.io as pio\n",
    "png_renderer = pio.renderers[\"png\"]\n",
    "png_renderer.width = 1200\n",
    "png_renderer.height = 500\n",
    "# png_renderer.scale = 1\n",
    "\n",
    "pio.renderers.default = \"png\""
   ]
  },
  {
   "cell_type": "code",
   "execution_count": null,
   "metadata": {},
   "outputs": [],
   "source": [
    "from operator import lt, gt"
   ]
  },
  {
   "cell_type": "code",
   "execution_count": null,
   "metadata": {},
   "outputs": [],
   "source": [
    "# Enable/disable logging\n",
    "logger = logging.getLogger()\n",
    "logger.disabled = False"
   ]
  },
  {
   "cell_type": "code",
   "execution_count": null,
   "metadata": {},
   "outputs": [],
   "source": [
    "# Import experiment templates\n",
    "import experiments.default_experiment as default_experiment"
   ]
  },
  {
   "cell_type": "code",
   "execution_count": null,
   "metadata": {},
   "outputs": [],
   "source": [
    "# Inspect experiment template\n",
    "display_code(default_experiment)"
   ]
  },
  {
   "cell_type": "code",
   "execution_count": null,
   "metadata": {
    "scrolled": true
   },
   "outputs": [],
   "source": [
    "def generate_normal_rv(n, mu, sigma):\n",
    "    return norm.rvs(loc=mu, scale=sigma, size=1, random_state=n)[0]"
   ]
  },
  {
   "cell_type": "code",
   "execution_count": null,
   "metadata": {},
   "outputs": [],
   "source": [
    "#     \"target_rebalancing_condition\": [gt, lt], # Simulate decrease and increase of stable PCV\n",
    "#     \"target_stable_pcv_ratio\": [0.2, 0.5], # Simulate decrease and increase of stable PCV\n",
    "#     \"rebalancing_period\": [int(365 / 4)],\n",
    "#     \"yield_withdrawal_period\": [999],  # Disable yield-withdrawal policy\n",
    "#     \"yield_reinvest_period\": [999],  # Disable yield-reinvestment policy"
   ]
  },
  {
   "cell_type": "code",
   "execution_count": null,
   "metadata": {},
   "outputs": [],
   "source": [
    "parameter_overrides = {\n",
    "    \"exogenous_CAM_perturbation_strength\": [0.005], # TODO: rebalance_duration - set as propto 1/rebalance time\n",
    "    \"exogenous_CAM_concentration\": [\n",
    "#        {\"LP\": 1, \"MM\": 1, \"FSD\": 1, \"IDLE\": 1},\n",
    "#         {\"LP\": 0.5, \"MM\": 3, \"FSD\": 3, \"IDLE\": 1},\n",
    "         {\"LP\": 1, \"MM\": 1, \"FSD\": 10, \"IDLE\": 1}, # TODO: dict - liquidity pool, idle, use statevar names\n",
    "    ],\n",
    "    \"money_market_borrowed_process\": [\n",
    "        lambda _run, timestep: 0.7 + generate_normal_rv(timestep, 0, 0.01),\n",
    "#        lambda _run, timestep: 0.95*np.exp(-0.001*timestep) + generate_normal_rv(timestep, 0, 0.01),\n",
    "#       lambda _run, timestep: 0.9*np.exp(-0.001*timestep) + generate_normal_rv(timestep, 0, 0.01),\n",
    "#        lambda _run, timestep: 0.0 + generate_normal_rv(timestep, 0, 0.01) if timestep < 365 / 4 else (0.05 + generate_normal_rv(timestep, 0, 0.01) if timestep < 365 * 3/4 else 0.7 + generate_normal_rv(timestep, 0, 0.01)),\n",
    "    ],\n",
    "    \"fei_savings_rate_process\": [\n",
    "#         lambda _run, timestep: 0.01,\n",
    "#         lambda _run, timestep: 0.01 + generate_normal_rv(timestep, 0, 0.0001),\n",
    "#        lambda _run, timestep: 0.01 if timestep < 365 / 4 else (0.02 if timestep < 365 * 3/4 else 0.01),\n",
    "        lambda _run, timestep: 0.01 if timestep < 365 / 4 else (0.015 if timestep < 365 * 3/4 else 0.01),\n",
    "\n",
    "    ],\n",
    "}"
   ]
  },
  {
   "cell_type": "code",
   "execution_count": null,
   "metadata": {},
   "outputs": [],
   "source": [
    "# Create a simulation for each analysis\n",
    "simulation_1 = copy.deepcopy(default_experiment.experiment.simulations[0])"
   ]
  },
  {
   "cell_type": "code",
   "execution_count": null,
   "metadata": {},
   "outputs": [],
   "source": [
    "# Experiment configuration\n",
    "simulation_1.model.initial_state.update({})\n",
    "\n",
    "# Override default experiment System Parameters\n",
    "simulation_1.model.params.update(parameter_overrides)"
   ]
  },
  {
   "cell_type": "markdown",
   "metadata": {},
   "source": [
    "# Analysis 1: ..."
   ]
  },
  {
   "cell_type": "markdown",
   "metadata": {},
   "source": [
    "{Analysis Description}"
   ]
  },
  {
   "cell_type": "code",
   "execution_count": null,
   "metadata": {},
   "outputs": [],
   "source": [
    "# Analysis-specific setup"
   ]
  },
  {
   "cell_type": "code",
   "execution_count": null,
   "metadata": {
    "scrolled": true
   },
   "outputs": [],
   "source": [
    "# Experiment execution\n",
    "df, exceptions = run(simulation_1)"
   ]
  },
  {
   "cell_type": "code",
   "execution_count": null,
   "metadata": {},
   "outputs": [],
   "source": [
    "# Post-processing and visualizations"
   ]
  },
  {
   "cell_type": "markdown",
   "metadata": {},
   "source": [
    "## exploratory analysis of state variables"
   ]
  },
  {
   "cell_type": "code",
   "execution_count": null,
   "metadata": {},
   "outputs": [],
   "source": [
    "df.query('subset==0')['fei_savings_rate'].plot()"
   ]
  },
  {
   "cell_type": "code",
   "execution_count": null,
   "metadata": {},
   "outputs": [],
   "source": [
    "def get_weight_evolution(df, subset):\n",
    "    df_ = pd.DataFrame(\n",
    "            df.query('subset==@subset')['cam_weights'].to_list(),\n",
    "            columns=['LP', 'MM', 'FSD', 'IDLE']\n",
    "        )\n",
    "    \n",
    "    df_.index = df.query('subset==@subset')['timestamp']\n",
    "    return df_"
   ]
  },
  {
   "cell_type": "code",
   "execution_count": null,
   "metadata": {},
   "outputs": [],
   "source": [
    "get_weight_evolution(df, 0).plot(\n",
    "    title='CAM Weight Evolution for Policy Setting 0',\n",
    "     labels={\n",
    "         \"value\": \"CAM Weights\",\n",
    "     },\n",
    ")"
   ]
  },
  {
   "cell_type": "code",
   "execution_count": null,
   "metadata": {},
   "outputs": [],
   "source": [
    "get_weight_evolution(df, 0).plot(\n",
    "    title='CAM Weight Evolution for Policy Setting 0',\n",
    "     labels={\n",
    "         \"value\": \"CAM Weights\",\n",
    "     },\n",
    ")"
   ]
  },
  {
   "cell_type": "code",
   "execution_count": null,
   "metadata": {},
   "outputs": [],
   "source": [
    "use_deposits = ['total_user_circulating_fei',\n",
    " 'fei_liquidity_pool_user_deposit_balance',\n",
    " 'fei_money_market_user_deposit_balance',\n",
    " 'fei_savings_user_deposit_balance',\n",
    " 'fei_idle_user_deposit_balance',\n",
    "]"
   ]
  },
  {
   "cell_type": "code",
   "execution_count": null,
   "metadata": {},
   "outputs": [],
   "source": [
    "fig = px.area(df.query('subset==0'), x='timestamp', y=use_deposits[1:], groupnorm=\"percent\")\n",
    "\n",
    "fig.update_layout(\n",
    "    title=\"FEI Capital Allocation for Policy Setting 0\",\n",
    "    xaxis_title=\"Timestamp\",\n",
    "    yaxis_title=\"FEI Capital Allocation\",\n",
    "    legend=dict(\n",
    "        yanchor=\"top\",\n",
    "        y=0.98,\n",
    "        xanchor=\"left\",\n",
    "        x=0.01\n",
    "    )\n",
    ")\n",
    "fig.show()"
   ]
  },
  {
   "cell_type": "code",
   "execution_count": null,
   "metadata": {},
   "outputs": [],
   "source": [
    "df.query('subset==0')['fei_money_market_borrowed'].plot()"
   ]
  },
  {
   "cell_type": "code",
   "execution_count": null,
   "metadata": {},
   "outputs": [],
   "source": [
    "df.query('subset==0')['fei_money_market_utilization'].plot()"
   ]
  },
  {
   "cell_type": "code",
   "execution_count": null,
   "metadata": {},
   "outputs": [],
   "source": [
    "df.query('subset==0')['fei_money_market_borrow_rate'].plot()"
   ]
  },
  {
   "cell_type": "code",
   "execution_count": null,
   "metadata": {},
   "outputs": [],
   "source": [
    "df.query('subset==0')['fei_money_market_supply_rate'].plot()"
   ]
  },
  {
   "cell_type": "code",
   "execution_count": null,
   "metadata": {},
   "outputs": [],
   "source": [
    "(df.query('subset==0')['fei_money_market_supply_rate'] - df.query('subset==0')['fei_savings_rate']).plot()"
   ]
  },
  {
   "cell_type": "code",
   "execution_count": null,
   "metadata": {},
   "outputs": [],
   "source": [
    "# integration: utilization rate: process -> state update where U = f(volatile asset risk/vol/price, CAM[FSD, MM, LP, IDLE])"
   ]
  },
  {
   "cell_type": "code",
   "execution_count": null,
   "metadata": {},
   "outputs": [],
   "source": [
    "df.query('subset==0')['liquidity_pool_trading_fees'].plot()"
   ]
  },
  {
   "cell_type": "code",
   "execution_count": null,
   "metadata": {},
   "outputs": [],
   "source": [
    "df.query('subset==0')[['fei_money_market_supply_rate', 'fei_money_market_borrow_rate']].describe()"
   ]
  },
  {
   "cell_type": "code",
   "execution_count": null,
   "metadata": {},
   "outputs": [],
   "source": [
    "df.query('subset==0')['volatile_asset_price'].plot()"
   ]
  },
  {
   "cell_type": "markdown",
   "metadata": {},
   "source": [
    "#### other"
   ]
  },
  {
   "cell_type": "markdown",
   "metadata": {},
   "source": [
    "### calc rates"
   ]
  },
  {
   "cell_type": "code",
   "execution_count": null,
   "metadata": {},
   "outputs": [],
   "source": [
    "#[x for x in df.columns]"
   ]
  },
  {
   "cell_type": "code",
   "execution_count": null,
   "metadata": {},
   "outputs": [],
   "source": [
    "def calc_spread(x, r):\n",
    "    return (x - r).mean()\n",
    "    #return ((x - r).pct_change().mean()) / (x - r).pct_change().std()"
   ]
  },
  {
   "cell_type": "code",
   "execution_count": null,
   "metadata": {},
   "outputs": [],
   "source": [
    "def calc_spread_vol(x, r):\n",
    "    return (x - r).std()\n",
    "    #return ((x - r).pct_change().mean()) / (x - r).pct_change().std()"
   ]
  },
  {
   "cell_type": "code",
   "execution_count": null,
   "metadata": {},
   "outputs": [],
   "source": [
    "def calc_SR(x, r):\n",
    "    return ((x - r).pct_change().mean()) / (x - r).pct_change().std()"
   ]
  },
  {
   "cell_type": "code",
   "execution_count": null,
   "metadata": {},
   "outputs": [],
   "source": [
    "def compute_rolling_metric(df, metric_fn, subset, window):\n",
    "    df_ = df.query('subset==@subset')\n",
    "    L = []\n",
    "    for i in range(len(df_)):\n",
    "        sr = metric_fn(\n",
    "            df_['fei_money_market_supply_rate'].iloc[i:i+window],\n",
    "            df_['fei_savings_rate'].iloc[i:i+window],\n",
    "        )\n",
    "        L.append(sr)\n",
    "        \n",
    "    return pd.Series(L, index=df_.index)"
   ]
  },
  {
   "cell_type": "code",
   "execution_count": null,
   "metadata": {},
   "outputs": [],
   "source": [
    "#compute_rolling_metric(df, calc_SR, 0, 30).plot()"
   ]
  },
  {
   "cell_type": "markdown",
   "metadata": {},
   "source": [
    "### User Circulating FEI Constituents"
   ]
  },
  {
   "cell_type": "code",
   "execution_count": null,
   "metadata": {},
   "outputs": [],
   "source": [
    "# TODO - formatting for scientific notation\n",
    "# df['your_col_here'].apply(lambda x: your_human_rounding_function(x))"
   ]
  },
  {
   "cell_type": "code",
   "execution_count": null,
   "metadata": {
    "scrolled": false
   },
   "outputs": [],
   "source": [
    "df.query('subset==0')[use_deposits]"
   ]
  },
  {
   "cell_type": "code",
   "execution_count": null,
   "metadata": {},
   "outputs": [],
   "source": [
    "def get_delta_matrix_at_timestep(df, subset, timestep):\n",
    "    return pd.DataFrame(df.query('subset==@subset')['rebalance_value_delta_matrix'][timestep])"
   ]
  },
  {
   "cell_type": "code",
   "execution_count": null,
   "metadata": {},
   "outputs": [],
   "source": [
    "get_delta_matrix_at_timestep(df, 0, 100)"
   ]
  },
  {
   "cell_type": "markdown",
   "metadata": {},
   "source": [
    "<b>Note:</b> Filter by appropriate subset here"
   ]
  },
  {
   "cell_type": "code",
   "execution_count": null,
   "metadata": {},
   "outputs": [],
   "source": [
    "#df.plot(x='timestep', y='total_user_circulating_fei', color='subset')"
   ]
  },
  {
   "cell_type": "markdown",
   "metadata": {},
   "source": [
    "### FEI deposit sizes"
   ]
  },
  {
   "cell_type": "code",
   "execution_count": null,
   "metadata": {},
   "outputs": [],
   "source": [
    "df.plot(\n",
    "    x='timestamp',\n",
    "    y='fei_liquidity_pool_user_deposit_balance',\n",
    "    color='subset',\n",
    "    title='User FEI Liquidity Pool Balance',\n",
    "    labels={\n",
    "         \"fei_liquidity_pool_user_deposit_balance\": \"User FEI LP Balance\",\n",
    "     },\n",
    ")"
   ]
  },
  {
   "cell_type": "code",
   "execution_count": null,
   "metadata": {},
   "outputs": [],
   "source": [
    "df.plot(\n",
    "    x='timestamp',\n",
    "    y='fei_money_market_user_deposit_balance',\n",
    "    color='subset',\n",
    "    title='User FEI Money Market Balance',\n",
    "    labels={\n",
    "         \"fei_money_market_user_deposit_balance\": \"User FEI MM Balance\",\n",
    "     },\n",
    ")"
   ]
  },
  {
   "cell_type": "code",
   "execution_count": null,
   "metadata": {},
   "outputs": [],
   "source": [
    "df.plot(\n",
    "    x='timestamp',\n",
    "    y='fei_savings_user_deposit_balance',\n",
    "    color='subset',\n",
    "    title='User FEI Savings Deposit Balance',\n",
    "    labels={\n",
    "         \"fei_savings_user_deposit_balance\": \"User FEI SD Balance\",\n",
    "     },\n",
    ")"
   ]
  },
  {
   "cell_type": "code",
   "execution_count": null,
   "metadata": {
    "scrolled": false
   },
   "outputs": [],
   "source": [
    "df.plot(\n",
    "    x='timestamp',\n",
    "    y='fei_idle_user_deposit_balance',\n",
    "    color='subset',\n",
    "    title='User FEI Idle Deposit Balance',\n",
    "    labels={\n",
    "         \"fei_idle_user_deposit_balance\": \"User FEI IDLE Balance\",\n",
    "     },\n",
    ")"
   ]
  },
  {
   "cell_type": "markdown",
   "metadata": {},
   "source": [
    "### Descriptive stats"
   ]
  },
  {
   "cell_type": "code",
   "execution_count": null,
   "metadata": {},
   "outputs": [],
   "source": [
    "df.plot(x='timestep', y='collateralization_ratio', color='subset')"
   ]
  },
  {
   "cell_type": "code",
   "execution_count": null,
   "metadata": {},
   "outputs": [],
   "source": []
  }
 ],
 "metadata": {
  "kernelspec": {
   "display_name": "Python 3",
   "language": "python",
   "name": "python3"
  },
  "language_info": {
   "codemirror_mode": {
    "name": "ipython",
    "version": 3
   },
   "file_extension": ".py",
   "mimetype": "text/x-python",
   "name": "python",
   "nbconvert_exporter": "python",
   "pygments_lexer": "ipython3",
   "version": "3.9.7"
  }
 },
 "nbformat": 4,
 "nbformat_minor": 4
}
