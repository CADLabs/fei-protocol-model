{
 "cells": [
  {
   "cell_type": "markdown",
   "metadata": {},
   "source": [
    "# Experiment Notebook: How do different settings of the FEI Savings Rate process affect User FEI Capital Allocation?"
   ]
  },
  {
   "cell_type": "markdown",
   "metadata": {},
   "source": [
    "# Table of Contents\n",
    "* [Experiment Summary](#Experiment-Summary)\n",
    "* [Experiment Assumptions](#Experiment-Assumptions)\n",
    "* [Experiment Setup](#Experiment-Setup)\n",
    "* [Analysis 1: ...](#Analysis-1:-...)"
   ]
  },
  {
   "cell_type": "markdown",
   "metadata": {},
   "source": [
    "# Experiment Summary \n",
    "\n",
    "The purpose of this notebook is to assess the impact that various settings of the FEI Savings Rate process have on User FEI Capital Allocation across Liquidity Pool, Money Market, and FEI Savings Deposits.\n",
    "\n",
    "# Experiment Assumptions\n",
    "\n",
    "See [assumptions document](../../ASSUMPTIONS.md) for further details."
   ]
  },
  {
   "cell_type": "markdown",
   "metadata": {},
   "source": [
    "# Experiment Setup\n",
    "\n",
    "We begin with several experiment-notebook-level preparatory setup operations:\n",
    "\n",
    "* Import relevant dependencies\n",
    "* Import relevant experiment templates\n",
    "* Create copies of experiments\n",
    "* Configure and customize experiments \n",
    "\n",
    "Analysis-specific setup operations are handled in their respective notebook sections."
   ]
  },
  {
   "cell_type": "code",
   "execution_count": null,
   "metadata": {},
   "outputs": [],
   "source": [
    "# Import the setup module:\n",
    "# * sets up the Python path\n",
    "# * runs shared notebook configuration methods, such as loading IPython modules\n",
    "import setup\n",
    "\n",
    "import copy\n",
    "import logging\n",
    "import numpy as np\n",
    "import pandas as pd\n",
    "import plotly.express as px\n",
    "\n",
    "import experiments.notebooks.visualizations as visualizations\n",
    "from experiments.run import run\n",
    "from experiments.utils import display_code"
   ]
  },
  {
   "cell_type": "code",
   "execution_count": null,
   "metadata": {},
   "outputs": [],
   "source": [
    "from operator import lt, gt"
   ]
  },
  {
   "cell_type": "code",
   "execution_count": null,
   "metadata": {},
   "outputs": [],
   "source": [
    "from scipy.stats import norm"
   ]
  },
  {
   "cell_type": "code",
   "execution_count": null,
   "metadata": {},
   "outputs": [],
   "source": [
    "import plotly.graph_objects as go\n",
    "from plotly.subplots import make_subplots"
   ]
  },
  {
   "cell_type": "code",
   "execution_count": null,
   "metadata": {},
   "outputs": [],
   "source": [
    "import plotly.io as pio\n",
    "png_renderer = pio.renderers[\"png\"]\n",
    "png_renderer.width = 1200\n",
    "png_renderer.height = 500\n",
    "# png_renderer.scale = 1\n",
    "\n",
    "pio.renderers.default = \"png\""
   ]
  },
  {
   "cell_type": "code",
   "execution_count": null,
   "metadata": {},
   "outputs": [],
   "source": [
    "# Enable/disable logging\n",
    "logger = logging.getLogger()\n",
    "logger.disabled = False"
   ]
  },
  {
   "cell_type": "code",
   "execution_count": null,
   "metadata": {},
   "outputs": [],
   "source": [
    "# Import experiment templates\n",
    "import experiments.default_experiment as default_experiment"
   ]
  },
  {
   "cell_type": "code",
   "execution_count": null,
   "metadata": {},
   "outputs": [],
   "source": [
    "# Create a simulation for each analysis\n",
    "simulation_1 = copy.deepcopy(default_experiment.experiment.simulations[0])"
   ]
  },
  {
   "cell_type": "code",
   "execution_count": null,
   "metadata": {},
   "outputs": [],
   "source": [
    "def gen_norm_rv(n, mu, sigma):\n",
    "    return norm.rvs(loc=mu, scale=sigma, size=1, random_state=n)[0]"
   ]
  },
  {
   "cell_type": "code",
   "execution_count": null,
   "metadata": {},
   "outputs": [],
   "source": [
    "cam_deposits = [\n",
    "    \"fei_liquidity_pool_user_deposit\",\n",
    "    \"fei_money_market_user_deposit\",\n",
    "    \"fei_savings_user_deposit\",\n",
    "    #\"fei_idle_user_deposit\",\n",
    "]"
   ]
  },
  {
   "cell_type": "code",
   "execution_count": null,
   "metadata": {},
   "outputs": [],
   "source": [
    "parameter_overrides = {\n",
    "#     \"target_rebalancing_condition\": [gt, lt], # Simulate decrease and increase of stable PCV\n",
    "#     \"target_stable_pcv_ratio\": [0.2, 0.5], # Simulate decrease and increase of stable PCV\n",
    "#     \"rebalancing_period\": [int(365 / 4)],\n",
    "#     \"yield_withdrawal_period\": [999],  # Disable yield-withdrawal policy\n",
    "#     \"yield_reinvest_period\": [999],  # Disable yield-reinvestment policy\n",
    "    \"capital_allocation_fei_deposit_variables\": [\n",
    "            cam_deposits,\n",
    "    ],\n",
    "    \"capital_allocation_rebalance_duration\": [30],\n",
    "    \"fei_savings_rate_process\": [\n",
    "         lambda _run, timestep: 0.01,\n",
    "         lambda _run, timestep: 0.03,\n",
    "         lambda _run, timestep: 0.01 if timestep < 365 / 4 else (0.03 if timestep < 365 * 3/4 else 0.01),\n",
    "    ],\n",
    "    #\"money_market_utilization_rate_process\": [\n",
    "    #    lambda _run, timestep: 0.7, #+ gen_norm_rv(timestep, 0, 0.01),\n",
    "    #]\n",
    "}\n"
   ]
  },
  {
   "cell_type": "code",
   "execution_count": null,
   "metadata": {},
   "outputs": [],
   "source": [
    "# Experiment configuration\n",
    "simulation_1.model.initial_state.update({})\n",
    "\n",
    "# Override default experiment System Parameters\n",
    "simulation_1.model.params.update(parameter_overrides)"
   ]
  },
  {
   "cell_type": "markdown",
   "metadata": {},
   "source": [
    "# Analysis 1: Effect of FEI Savings Rate on User FEI Capital Allocation"
   ]
  },
  {
   "cell_type": "markdown",
   "metadata": {},
   "source": [
    "In this analysis we look at the effect of setting the FEI savings rate in three ways:\n",
    "- As a constant process below the money market supply rate\n",
    "- As a constant process above the money market supply rate\n",
    "- As a step function which moves between the two processes\n",
    "\n",
    "We assume the demand for populating each deposit will depend on the rate of yield offered by the deposit, and gauge to what extent the difference in deposit yield affects how deposits are populated. We also look at the effect this has on Liquidity Pools, and a few other downstream effects on mechanism-specific metrics."
   ]
  },
  {
   "cell_type": "code",
   "execution_count": null,
   "metadata": {},
   "outputs": [],
   "source": [
    "# Analysis-specific setup"
   ]
  },
  {
   "cell_type": "code",
   "execution_count": null,
   "metadata": {
    "scrolled": true
   },
   "outputs": [],
   "source": [
    "# Experiment execution\n",
    "df, exceptions = run(simulation_1)"
   ]
  },
  {
   "cell_type": "code",
   "execution_count": null,
   "metadata": {},
   "outputs": [],
   "source": [
    "# Post-processing and visualizations"
   ]
  },
  {
   "cell_type": "markdown",
   "metadata": {},
   "source": [
    "### visualization of parameter sweep:"
   ]
  },
  {
   "cell_type": "markdown",
   "metadata": {},
   "source": [
    "we sweep the fei savings rate process for three values, two constant processes and a step function"
   ]
  },
  {
   "cell_type": "code",
   "execution_count": null,
   "metadata": {},
   "outputs": [],
   "source": [
    "df.plot(x='timestamp', y=['fei_savings_rate'], color='subset')"
   ]
  },
  {
   "cell_type": "code",
   "execution_count": null,
   "metadata": {},
   "outputs": [],
   "source": [
    "df.plot(x='timestamp', y=['volatile_asset_price'], color='subset')"
   ]
  },
  {
   "cell_type": "code",
   "execution_count": null,
   "metadata": {},
   "outputs": [],
   "source": [
    "use_cols = [key + '_balance' for key in cam_deposits]"
   ]
  },
  {
   "cell_type": "code",
   "execution_count": null,
   "metadata": {},
   "outputs": [],
   "source": [
    "def get_weight_evolution(df, subset):\n",
    "    df_ = pd.DataFrame(\n",
    "            df.query('subset==@subset')['capital_allocation_target_weights'].to_list(),\n",
    "        )\n",
    "    \n",
    "    df_.index = df.query('subset==@subset')['timestamp']\n",
    "    return df_"
   ]
  },
  {
   "cell_type": "code",
   "execution_count": null,
   "metadata": {
    "scrolled": false
   },
   "outputs": [],
   "source": [
    "get_weight_evolution(df, 0).plot(\n",
    "    title='CAM Weight Evolution for FEI Savings Rate Setting 1',\n",
    "     labels={\n",
    "         \"value\": \"CAM Weights\",\n",
    "     },\n",
    ")"
   ]
  },
  {
   "cell_type": "code",
   "execution_count": null,
   "metadata": {},
   "outputs": [],
   "source": [
    "fig = px.area(df.query('subset==0'), x='timestamp', y=use_cols, groupnorm=\"percent\")\n",
    "\n",
    "fig.update_layout(\n",
    "    title=\"FEI Capital Allocation for FEI Savings Rate Setting 1\",\n",
    "    xaxis_title=\"Timestamp\",\n",
    "    yaxis_title=\"FEI Capital Allocation\",\n",
    "    legend=dict(\n",
    "        yanchor=\"top\",\n",
    "        y=0.98,\n",
    "        xanchor=\"left\",\n",
    "        x=0.01\n",
    "    )\n",
    ")\n",
    "fig.show()"
   ]
  },
  {
   "cell_type": "code",
   "execution_count": null,
   "metadata": {
    "scrolled": false
   },
   "outputs": [],
   "source": [
    "get_weight_evolution(df, 1).plot(\n",
    "    title='CAM Weight Evolution for FEI Savings Rate Setting 2',\n",
    "     labels={\n",
    "         \"value\": \"CAM Weights\",\n",
    "     },\n",
    ")"
   ]
  },
  {
   "cell_type": "code",
   "execution_count": null,
   "metadata": {},
   "outputs": [],
   "source": [
    "fig = px.area(df.query('subset==1'), x='timestamp', y=use_cols, groupnorm=\"percent\")\n",
    "\n",
    "fig.update_layout(\n",
    "    title=\"FEI Capital Allocation for FEI Savings Rate Setting 2\",\n",
    "    xaxis_title=\"Timestamp\",\n",
    "    yaxis_title=\"FEI Capital Allocation\",\n",
    "    legend=dict(\n",
    "        yanchor=\"top\",\n",
    "        y=0.98,\n",
    "        xanchor=\"left\",\n",
    "        x=0.01\n",
    "    )\n",
    ")\n",
    "\n",
    "fig.show()"
   ]
  },
  {
   "cell_type": "code",
   "execution_count": null,
   "metadata": {
    "scrolled": false
   },
   "outputs": [],
   "source": [
    "get_weight_evolution(df, 2).plot(\n",
    "    title='CAM Weight Evolution for FEI Savings Rate Setting 3<',\n",
    "     labels={\n",
    "         \"value\": \"CAM Weights\",\n",
    "     },\n",
    ")"
   ]
  },
  {
   "cell_type": "code",
   "execution_count": null,
   "metadata": {},
   "outputs": [],
   "source": [
    "fig = px.area(df.query('subset==2'), x='timestamp', y=use_cols, groupnorm=\"percent\")\n",
    "\n",
    "fig.update_layout(\n",
    "    title=\"FEI Capital Allocation for FEI Savings Rate Setting 3\",\n",
    "    xaxis_title=\"Timestamp\",\n",
    "    yaxis_title=\"FEI Capital Allocation\",\n",
    "    legend=dict(\n",
    "        yanchor=\"top\",\n",
    "        y=0.98,\n",
    "        xanchor=\"left\",\n",
    "        x=0.01\n",
    "    )\n",
    ")\n",
    "\n",
    "fig.show()"
   ]
  },
  {
   "cell_type": "markdown",
   "metadata": {},
   "source": [
    "### User Circulating FEI Constituents"
   ]
  },
  {
   "cell_type": "code",
   "execution_count": null,
   "metadata": {},
   "outputs": [],
   "source": [
    "# TODO - formatting for scientific notation\n",
    "# df['your_col_here'].apply(lambda x: your_human_rounding_function(x))"
   ]
  },
  {
   "cell_type": "code",
   "execution_count": null,
   "metadata": {},
   "outputs": [],
   "source": [
    "#df.query('subset==0')[['total_user_circulating_fei'] + use_cols]"
   ]
  },
  {
   "cell_type": "markdown",
   "metadata": {},
   "source": [
    "### FEI deposit sizes"
   ]
  },
  {
   "cell_type": "code",
   "execution_count": null,
   "metadata": {},
   "outputs": [],
   "source": [
    "fig = df.plot(x='timestep', y='total_user_circulating_fei', color='subset')\n",
    "\n",
    "fig.update_layout(\n",
    "    title=\"Total User Circulating FEI\",\n",
    "    xaxis_title=\"Timestamp\",\n",
    "    yaxis_title=\"Total User Circulating FEI\",\n",
    "    legend=dict(\n",
    "        yanchor=\"top\",\n",
    "        y=0.98,\n",
    "        xanchor=\"left\",\n",
    "        x=0.01\n",
    "    )\n",
    ")\n",
    "\n",
    "fig.show()"
   ]
  },
  {
   "cell_type": "code",
   "execution_count": null,
   "metadata": {},
   "outputs": [],
   "source": [
    "fig = df.plot(\n",
    "    x='timestamp',\n",
    "    y='fei_liquidity_pool_user_deposit_balance',\n",
    "    color='subset',\n",
    ")\n",
    "\n",
    "fig.update_layout(\n",
    "    title='User FEI Liquidity Pool Balance',\n",
    "    xaxis_title=\"Timestamp\",\n",
    "    yaxis_title=\"User FEI LP Balance\",\n",
    "\n",
    "    legend=dict(\n",
    "        yanchor=\"top\",\n",
    "        y=0.98,\n",
    "        xanchor=\"left\",\n",
    "        x=0.01\n",
    "    )\n",
    ")\n",
    "\n",
    "fig.show()"
   ]
  },
  {
   "cell_type": "code",
   "execution_count": null,
   "metadata": {},
   "outputs": [],
   "source": [
    "fig = df.plot(\n",
    "    x='timestamp',\n",
    "    y='fei_money_market_user_deposit_balance',\n",
    "    color='subset',\n",
    ")\n",
    "\n",
    "fig.update_layout(\n",
    "    title='User FEI Money Market Balance',\n",
    "    xaxis_title=\"Timestamp\",\n",
    "    yaxis_title=\"User FEI MM Balance\",\n",
    "\n",
    "    legend=dict(\n",
    "        yanchor=\"top\",\n",
    "        y=0.98,\n",
    "        xanchor=\"left\",\n",
    "        x=0.01\n",
    "    )\n",
    ")\n",
    "\n",
    "fig.show()"
   ]
  },
  {
   "cell_type": "code",
   "execution_count": null,
   "metadata": {},
   "outputs": [],
   "source": [
    "fig = df.plot(\n",
    "    x='timestep',\n",
    "    y='fei_savings_user_deposit_balance',\n",
    "    color='subset',\n",
    ")\n",
    "\n",
    "fig.update_layout(\n",
    "    title='User FEI Savings Deposit Balance',\n",
    "    xaxis_title=\"Timestamp\",\n",
    "    yaxis_title=\"User FEI SD Balance\",\n",
    "\n",
    "    legend=dict(\n",
    "        yanchor=\"top\",\n",
    "        y=0.98,\n",
    "        xanchor=\"left\",\n",
    "        x=0.01\n",
    "    )\n",
    ")\n",
    "\n",
    "fig.show()"
   ]
  },
  {
   "cell_type": "code",
   "execution_count": null,
   "metadata": {},
   "outputs": [],
   "source": [
    "fig = df.plot(\n",
    "    x='timestep',\n",
    "    y='fei_idle_user_deposit_balance',\n",
    "    color='subset',\n",
    ")\n",
    "\n",
    "fig.update_layout(\n",
    "    title='User FEI Savings Idle Balance',\n",
    "    xaxis_title=\"Timestamp\",\n",
    "    yaxis_title=\"User FEI Idle Balance\",\n",
    "\n",
    "    legend=dict(\n",
    "        yanchor=\"top\",\n",
    "        y=0.98,\n",
    "        xanchor=\"left\",\n",
    "        x=0.01\n",
    "    )\n",
    ")\n",
    "\n",
    "fig.show()"
   ]
  },
  {
   "cell_type": "markdown",
   "metadata": {},
   "source": [
    "### money market"
   ]
  },
  {
   "cell_type": "code",
   "execution_count": null,
   "metadata": {},
   "outputs": [],
   "source": [
    "df.plot(x='timestamp', y=['fei_money_market_borrowed'], color='subset')"
   ]
  },
  {
   "cell_type": "code",
   "execution_count": null,
   "metadata": {},
   "outputs": [],
   "source": [
    "df.plot(x='timestamp', y=['fei_money_market_utilization'], color='subset')"
   ]
  },
  {
   "cell_type": "code",
   "execution_count": null,
   "metadata": {},
   "outputs": [],
   "source": [
    "df.query('subset==0').plot(x='timestamp', y=['fei_money_market_supply_rate', 'fei_money_market_borrow_rate'])"
   ]
  },
  {
   "cell_type": "markdown",
   "metadata": {},
   "source": [
    "### liquidity pool"
   ]
  },
  {
   "cell_type": "code",
   "execution_count": null,
   "metadata": {},
   "outputs": [],
   "source": [
    "df.plot(x='timestamp', y=['liquidity_pool_trading_fees'], color='subset')"
   ]
  },
  {
   "cell_type": "code",
   "execution_count": null,
   "metadata": {},
   "outputs": [],
   "source": [
    "df.plot(x='timestamp', y=['fei_liquidity_pool_user_deposit_yield_rate'], color='subset')"
   ]
  },
  {
   "cell_type": "code",
   "execution_count": null,
   "metadata": {},
   "outputs": [],
   "source": [
    "#df.query('subset==0')['volatile_asset_price'].plot()"
   ]
  },
  {
   "cell_type": "markdown",
   "metadata": {},
   "source": [
    "### fei savings deposit"
   ]
  },
  {
   "cell_type": "code",
   "execution_count": null,
   "metadata": {},
   "outputs": [],
   "source": [
    "df.plot(x='timestamp', y=['fei_savings_rate'], color='subset')"
   ]
  },
  {
   "cell_type": "code",
   "execution_count": null,
   "metadata": {},
   "outputs": [],
   "source": [
    "df.plot(x='timestamp', y=['collateralization_ratio'], color='subset')"
   ]
  },
  {
   "cell_type": "code",
   "execution_count": null,
   "metadata": {
    "scrolled": true
   },
   "outputs": [],
   "source": [
    "#df.plot(x='timestamp', y=['stable_backing_ratio'], color='subset')"
   ]
  },
  {
   "cell_type": "code",
   "execution_count": null,
   "metadata": {},
   "outputs": [],
   "source": [
    "#(df.query('subset==0')['fei_money_market_supply_rate'] - df.query('subset==0')['fei_savings_rate']).plot()"
   ]
  },
  {
   "cell_type": "markdown",
   "metadata": {},
   "source": [
    "## Conclusion"
   ]
  },
  {
   "cell_type": "markdown",
   "metadata": {},
   "source": [
    "From this analyisis we can make the following qualitative conclusion - when aggregate demand for deposits is based on yield rates as the only driver of utility, deposit population will converge to the mechanism offering the highest yield. We notice specifically that in trajectory 3, given the non-instantaneous rebalance velocity, that utilization of the FSD never reaches that attained in trajectory 2, but also does not fall back below that of trajectory 1.\n",
    "\n",
    "We furthermore notice the existance of downstream effects on money market utilization and liquidity pool yield, more greatly sustained when both these deposits have higher affluence.\n",
    "\n",
    "We finally notice some minor downstream effects on the collateralization ratio. Here, this process is affected by changes in PCV value and PCV yield accrued, as well as changes in user circulating FEI, the former affected by money market usage and the latter by liquidity pool usage."
   ]
  },
  {
   "cell_type": "code",
   "execution_count": null,
   "metadata": {},
   "outputs": [],
   "source": []
  }
 ],
 "metadata": {
  "kernelspec": {
   "display_name": "Python 3",
   "language": "python",
   "name": "python3"
  },
  "language_info": {
   "codemirror_mode": {
    "name": "ipython",
    "version": 3
   },
   "file_extension": ".py",
   "mimetype": "text/x-python",
   "name": "python",
   "nbconvert_exporter": "python",
   "pygments_lexer": "ipython3",
   "version": "3.9.7"
  }
 },
 "nbformat": 4,
 "nbformat_minor": 4
}
