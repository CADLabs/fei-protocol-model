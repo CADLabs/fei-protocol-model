{
 "cells": [
  {
   "cell_type": "markdown",
   "id": "a667afdc",
   "metadata": {
    "ExecuteTime": {
     "end_time": "2022-07-25T04:20:37.077015Z",
     "start_time": "2022-07-25T04:20:37.075480Z"
    }
   },
   "source": [
    "# Model Datasets\n",
    "\n",
    "Datasets used for parameterization and backtesting\n",
    "\n",
    "Sections based on rows of `20220721_Fei Protocol Model Datasets_vDraft` spreadsheet"
   ]
  },
  {
   "cell_type": "code",
   "execution_count": null,
   "id": "5749d412",
   "metadata": {
    "ExecuteTime": {
     "end_time": "2022-07-25T06:49:08.992954Z",
     "start_time": "2022-07-25T06:49:08.674856Z"
    }
   },
   "outputs": [],
   "source": [
    "import asyncio\n",
    "\n",
    "import matplotlib.pyplot as plt\n",
    "import numpy as np\n",
    "import toolplot\n",
    "\n",
    "from ctc import evm\n",
    "from ctc import rpc\n",
    "from ctc.protocols import aave_v2_utils\n",
    "from ctc.protocols import compound_utils\n",
    "from ctc.protocols import chainlink_utils\n",
    "from ctc.protocols import fei_utils\n",
    "from ctc.protocols.fei_utils import fei_psms\n",
    "from ctc.protocols import rari_utils\n",
    "from ctc.toolbox import plot_utils\n",
    "\n",
    "%matplotlib inline"
   ]
  },
  {
   "cell_type": "code",
   "execution_count": null,
   "id": "30aa4043",
   "metadata": {
    "ExecuteTime": {
     "end_time": "2022-07-25T06:49:08.995613Z",
     "start_time": "2022-07-25T06:49:08.994021Z"
    }
   },
   "outputs": [],
   "source": [
    "toolplot.setup_plot_formatting()"
   ]
  },
  {
   "cell_type": "code",
   "execution_count": null,
   "id": "4dd02b25",
   "metadata": {
    "ExecuteTime": {
     "end_time": "2022-07-25T06:49:09.451463Z",
     "start_time": "2022-07-25T06:49:08.996469Z"
    }
   },
   "outputs": [],
   "source": [
    "n_samples = 200\n",
    "\n",
    "latest_block_number = await evm.async_get_latest_block_number()"
   ]
  },
  {
   "cell_type": "markdown",
   "id": "ace9fbe3",
   "metadata": {
    "ExecuteTime": {
     "end_time": "2022-07-25T04:21:26.213742Z",
     "start_time": "2022-07-25T04:21:26.212143Z"
    }
   },
   "source": [
    "## Protocol, PCV, and FEI Distribution"
   ]
  },
  {
   "cell_type": "code",
   "execution_count": null,
   "id": "beb738c8",
   "metadata": {
    "ExecuteTime": {
     "end_time": "2022-07-25T06:49:38.680867Z",
     "start_time": "2022-07-25T06:49:09.452541Z"
    }
   },
   "outputs": [],
   "source": [
    "fei_analytics_payload = await fei_utils.async_create_payload(\n",
    "    timescale='180d,2d',\n",
    ")"
   ]
  },
  {
   "cell_type": "code",
   "execution_count": null,
   "id": "786bd390",
   "metadata": {
    "ExecuteTime": {
     "end_time": "2022-07-25T06:49:38.685324Z",
     "start_time": "2022-07-25T06:49:38.681876Z"
    }
   },
   "outputs": [],
   "source": [
    "fei_analytics_payload['data'].keys()"
   ]
  },
  {
   "cell_type": "markdown",
   "id": "2d6e8a5c",
   "metadata": {
    "ExecuteTime": {
     "end_time": "2022-07-25T04:25:59.157925Z",
     "start_time": "2022-07-25T04:25:59.156526Z"
    }
   },
   "source": [
    "#### Historical PSM FEI minting / redemption rates"
   ]
  },
  {
   "cell_type": "code",
   "execution_count": null,
   "id": "81e8a6b9",
   "metadata": {
    "ExecuteTime": {
     "end_time": "2022-07-25T06:49:40.706082Z",
     "start_time": "2022-07-25T06:49:38.686187Z"
    }
   },
   "outputs": [],
   "source": [
    "mints = await fei_psms.async_get_fei_psm_mints()\n",
    "\n",
    "mints"
   ]
  },
  {
   "cell_type": "code",
   "execution_count": null,
   "id": "11c78004",
   "metadata": {
    "ExecuteTime": {
     "end_time": "2022-07-25T06:49:42.739478Z",
     "start_time": "2022-07-25T06:49:40.707082Z"
    }
   },
   "outputs": [],
   "source": [
    "redemptions = await fei_psms.async_get_fei_psm_redemptions()\n",
    "\n",
    "redemptions"
   ]
  },
  {
   "cell_type": "code",
   "execution_count": null,
   "id": "15fd41bb",
   "metadata": {
    "ExecuteTime": {
     "end_time": "2022-07-25T06:49:43.593169Z",
     "start_time": "2022-07-25T06:49:42.740834Z"
    }
   },
   "outputs": [],
   "source": [
    "plt.plot(mints['arg__amountFeiOut'], '.b', alpha=0.3, label='mint')\n",
    "plt.plot(mints['arg__amountFeiOut'], '-b', alpha=0.1)\n",
    "\n",
    "plt.plot(redemptions['arg__amountFeiIn'], '.r', alpha=0.3, label='redemption')\n",
    "plt.plot(redemptions['arg__amountFeiIn'], '-r', alpha=0.1)\n",
    "\n",
    "plt.yscale('log')\n",
    "plt.ylim([10, 100e6])\n",
    "\n",
    "await plot_utils.async_xtick_block_dates()\n",
    "toolplot.add_tick_grid()\n",
    "plt.legend()\n",
    "toolplot.format_yticks()\n",
    "plt.title('FEI Mints and Redemptions')\n",
    "plt.show()"
   ]
  },
  {
   "cell_type": "code",
   "execution_count": null,
   "id": "eb9183ef",
   "metadata": {
    "ExecuteTime": {
     "end_time": "2022-07-25T06:49:43.955240Z",
     "start_time": "2022-07-25T06:49:43.594242Z"
    }
   },
   "outputs": [],
   "source": [
    "markersize = 10\n",
    "\n",
    "mask = mints['token'] == 'DAI'\n",
    "plt.plot(mints['token_per_fei'][mask], '.', markersize=markersize, color='purple', label='mint, DAI per FEI')\n",
    "plt.plot(mints['token_per_fei'][mask], '-', color='purple', alpha=0.2)\n",
    "\n",
    "mask = mints['token'] == 'LUSD'\n",
    "plt.plot(mints['token_per_fei'][mask], '.', markersize=markersize, color='red', label='mint, LUSD per FEI')\n",
    "plt.plot(mints['token_per_fei'][mask], '-', color='red', alpha=0.2)\n",
    "\n",
    "mask = redemptions['token'] == 'DAI'\n",
    "plt.plot(redemptions['token_per_fei'][mask], '.', markersize=markersize, color='orange', label='redemption, DAI per FEI')\n",
    "plt.plot(redemptions['token_per_fei'][mask], '-', color='orange', alpha=0.2)\n",
    "\n",
    "mask = redemptions['token'] == 'LUSD'\n",
    "plt.plot(redemptions['token_per_fei'][mask], '.', markersize=markersize, color='teal', label='redemption, LUSD per FEI')\n",
    "plt.plot(redemptions['token_per_fei'][mask], '-', color='teal', alpha=0.2)\n",
    "\n",
    "await plot_utils.async_xtick_block_dates()\n",
    "toolplot.add_tick_grid()\n",
    "plt.legend(loc='lower left')\n",
    "toolplot.format_yticks()\n",
    "plt.title('Minting and Redemption Rates')\n",
    "plt.ylabel('token per FEI')\n",
    "plt.show()"
   ]
  },
  {
   "cell_type": "markdown",
   "id": "12954bb4",
   "metadata": {
    "ExecuteTime": {
     "end_time": "2022-07-25T04:26:18.841194Z",
     "start_time": "2022-07-25T04:26:18.839676Z"
    }
   },
   "source": [
    "#### Historical PCV distribution across all assets and locations"
   ]
  },
  {
   "cell_type": "code",
   "execution_count": null,
   "id": "59b96466",
   "metadata": {
    "ExecuteTime": {
     "end_time": "2022-07-25T06:49:44.506935Z",
     "start_time": "2022-07-25T06:49:43.956490Z"
    }
   },
   "outputs": [],
   "source": [
    "for asset, asset_data in fei_analytics_payload['data']['pcv_by_asset']['metrics'].items():\n",
    "    plt.plot(fei_analytics_payload['block_numbers'], asset_data['values'], label=asset)\n",
    "    \n",
    "await plot_utils.async_xtick_block_dates()\n",
    "toolplot.add_tick_grid()\n",
    "plt.legend()\n",
    "toolplot.format_yticks()\n",
    "plt.title('PCV by Asset')\n",
    "plt.show()"
   ]
  },
  {
   "cell_type": "markdown",
   "id": "35065998",
   "metadata": {
    "ExecuteTime": {
     "end_time": "2022-07-25T04:26:14.813046Z",
     "start_time": "2022-07-25T04:26:14.809937Z"
    }
   },
   "source": [
    "#### Historical protocol-owned FEI distribution"
   ]
  },
  {
   "cell_type": "code",
   "execution_count": null,
   "id": "ef3eb1b7",
   "metadata": {
    "ExecuteTime": {
     "end_time": "2022-07-25T06:49:44.976486Z",
     "start_time": "2022-07-25T06:49:44.507952Z"
    }
   },
   "outputs": [],
   "source": [
    "for platform, pfei in fei_analytics_payload['data']['pfei_by_platform']['metrics'].items():\n",
    "    if platform in ['Fei', 'Other', 'OA Account']:\n",
    "        continue\n",
    "    plt.plot(fei_analytics_payload['block_numbers'], pfei['values'], label=platform)\n",
    "\n",
    "await plot_utils.async_xtick_block_dates()\n",
    "toolplot.add_tick_grid()\n",
    "plt.legend()\n",
    "toolplot.format_yticks()\n",
    "plt.title('pFEI Plaform Deployments')\n",
    "plt.show()"
   ]
  },
  {
   "cell_type": "markdown",
   "id": "b2c69d17",
   "metadata": {
    "ExecuteTime": {
     "end_time": "2022-07-25T04:26:11.718012Z",
     "start_time": "2022-07-25T04:26:11.716512Z"
    }
   },
   "source": [
    "#### Historical user-circulating FEI distribution"
   ]
  },
  {
   "cell_type": "code",
   "execution_count": null,
   "id": "640b8c98",
   "metadata": {
    "ExecuteTime": {
     "end_time": "2022-07-25T06:49:45.352489Z",
     "start_time": "2022-07-25T06:49:44.977465Z"
    }
   },
   "outputs": [],
   "source": [
    "for key, value in fei_analytics_payload['data']['circulating_fei']['metrics'].items():\n",
    "    plt.plot(fei_analytics_payload['block_numbers'], value['values'], label=key)\n",
    "\n",
    "await plot_utils.async_xtick_block_dates()\n",
    "toolplot.add_tick_grid()\n",
    "plt.legend()\n",
    "toolplot.format_yticks()\n",
    "plt.title('Circulating FEI')\n",
    "plt.show()"
   ]
  },
  {
   "cell_type": "markdown",
   "id": "05768d83",
   "metadata": {
    "ExecuteTime": {
     "end_time": "2022-07-25T04:18:07.464995Z",
     "start_time": "2022-07-25T04:18:07.462563Z"
    }
   },
   "source": [
    "## Asset Prices"
   ]
  },
  {
   "cell_type": "markdown",
   "id": "23b2bf50",
   "metadata": {
    "ExecuteTime": {
     "end_time": "2022-07-25T04:25:07.541929Z",
     "start_time": "2022-07-25T04:25:07.540427Z"
    }
   },
   "source": [
    "#### Historical benchmark / basket for Stable Asset price"
   ]
  },
  {
   "cell_type": "code",
   "execution_count": null,
   "id": "246d278c",
   "metadata": {
    "ExecuteTime": {
     "end_time": "2022-07-25T06:50:02.549477Z",
     "start_time": "2022-07-25T06:49:45.353677Z"
    }
   },
   "outputs": [],
   "source": [
    "dai_usd = await chainlink_utils.async_get_feed_data('DAI_USD', interpolate=True)\n",
    "\n",
    "dai_usd"
   ]
  },
  {
   "cell_type": "code",
   "execution_count": null,
   "id": "1137e1c1",
   "metadata": {
    "ExecuteTime": {
     "end_time": "2022-07-25T06:50:04.076476Z",
     "start_time": "2022-07-25T06:50:02.550487Z"
    }
   },
   "outputs": [],
   "source": [
    "lusd_usd = await chainlink_utils.async_get_feed_data('LUSD_USD', interpolate=True)\n",
    "\n",
    "lusd_usd"
   ]
  },
  {
   "cell_type": "code",
   "execution_count": null,
   "id": "8c8c2b56",
   "metadata": {
    "ExecuteTime": {
     "end_time": "2022-07-25T06:50:10.228440Z",
     "start_time": "2022-07-25T06:50:04.077661Z"
    }
   },
   "outputs": [],
   "source": [
    "usdc_usd = await chainlink_utils.async_get_feed_data('USDC_USD', interpolate=True)\n",
    "\n",
    "usdc_usd"
   ]
  },
  {
   "cell_type": "code",
   "execution_count": null,
   "id": "beb9a17e",
   "metadata": {
    "ExecuteTime": {
     "end_time": "2022-07-25T06:50:18.889613Z",
     "start_time": "2022-07-25T06:50:10.229423Z"
    }
   },
   "outputs": [],
   "source": [
    "plt.plot(dai_usd, color='orange', label='DAI_USD')\n",
    "plt.plot(lusd_usd, color='teal', label='LUSD_USD')\n",
    "plt.plot(usdc_usd, color='dodgerblue', label='USDC_USD')\n",
    "\n",
    "await plot_utils.async_xtick_block_dates()\n",
    "toolplot.add_tick_grid()\n",
    "plt.legend()\n",
    "toolplot.format_yticks(toolstr_kwargs={'prefix': '$'})\n",
    "plt.title('Stable Asset Prices')\n",
    "plt.show()"
   ]
  },
  {
   "cell_type": "markdown",
   "id": "9db73038",
   "metadata": {
    "ExecuteTime": {
     "end_time": "2022-07-25T04:25:34.758328Z",
     "start_time": "2022-07-25T04:25:34.756725Z"
    }
   },
   "source": [
    "#### Historical ETH price"
   ]
  },
  {
   "cell_type": "code",
   "execution_count": null,
   "id": "42fb1aec",
   "metadata": {
    "ExecuteTime": {
     "end_time": "2022-07-25T06:50:35.705494Z",
     "start_time": "2022-07-25T06:50:18.890687Z"
    }
   },
   "outputs": [],
   "source": [
    "eth_usd = await chainlink_utils.async_get_feed_data('ETH_USD', interpolate=True)\n",
    "\n",
    "eth_usd"
   ]
  },
  {
   "cell_type": "code",
   "execution_count": null,
   "id": "653b9068",
   "metadata": {
    "ExecuteTime": {
     "end_time": "2022-07-25T06:50:40.860451Z",
     "start_time": "2022-07-25T06:50:35.706546Z"
    }
   },
   "outputs": [],
   "source": [
    "plt.plot(eth_usd, color='purple', label='ETH_USD')\n",
    "\n",
    "await plot_utils.async_xtick_block_dates()\n",
    "toolplot.add_tick_grid()\n",
    "plt.legend()\n",
    "toolplot.format_yticks(toolstr_kwargs={'prefix': '$'})\n",
    "plt.title('ETH Price')\n",
    "plt.show()"
   ]
  },
  {
   "cell_type": "markdown",
   "id": "780d4b7f",
   "metadata": {
    "ExecuteTime": {
     "end_time": "2022-07-25T04:25:41.625295Z",
     "start_time": "2022-07-25T04:25:41.623783Z"
    }
   },
   "source": [
    "#### Historical FEI price"
   ]
  },
  {
   "cell_type": "code",
   "execution_count": null,
   "id": "3c2242cd",
   "metadata": {
    "ExecuteTime": {
     "end_time": "2022-07-25T06:50:43.364079Z",
     "start_time": "2022-07-25T06:50:40.861517Z"
    }
   },
   "outputs": [],
   "source": [
    "fei_usd = await chainlink_utils.async_get_feed_data('FEI_USD', interpolate=True)\n",
    "\n",
    "fei_usd"
   ]
  },
  {
   "cell_type": "code",
   "execution_count": null,
   "id": "c56cfb03",
   "metadata": {
    "ExecuteTime": {
     "end_time": "2022-07-25T06:50:45.010834Z",
     "start_time": "2022-07-25T06:50:43.365450Z"
    }
   },
   "outputs": [],
   "source": [
    "plt.plot(fei_usd, color='green', label='FEI_USD')\n",
    "\n",
    "await plot_utils.async_xtick_block_dates()\n",
    "toolplot.add_tick_grid()\n",
    "plt.legend()\n",
    "toolplot.format_yticks(toolstr_kwargs={'prefix': '$'})\n",
    "plt.title('FEI Price')\n",
    "plt.show()"
   ]
  },
  {
   "cell_type": "markdown",
   "id": "b3ec9333",
   "metadata": {
    "ExecuteTime": {
     "end_time": "2022-07-25T04:29:35.790546Z",
     "start_time": "2022-07-25T04:29:35.788919Z"
    }
   },
   "source": [
    "## Asset Yield"
   ]
  },
  {
   "cell_type": "markdown",
   "id": "a5e67235",
   "metadata": {
    "ExecuteTime": {
     "end_time": "2022-07-25T04:30:20.774689Z",
     "start_time": "2022-07-25T04:30:20.773087Z"
    }
   },
   "source": [
    "#### Historical benchmark / basket for Stable Asset yield"
   ]
  },
  {
   "cell_type": "code",
   "execution_count": null,
   "id": "ef40c7a4",
   "metadata": {
    "ExecuteTime": {
     "end_time": "2022-07-25T06:50:47.626447Z",
     "start_time": "2022-07-25T06:50:45.012006Z"
    }
   },
   "outputs": [],
   "source": [
    "# compound dai\n",
    "\n",
    "cdai = '0x5d3a536e4d6dbd6114cc1ead35777bab948e3643'\n",
    "cdai_creation_block = await evm.async_get_contract_creation_block(cdai)\n",
    "cdai_blocks = np.linspace(cdai_creation_block, latest_block_number, n_samples).astype(int)\n",
    "cdai_yields = await compound_utils.async_get_supply_apy_by_block(ctoken=cdai, blocks=cdai_blocks)"
   ]
  },
  {
   "cell_type": "code",
   "execution_count": null,
   "id": "4d1e65cd",
   "metadata": {
    "ExecuteTime": {
     "end_time": "2022-07-25T06:50:50.431676Z",
     "start_time": "2022-07-25T06:50:47.627425Z"
    }
   },
   "outputs": [],
   "source": [
    "# compound usdc\n",
    "\n",
    "cusdc = '0x39aa39c021dfbae8fac545936693ac917d5e7563'\n",
    "cusdc_creation_block = await evm.async_get_contract_creation_block(cdai)\n",
    "cusdc_blocks = np.linspace(cusdc_creation_block, latest_block_number, n_samples).astype(int)\n",
    "cusdc_yields = await compound_utils.async_get_supply_apy_by_block(ctoken=cusdc, blocks=cusdc_blocks)"
   ]
  },
  {
   "cell_type": "code",
   "execution_count": null,
   "id": "4688bccb",
   "metadata": {
    "ExecuteTime": {
     "end_time": "2022-07-25T06:50:54.101399Z",
     "start_time": "2022-07-25T06:50:50.432846Z"
    }
   },
   "outputs": [],
   "source": [
    "usdc = '0xa0b86991c6218b36c1d19d4a2e9eb0ce3606eb48'\n",
    "dai = '0x6b175474e89094c44da98b954eedeac495271d0f'\n",
    "fei = '0x956f47f50a910163d8bf957cf5846d573e7f87ca'\n",
    "\n",
    "aave_v2_creation_block = await evm.async_get_contract_creation_block(\n",
    "    aave_v2_utils.aave_interest_rates.aave_lending_pool,\n",
    ")\n",
    "aave_sample_blocks = np.linspace(aave_v2_creation_block, latest_block_number, n_samples).astype(int)\n",
    "\n",
    "# aUSDC\n",
    "ausdc_rates = await aave_v2_utils.async_get_interest_rates_by_block(\n",
    "    token=usdc,\n",
    "    blocks=aave_sample_blocks,\n",
    ")\n",
    "ausdc_yields = ausdc_rates['supply_apy']\n",
    "\n",
    "# aDAI\n",
    "adai_rates = await aave_v2_utils.async_get_interest_rates_by_block(\n",
    "    token=dai,\n",
    "    blocks=aave_sample_blocks,\n",
    ")\n",
    "adai_yields = adai_rates['supply_apy']"
   ]
  },
  {
   "cell_type": "code",
   "execution_count": null,
   "id": "cf4bd014",
   "metadata": {
    "ExecuteTime": {
     "end_time": "2022-07-25T06:50:54.661836Z",
     "start_time": "2022-07-25T06:50:54.102377Z"
    }
   },
   "outputs": [],
   "source": [
    "linewidth = 2\n",
    "plt.plot(cdai_blocks, cdai_yields, color='orange', label='cDAI', linewidth=linewidth)\n",
    "plt.plot(cusdc_blocks, cusdc_yields, color='green', label='cUSDC', linewidth=linewidth)\n",
    "plt.plot(aave_sample_blocks, adai_yields, color='red', label='aDAI', linewidth=linewidth)\n",
    "plt.plot(aave_sample_blocks, ausdc_yields, color='purple', label='aUSDC', linewidth=linewidth)\n",
    "\n",
    "\n",
    "await plot_utils.async_xtick_block_dates()\n",
    "toolplot.add_tick_grid()\n",
    "plt.legend()\n",
    "toolplot.format_yticks(toolstr_kwargs={'percentage': True})\n",
    "plt.ylabel('yield')\n",
    "plt.title('Historical Stable Yields')\n",
    "plt.show()"
   ]
  },
  {
   "cell_type": "markdown",
   "id": "271267a8",
   "metadata": {
    "ExecuteTime": {
     "end_time": "2022-07-25T04:51:48.710253Z",
     "start_time": "2022-07-25T04:51:48.708614Z"
    }
   },
   "source": [
    "#### Historical ETH staking yield"
   ]
  },
  {
   "cell_type": "code",
   "execution_count": null,
   "id": "50b79154",
   "metadata": {
    "ExecuteTime": {
     "end_time": "2022-07-25T06:51:02.527305Z",
     "start_time": "2022-07-25T06:50:54.662931Z"
    }
   },
   "outputs": [],
   "source": [
    "# compute staking rates of staking via lido\n",
    "\n",
    "wsteth = '0x7f39c581f595b53c5cb19bd0b3f8da6c935e2ca0'\n",
    "\n",
    "# compute timepoint samples\n",
    "wsteth_creation_block = await evm.async_get_contract_creation_block(wsteth)\n",
    "wsteth_blocks = np.linspace(wsteth_creation_block, latest_block_number, n_samples).astype(int)\n",
    "wsteth_block_timestamps = await evm.async_get_block_timestamps(wsteth_blocks)\n",
    "wsteth_block_timestamps = np.array(wsteth_block_timestamps)\n",
    "\n",
    "# compute growth at each timepoint\n",
    "steth_per_token = await rpc.async_batch_eth_call(\n",
    "    to_address=wsteth,\n",
    "    function_name='stEthPerToken',\n",
    "    block_numbers=wsteth_blocks,\n",
    "    provider={'chunk_size': 1},\n",
    ")\n",
    "steth_per_token = np.array(steth_per_token)\n",
    "\n",
    "# convert to apy\n",
    "wsteth_time_intervals = wsteth_block_timestamps[1:] - wsteth_block_timestamps[:-1]\n",
    "wsteth_growth_intervals = steth_per_token[1:] / steth_per_token[:-1]\n",
    "seconds_per_year = 86400 * 365\n",
    "years_per_interval = wsteth_time_intervals / seconds_per_year\n",
    "wsteth_apy = np.exp(np.log(wsteth_growth_intervals) / years_per_interval)\n",
    "\n",
    "# plot\n",
    "plt.plot(wsteth_blocks[1:], wsteth_apy - 1, linewidth=2, color='teal', label='stETH yield')\n",
    "await plot_utils.async_xtick_block_dates()\n",
    "toolplot.add_tick_grid()\n",
    "plt.legend()\n",
    "toolplot.format_yticks(toolstr_kwargs={'percentage': True})\n",
    "plt.title('Historical Yield For Lido Staking')\n",
    "plt.show()"
   ]
  },
  {
   "cell_type": "markdown",
   "id": "430504df",
   "metadata": {
    "ExecuteTime": {
     "end_time": "2022-07-25T05:31:49.392393Z",
     "start_time": "2022-07-25T05:31:49.390815Z"
    }
   },
   "source": [
    "## Capital Allocation Model"
   ]
  },
  {
   "cell_type": "markdown",
   "id": "c16b3bac",
   "metadata": {
    "ExecuteTime": {
     "end_time": "2022-07-25T05:32:01.668442Z",
     "start_time": "2022-07-25T05:32:01.666264Z"
    }
   },
   "source": [
    "####  \\<Yield and risk parameters>"
   ]
  },
  {
   "cell_type": "markdown",
   "id": "cd0c419c",
   "metadata": {
    "ExecuteTime": {
     "end_time": "2022-07-25T05:32:21.191928Z",
     "start_time": "2022-07-25T05:32:21.190401Z"
    }
   },
   "source": [
    "## FEI Savings Deposit"
   ]
  },
  {
   "cell_type": "markdown",
   "id": "7f78dac8",
   "metadata": {
    "ExecuteTime": {
     "end_time": "2022-07-25T05:32:27.688808Z",
     "start_time": "2022-07-25T05:32:27.685623Z"
    }
   },
   "source": [
    "#### Historical benchmark / basket for FEI Savings Rate yield"
   ]
  },
  {
   "cell_type": "code",
   "execution_count": null,
   "id": "c9cd35d7",
   "metadata": {
    "ExecuteTime": {
     "end_time": "2022-07-25T06:51:06.572237Z",
     "start_time": "2022-07-25T06:51:02.528318Z"
    }
   },
   "outputs": [],
   "source": [
    "# cFEI\n",
    "cfei = '0x7713dd9ca933848f6819f38b8352d9a15ea73f67'\n",
    "cfei_creation_block = await evm.async_get_contract_creation_block(cfei)\n",
    "cfei_blocks = np.linspace(cfei_creation_block, latest_block_number, n_samples).astype(int)\n",
    "cfei_yields = await compound_utils.async_get_supply_apy_by_block(ctoken=cfei, blocks=cfei_blocks)\n",
    "\n",
    "# aFEI\n",
    "afei_rates = await aave_v2_utils.async_get_interest_rates_by_block(\n",
    "    token=fei,\n",
    "    blocks=aave_sample_blocks,\n",
    ")\n",
    "afei_yields = adai_rates['supply_apy']\n",
    "\n",
    "# fFEI (rari fuse)\n",
    "ffei = '0xd8553552f8868c1ef160eedf031cf0bcf9686945'\n",
    "ffei_creation_block = await evm.async_get_contract_creation_block(ffei)\n",
    "ffei_blocks = np.linspace(ffei_creation_block + 450000, latest_block_number, n_samples).astype(int)\n",
    "coroutines = [\n",
    "    rari_utils.async_get_supply_apy(ctoken=ffei, block=block)\n",
    "    for block in ffei_blocks\n",
    "]\n",
    "ffei_supply_apy = await asyncio.gather(*coroutines)"
   ]
  },
  {
   "cell_type": "code",
   "execution_count": null,
   "id": "542f0817",
   "metadata": {
    "ExecuteTime": {
     "end_time": "2022-07-25T06:51:07.064950Z",
     "start_time": "2022-07-25T06:51:06.573126Z"
    }
   },
   "outputs": [],
   "source": [
    "plt.plot(cfei_blocks, cfei_yields, label='cFEI')\n",
    "plt.plot(aave_sample_blocks, afei_yields, label='aFEI')\n",
    "plt.plot(ffei_blocks, ffei_supply_apy, label='fFEI')\n",
    "\n",
    "await plot_utils.async_xtick_block_dates()\n",
    "toolplot.add_tick_grid()\n",
    "plt.legend()\n",
    "toolplot.format_yticks(toolstr_kwargs={'percentage': True})\n",
    "plt.title('Historical FEI Yield')\n",
    "plt.show()"
   ]
  },
  {
   "cell_type": "markdown",
   "id": "7b1eb67c",
   "metadata": {
    "ExecuteTime": {
     "end_time": "2022-07-25T05:31:36.583626Z",
     "start_time": "2022-07-25T05:31:36.581971Z"
    }
   },
   "source": [
    "## Liquidity Pools"
   ]
  },
  {
   "cell_type": "markdown",
   "id": "022d12e9",
   "metadata": {
    "ExecuteTime": {
     "end_time": "2022-07-25T05:32:36.791725Z",
     "start_time": "2022-07-25T05:32:36.789683Z"
    }
   },
   "source": [
    "#### Historical FEI Balancer liquidity (Uniswap etc. minor)"
   ]
  },
  {
   "cell_type": "code",
   "execution_count": null,
   "id": "b52ec36b",
   "metadata": {
    "ExecuteTime": {
     "end_time": "2022-07-25T06:51:07.446662Z",
     "start_time": "2022-07-25T06:51:07.066166Z"
    }
   },
   "outputs": [],
   "source": [
    "for platform, platform_tvl in fei_analytics_payload['data']['dex_tvls']['metrics'].items():\n",
    "    plt.plot(fei_analytics_payload['block_numbers'], platform_tvl['values'], label=platform)\n",
    "\n",
    "await plot_utils.async_xtick_block_dates()\n",
    "toolplot.add_tick_grid()\n",
    "plt.legend()\n",
    "toolplot.format_yticks(toolstr_kwargs={'prefix': '$'})\n",
    "plt.title('FEI DEX TVL')\n",
    "plt.show()"
   ]
  },
  {
   "cell_type": "markdown",
   "id": "b3d2807a",
   "metadata": {
    "ExecuteTime": {
     "end_time": "2022-07-25T04:21:44.146646Z",
     "start_time": "2022-07-25T04:21:44.144795Z"
    }
   },
   "source": [
    "## Money Markets"
   ]
  },
  {
   "cell_type": "markdown",
   "id": "083b0a52",
   "metadata": {
    "ExecuteTime": {
     "end_time": "2022-07-25T05:32:44.268190Z",
     "start_time": "2022-07-25T05:32:44.265720Z"
    }
   },
   "source": [
    "#### Historical Aave, Compound supply / borrow rates and utilization"
   ]
  },
  {
   "cell_type": "code",
   "execution_count": null,
   "id": "64f4042e",
   "metadata": {
    "ExecuteTime": {
     "end_time": "2022-07-25T06:51:07.449457Z",
     "start_time": "2022-07-25T06:51:07.447824Z"
    }
   },
   "outputs": [],
   "source": [
    "# see above"
   ]
  }
 ],
 "metadata": {
  "kernelspec": {
   "display_name": "Python 3",
   "language": "python",
   "name": "python3"
  },
  "language_info": {
   "codemirror_mode": {
    "name": "ipython",
    "version": 3
   },
   "file_extension": ".py",
   "mimetype": "text/x-python",
   "name": "python",
   "nbconvert_exporter": "python",
   "pygments_lexer": "ipython3",
   "version": "3.9.5"
  }
 },
 "nbformat": 4,
 "nbformat_minor": 5
}
