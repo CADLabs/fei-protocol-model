{
 "cells": [
  {
   "cell_type": "markdown",
   "metadata": {
    "slideshow": {
     "slide_type": "-"
    }
   },
   "source": [
    "<span style=\"display:block;text-align:center;margin-right:105px\"></span>\n",
    "\n",
    "# Quiz Notebook 0: radCAD Basics\n",
    "\n",
    "---"
   ]
  },
  {
   "cell_type": "markdown",
   "metadata": {},
   "source": [
    "The goal of this quiz notebook is to familiarize with radCAD syntax in core elements of the modelling framework. We take this general purpose section from Section 5 of our cadCAD EDU bootcamp [here](https://www.cadcad.education/course/bootcamp)."
   ]
  },
  {
   "cell_type": "markdown",
   "metadata": {},
   "source": [
    "# Quiz Setup \n",
    "\n",
    "- This is a general purpose radCAD basics notebook. It is not associated to any of the analysis notebooks.\n",
    "- Solution cells are not meant to directly execute, as these may only contain the relevant snippets."
   ]
  },
  {
   "cell_type": "markdown",
   "metadata": {},
   "source": [
    "## Exercise 1: Partial State Update Blocks\n",
    "\n",
    "Given the following policy function `p_example`, state update function `s_example`, and list of partial state update blocks `partial_state_update_blocks`, answer the following questions:"
   ]
  },
  {
   "cell_type": "code",
   "execution_count": null,
   "metadata": {},
   "outputs": [],
   "source": [
    "def p_example(params, substep, state_history, previous_state):\n",
    "    return {'example_signal': 1}\n",
    "    \n",
    "def s_example(params, substep, state_history, previous_state, policy_input):\n",
    "    example_signal = policy_input['example_signal']\n",
    "    return 'example_state', example_signal\n",
    "\n",
    "partial_state_update_blocks = [\n",
    "    {\n",
    "        'policies': {\n",
    "            'example_policy': p_example\n",
    "        },\n",
    "        'variables': {\n",
    "            'example_state': s_example\n",
    "        }\n",
    "    }\n",
    "]"
   ]
  },
  {
   "cell_type": "markdown",
   "metadata": {},
   "source": [
    "### 1. After one timestep, what will the value of the state variable `example_state` be?"
   ]
  },
  {
   "cell_type": "markdown",
   "metadata": {},
   "source": [
    "*Answer here in the markdown cell:*"
   ]
  },
  {
   "cell_type": "markdown",
   "metadata": {},
   "source": [
    "### 2. How many substeps will the timestep have?"
   ]
  },
  {
   "cell_type": "markdown",
   "metadata": {},
   "source": [
    "*Answer here in the markdown cell:*"
   ]
  },
  {
   "cell_type": "markdown",
   "metadata": {},
   "source": [
    "## Exercise 2: Differential Specification\n",
    "\n",
    "Given the following differential specification diagram, with two policy functions `p_example_1` and `p_example_2`, two state update functions `s_example_1` and `s_example_2`, and two states `state_1` and `state_2`, complete the following exercises and questions, assuming the two policy functions return the same signal key value pair of `{'example_signal': 1}`:"
   ]
  },
  {
   "cell_type": "markdown",
   "metadata": {},
   "source": [
    "<center>\n",
    "<img src=\"./images/s5-exercise-diff-spec.png\"\n",
    "     alt=\"Exercise diff. spec.\"\n",
    "     style=\"width: 60%;\" />\n",
    "</center>"
   ]
  },
  {
   "cell_type": "markdown",
   "metadata": {},
   "source": [
    "### 1. Complete the two policy functions and state update functions."
   ]
  },
  {
   "cell_type": "code",
   "execution_count": null,
   "metadata": {},
   "outputs": [],
   "source": [
    "# The following functions are incomplete - fill in the gaps and run the cell\n",
    "\n",
    "# Fill in function arguments\n",
    "def p_example_1():\n",
    "    # Fill in return value\n",
    "    return {}\n",
    "\n",
    "# Fill in function arguments\n",
    "def p_example_2():\n",
    "    # Fill in return value\n",
    "    return {}\n",
    "\n",
    "# Fill in function arguments\n",
    "def s_example_1():\n",
    "    # Fill in policy signal key\n",
    "    new_state = policy_input['']\n",
    "    # Fill in return value\n",
    "    return '', new_state\n",
    "\n",
    "# Fill in function arguments\n",
    "def s_example_2():\n",
    "    # Fill in policy signal key\n",
    "    new_state = policy_input['']\n",
    "    # Fill in return value\n",
    "    return '', new_state"
   ]
  },
  {
   "cell_type": "markdown",
   "metadata": {},
   "source": [
    "### 2. Fill in the partial state update block to properly represent the differential specification."
   ]
  },
  {
   "cell_type": "code",
   "execution_count": null,
   "metadata": {},
   "outputs": [],
   "source": [
    "# The following statement is incomplete - fill in the gaps and run the cell\n",
    "\n",
    "partial_state_update_blocks = [\n",
    "    {\n",
    "        'policies': {}, # Fill in policies\n",
    "        'variables': { # Fill in state update functions\n",
    "            'state_1': \n",
    "            'state_2':\n",
    "        }\n",
    "    }\n",
    "]"
   ]
  },
  {
   "cell_type": "markdown",
   "metadata": {},
   "source": [
    "### 3. What happens when two policy functions return the same signal key, and what signal value would be passed to the state update function `s_example_2` (note the assumptions)?"
   ]
  },
  {
   "cell_type": "markdown",
   "metadata": {},
   "source": [
    "*Answer here in the markdown cell:*"
   ]
  },
  {
   "cell_type": "markdown",
   "metadata": {},
   "source": [
    "## Exercise 3: Simulation Data Manipulation and Analysis\n",
    "\n",
    "Given the Pandas dataframe `df` from our section 5 ecosystem model simulation, complete the following exercises and questions using Pandas data manipulation where necessary:"
   ]
  },
  {
   "cell_type": "code",
   "execution_count": 2,
   "metadata": {},
   "outputs": [
    {
     "data": {
      "text/html": [
       "<div>\n",
       "<style scoped>\n",
       "    .dataframe tbody tr th:only-of-type {\n",
       "        vertical-align: middle;\n",
       "    }\n",
       "\n",
       "    .dataframe tbody tr th {\n",
       "        vertical-align: top;\n",
       "    }\n",
       "\n",
       "    .dataframe thead th {\n",
       "        text-align: right;\n",
       "    }\n",
       "</style>\n",
       "<table border=\"1\" class=\"dataframe\">\n",
       "  <thead>\n",
       "    <tr style=\"text-align: right;\">\n",
       "      <th></th>\n",
       "      <th>population</th>\n",
       "      <th>food</th>\n",
       "      <th>simulation</th>\n",
       "      <th>subset</th>\n",
       "      <th>run</th>\n",
       "      <th>substep</th>\n",
       "      <th>timestep</th>\n",
       "    </tr>\n",
       "  </thead>\n",
       "  <tbody>\n",
       "    <tr>\n",
       "      <th>0</th>\n",
       "      <td>50</td>\n",
       "      <td>1000.00</td>\n",
       "      <td>0</td>\n",
       "      <td>0</td>\n",
       "      <td>1</td>\n",
       "      <td>0</td>\n",
       "      <td>0</td>\n",
       "    </tr>\n",
       "    <tr>\n",
       "      <th>1</th>\n",
       "      <td>60</td>\n",
       "      <td>1009.50</td>\n",
       "      <td>0</td>\n",
       "      <td>0</td>\n",
       "      <td>1</td>\n",
       "      <td>1</td>\n",
       "      <td>1</td>\n",
       "    </tr>\n",
       "    <tr>\n",
       "      <th>2</th>\n",
       "      <td>71</td>\n",
       "      <td>1018.90</td>\n",
       "      <td>0</td>\n",
       "      <td>0</td>\n",
       "      <td>1</td>\n",
       "      <td>1</td>\n",
       "      <td>2</td>\n",
       "    </tr>\n",
       "    <tr>\n",
       "      <th>3</th>\n",
       "      <td>82</td>\n",
       "      <td>1028.19</td>\n",
       "      <td>0</td>\n",
       "      <td>0</td>\n",
       "      <td>1</td>\n",
       "      <td>1</td>\n",
       "      <td>3</td>\n",
       "    </tr>\n",
       "    <tr>\n",
       "      <th>4</th>\n",
       "      <td>93</td>\n",
       "      <td>1037.37</td>\n",
       "      <td>0</td>\n",
       "      <td>0</td>\n",
       "      <td>1</td>\n",
       "      <td>1</td>\n",
       "      <td>4</td>\n",
       "    </tr>\n",
       "    <tr>\n",
       "      <th>...</th>\n",
       "      <td>...</td>\n",
       "      <td>...</td>\n",
       "      <td>...</td>\n",
       "      <td>...</td>\n",
       "      <td>...</td>\n",
       "      <td>...</td>\n",
       "      <td>...</td>\n",
       "    </tr>\n",
       "    <tr>\n",
       "      <th>797</th>\n",
       "      <td>1102</td>\n",
       "      <td>902.16</td>\n",
       "      <td>1</td>\n",
       "      <td>0</td>\n",
       "      <td>1</td>\n",
       "      <td>1</td>\n",
       "      <td>396</td>\n",
       "    </tr>\n",
       "    <tr>\n",
       "      <th>798</th>\n",
       "      <td>1101</td>\n",
       "      <td>901.14</td>\n",
       "      <td>1</td>\n",
       "      <td>0</td>\n",
       "      <td>1</td>\n",
       "      <td>1</td>\n",
       "      <td>397</td>\n",
       "    </tr>\n",
       "    <tr>\n",
       "      <th>799</th>\n",
       "      <td>1100</td>\n",
       "      <td>900.13</td>\n",
       "      <td>1</td>\n",
       "      <td>0</td>\n",
       "      <td>1</td>\n",
       "      <td>1</td>\n",
       "      <td>398</td>\n",
       "    </tr>\n",
       "    <tr>\n",
       "      <th>800</th>\n",
       "      <td>1099</td>\n",
       "      <td>899.13</td>\n",
       "      <td>1</td>\n",
       "      <td>0</td>\n",
       "      <td>1</td>\n",
       "      <td>1</td>\n",
       "      <td>399</td>\n",
       "    </tr>\n",
       "    <tr>\n",
       "      <th>801</th>\n",
       "      <td>1098</td>\n",
       "      <td>898.14</td>\n",
       "      <td>1</td>\n",
       "      <td>0</td>\n",
       "      <td>1</td>\n",
       "      <td>1</td>\n",
       "      <td>400</td>\n",
       "    </tr>\n",
       "  </tbody>\n",
       "</table>\n",
       "<p>802 rows × 7 columns</p>\n",
       "</div>"
      ],
      "text/plain": [
       "     population     food  simulation  subset  run  substep  timestep\n",
       "0            50  1000.00           0       0    1        0         0\n",
       "1            60  1009.50           0       0    1        1         1\n",
       "2            71  1018.90           0       0    1        1         2\n",
       "3            82  1028.19           0       0    1        1         3\n",
       "4            93  1037.37           0       0    1        1         4\n",
       "..          ...      ...         ...     ...  ...      ...       ...\n",
       "797        1102   902.16           1       0    1        1       396\n",
       "798        1101   901.14           1       0    1        1       397\n",
       "799        1100   900.13           1       0    1        1       398\n",
       "800        1099   899.13           1       0    1        1       399\n",
       "801        1098   898.14           1       0    1        1       400\n",
       "\n",
       "[802 rows x 7 columns]"
      ]
     },
     "execution_count": 2,
     "metadata": {},
     "output_type": "execute_result"
    }
   ],
   "source": [
    "import pandas as pd\n",
    "\n",
    "df = pd.read_csv('exercise.csv', index_col=0)\n",
    "df"
   ]
  },
  {
   "cell_type": "markdown",
   "metadata": {},
   "source": [
    "### 1. What is the **maximum** food supply for simulation `1`?"
   ]
  },
  {
   "cell_type": "code",
   "execution_count": null,
   "metadata": {},
   "outputs": [],
   "source": [
    "# The following statements are incomplete - fill in the gaps and run the cell\n",
    "df_simulation_1 = df.query('')\n",
    "df_simulation_1[''].max()"
   ]
  },
  {
   "cell_type": "markdown",
   "metadata": {},
   "source": [
    "### 2. What is the **difference** between the maximum population for simulation `0` and `1`?"
   ]
  },
  {
   "cell_type": "code",
   "execution_count": null,
   "metadata": {},
   "outputs": [],
   "source": [
    "# The following statements are incomplete - fill in the gaps and run the cell\n",
    "max_population_simulation_0 = df.query('')['population'].max()\n",
    "max_population_simulation_1 = df.query('')['population'].max()\n",
    "\n",
    "max_population_simulation_0 - max_population_simulation_1"
   ]
  },
  {
   "cell_type": "markdown",
   "metadata": {},
   "source": [
    "### 3. Using a Plotly line chart, plot the food supply **rate of change** over time for simulation `1`, using the Pandas `diff()` method."
   ]
  },
  {
   "cell_type": "code",
   "execution_count": null,
   "metadata": {},
   "outputs": [],
   "source": [
    "import pandas as pd\n",
    "pd.options.plotting.backend = \"plotly\"\n",
    "\n",
    "# The following statements are incomplete - fill in the gaps and run the cell\n",
    "diff_df = df.query('simulation == 1').copy()\n",
    "diff_df['food_diff'] = diff_df[''].diff()\n",
    "diff_df.plot(kind='', x='', y=[''])"
   ]
  },
  {
   "cell_type": "markdown",
   "metadata": {},
   "source": [
    "### 4. What does the above plot tell you about the food growth over time? (Hint: the value was the **rate of change** of the food supply)"
   ]
  },
  {
   "cell_type": "markdown",
   "metadata": {},
   "source": [
    "*Answer here in the markdown cell:*"
   ]
  },
  {
   "cell_type": "markdown",
   "metadata": {},
   "source": [
    "<br/><br/><br/>\n",
    "# Well done!\n",
    "<br/><br/><br/><br/>"
   ]
  }
 ],
 "metadata": {
  "kernelspec": {
   "display_name": "Python 3",
   "language": "python",
   "name": "python3"
  },
  "language_info": {
   "codemirror_mode": {
    "name": "ipython",
    "version": 3
   },
   "file_extension": ".py",
   "mimetype": "text/x-python",
   "name": "python",
   "nbconvert_exporter": "python",
   "pygments_lexer": "ipython3",
   "version": "3.9.7"
  }
 },
 "nbformat": 4,
 "nbformat_minor": 4
}
