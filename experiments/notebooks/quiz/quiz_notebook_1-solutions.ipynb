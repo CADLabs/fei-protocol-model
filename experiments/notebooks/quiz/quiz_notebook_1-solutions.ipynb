{
 "cells": [
  {
   "cell_type": "markdown",
   "metadata": {},
   "source": [
    "# Quiz Notebook 1: FEI Protocol Model Basics"
   ]
  },
  {
   "cell_type": "markdown",
   "metadata": {},
   "source": [
    "This Quiz Notebook is associated to [**Analysis Notebook 1: Sanity Checks**](../1_sanity_checks.ipynb).\n",
    "\n",
    "The goal of this notebook is understanding how to practically make changes and additions to the FEI Protocol radCAD model."
   ]
  },
  {
   "cell_type": "markdown",
   "metadata": {},
   "source": [
    "# Quiz Setup \n",
    "\n",
    "- The first section of all quiz notebooks contains all necessary code to run the relevant simulation **within the quiz**.\n",
    "- However, this is done for enabling experimentation. **In practice, each notebook should be gone through with the associated analysis notebook**.\n",
    "- Analysis notebook sections relevant to quiz questions will be pointed to in the analysis notebooks directly.\n",
    "- Solution cells are not meant to directly execute, as these may only contain the relevant snippets."
   ]
  },
  {
   "cell_type": "markdown",
   "metadata": {},
   "source": [
    "# Experiment Setup\n",
    "\n",
    "We begin with several experiment-notebook-level preparatory setup operations:\n",
    "\n",
    "* Import relevant dependencies\n",
    "* Import relevant experiment templates\n",
    "* Create copies of experiments\n",
    "* Configure and customize experiments \n",
    "\n",
    "Analysis-specific setup operations are handled in their respective notebook sections."
   ]
  },
  {
   "cell_type": "code",
   "execution_count": null,
   "metadata": {},
   "outputs": [],
   "source": [
    "# Import the setup module:\n",
    "# * sets up the Python path\n",
    "# * runs shared notebook configuration methods, such as loading IPython modules\n",
    "import setup\n",
    "\n",
    "import copy\n",
    "import logging\n",
    "import numpy as np\n",
    "import pandas as pd\n",
    "import plotly.express as px\n",
    "\n",
    "import experiments.notebooks.visualizations as visualizations\n",
    "from experiments.run import run\n",
    "from experiments.utils import display_code"
   ]
  },
  {
   "cell_type": "code",
   "execution_count": null,
   "metadata": {},
   "outputs": [],
   "source": [
    "import plotly.io as pio\n",
    "png_renderer = pio.renderers[\"png\"]\n",
    "png_renderer.width = 1200\n",
    "png_renderer.height = 500\n",
    "# png_renderer.scale = 1\n",
    "\n",
    "pio.renderers.default = \"png\""
   ]
  },
  {
   "cell_type": "code",
   "execution_count": null,
   "metadata": {},
   "outputs": [],
   "source": [
    "from operator import lt, gt"
   ]
  },
  {
   "cell_type": "code",
   "execution_count": null,
   "metadata": {},
   "outputs": [],
   "source": [
    "# Enable/disable logging\n",
    "logger = logging.getLogger()\n",
    "logger.disabled = False"
   ]
  },
  {
   "cell_type": "code",
   "execution_count": null,
   "metadata": {},
   "outputs": [],
   "source": [
    "# Import experiment templates\n",
    "import experiments.default_experiment as default_experiment"
   ]
  },
  {
   "cell_type": "code",
   "execution_count": null,
   "metadata": {},
   "outputs": [],
   "source": [
    "# Inspect experiment template\n",
    "display_code(default_experiment)"
   ]
  },
  {
   "cell_type": "markdown",
   "metadata": {},
   "source": [
    "### Simulation 1 - Goal: Extend Simulation with Sweep"
   ]
  },
  {
   "cell_type": "code",
   "execution_count": null,
   "metadata": {},
   "outputs": [],
   "source": [
    "# Create a simulation for each analysis\n",
    "simulation_1 = copy.deepcopy(default_experiment.experiment.simulations[0])"
   ]
  },
  {
   "cell_type": "code",
   "execution_count": null,
   "metadata": {},
   "outputs": [],
   "source": [
    "# Analysis-specific setup\n",
    "parameter_overrides = {\n",
    "    # Disable policy by setting to `None`\n",
    "    \"target_stable_pcv_ratio\": [None],\n",
    "    \"target_stable_backing_ratio\": [None],\n",
    "    \"volatile_asset_price_process\": [\n",
    "        lambda _run, _timestep: 2_000,\n",
    "        lambda _run, timestep: 2_000 if timestep < 365 / 4 else (1_000 if timestep < 365 * 3/4 else 2_000),\n",
    "        lambda _run, timestep: 2_000 * (1 + timestep * 0.2 / 365),\n",
    "        lambda _run, timestep: 2_000 * (1 - timestep * 0.2 / 365),\n",
    "    ],\n",
    "}"
   ]
  },
  {
   "cell_type": "code",
   "execution_count": null,
   "metadata": {},
   "outputs": [],
   "source": [
    "# Experiment configuration\n",
    "simulation_1.model.runs = 1\n",
    "\n",
    "# Override inital state\n",
    "simulation_1.model.initial_state.update({})\n",
    "\n",
    "# Override default experiment System Parameters\n",
    "simulation_1.model.params.update(parameter_overrides)"
   ]
  },
  {
   "cell_type": "code",
   "execution_count": null,
   "metadata": {},
   "outputs": [],
   "source": [
    "# Analysis-specific setup"
   ]
  },
  {
   "cell_type": "code",
   "execution_count": null,
   "metadata": {},
   "outputs": [],
   "source": [
    "# Experiment execution\n",
    "df, exceptions = run(simulation_1)"
   ]
  },
  {
   "cell_type": "code",
   "execution_count": null,
   "metadata": {},
   "outputs": [],
   "source": [
    "fig = df.plot(y='volatile_asset_price', color='subset')\n",
    "\n",
    "fig.update_layout(\n",
    "    title=\"Volatile Asset (e.g. ETH) Price Trajectories\",\n",
    "    xaxis_title=\"Timestamp\",\n",
    "    yaxis_title=\"Volatile Asset Price (USD)\",\n",
    "    autosize=False,\n",
    "    width=1200,\n",
    "    height=675,\n",
    ")"
   ]
  },
  {
   "cell_type": "markdown",
   "metadata": {},
   "source": [
    "### Part 1 - Sanity Checks Analysis 1"
   ]
  },
  {
   "cell_type": "markdown",
   "metadata": {},
   "source": [
    "1. Write a **lambda function** for a volatile asset price trajectory of your choosing"
   ]
  },
  {
   "cell_type": "code",
   "execution_count": null,
   "metadata": {},
   "outputs": [],
   "source": [
    "new_trajectory = lambda _run, _timestep: 1_800"
   ]
  },
  {
   "cell_type": "markdown",
   "metadata": {},
   "source": [
    "2. Extend simulation 1 by adding the new trajectory to the parameter sweep"
   ]
  },
  {
   "cell_type": "raw",
   "metadata": {},
   "source": [
    "# Within paramter overrides, we add the new trajectory to sweep\n",
    "\n",
    "\"volatile_asset_price_process\": [\n",
    "    lambda _run, _timestep: 2_000,\n",
    "    lambda _run, timestep: 2_000 if timestep < 365 / 4 else (1_000 if timestep < 365 * 3/4 else 2_000),\n",
    "    lambda _run, timestep: 2_000 * (1 + timestep * 0.2 / 365),\n",
    "    lambda _run, timestep: 2_000 * (1 - timestep * 0.2 / 365),\n",
    "    new_trajectory,\n",
    "]\n",
    "    \n",
    "# NOTE: these functions do not have to be named explicitly"
   ]
  },
  {
   "cell_type": "markdown",
   "metadata": {},
   "source": [
    "3. In the **Sanity Checks Analysis Notebook**, add this new trajectory to the **volatile_asset_price_process** parameter sweep and re-execute **Analysis 1** in the notebook. Confirm that you can see the new trajectory as a new element in all relevant plots. Note the dynamics you observe for the price process you added."
   ]
  },
  {
   "cell_type": "markdown",
   "metadata": {},
   "source": [
    "### Part 2 - Goal: Extend Simulation with model update"
   ]
  },
  {
   "cell_type": "markdown",
   "metadata": {},
   "source": [
    "1. How is a new state variable added to a radCAD model?\n"
   ]
  },
  {
   "cell_type": "markdown",
   "metadata": {},
   "source": [
    "**A:** A new state variable is added an initialized in the **/model/state_variables.py** system parameters dataclass."
   ]
  },
  {
   "cell_type": "markdown",
   "metadata": {},
   "source": [
    "2. Add a state variable named <b>reserve_ratio</b> to the relevant file for setting state variables, and initialize its value to 1\n"
   ]
  },
  {
   "cell_type": "raw",
   "metadata": {},
   "source": [
    "# In /model/state_variables.py, add the new state variable\n",
    "# as a field in the dataclass\n",
    "\n",
    "@dataclass\n",
    "class StateVariables:\n",
    "    \n",
    "    #...\n",
    "    \n",
    "    reserve_ratio: Percentage = Uninitialized\n",
    "    \"\"\"\n",
    "    The reserve ratio of the Fei protocol.\n",
    "    \"\"\""
   ]
  },
  {
   "cell_type": "markdown",
   "metadata": {},
   "source": [
    "3. Where in the directory structure can partial state update blocks be added?\n"
   ]
  },
  {
   "cell_type": "markdown",
   "metadata": {},
   "source": [
    "**A:** New partial state update blocks are added in the partial state update blocks folder. The **/model/parts** folder is used to add in modular policies and state update functions which can be imported into the state update blocks file for execution."
   ]
  },
  {
   "cell_type": "markdown",
   "metadata": {},
   "source": [
    "4. Create the file <b>/model/parts/quiz_block.py</b>\n"
   ]
  },
  {
   "cell_type": "markdown",
   "metadata": {},
   "source": [
    "5. In this file, create a **state update function** which updates the **reserve_ratio** state variable as: **RR = (PCV + Protocol-Owned FEI) / Total FEI Supply.** You are provided with all state variables needed to compute this."
   ]
  },
  {
   "cell_type": "code",
   "execution_count": null,
   "metadata": {},
   "outputs": [],
   "source": [
    "def update_reserve_ratio(\n",
    "    params: Parameters, substep, state_history, previous_state, policy_input\n",
    ") -> float:\n",
    "    \"\"\"Update Reserve Ratio\n",
    "    State update block for update of the protocol reserve ratio\n",
    "    \"\"\"\n",
    "\n",
    "    # Parameters\n",
    "    dt = params[\"dt\"]\n",
    "\n",
    "    # State Variables\n",
    "    run = previous_state[\"run\"]\n",
    "    timestep = previous_state[\"timestep\"]\n",
    "    \n",
    "    total_pcv = previous_state[\"total_pcv\"]\n",
    "    total_protocol_owned_fei = previous_state[\"total_protocol_owned_fei\"]\n",
    "    total_fei_supply = previous_state[\"total_fei_supply\"]\n",
    "    \n",
    "    #RR = (PCV + Protocol-Owned FEI) / Total FEI Supply.\n",
    "    reserve_ratio = (total_pcv + total_protocol_owned_fei) / total_fei_supply\n",
    "    \n",
    "    return \"reserve_ratio\", reserve_ratio\n"
   ]
  },
  {
   "cell_type": "markdown",
   "metadata": {},
   "source": [
    "6. How and where do you include a State Update Function as part of a radCAD model?"
   ]
  },
  {
   "cell_type": "markdown",
   "metadata": {},
   "source": [
    "**A:** a PSUB dict must be constructed and appended to the list of PSUBs in **/model/state_update_blocks.py**"
   ]
  },
  {
   "cell_type": "markdown",
   "metadata": {},
   "source": [
    "7. In the file **/model/state_update_blocks.py** create a new PSUB (by copying the existing structure) and append it as the last element of the list."
   ]
  },
  {
   "cell_type": "markdown",
   "metadata": {},
   "source": [
    "state_update_blocks = [...] #add dict to last element of this list"
   ]
  },
  {
   "cell_type": "markdown",
   "metadata": {},
   "source": [
    "8. Process the state variable update to **reserve_ratio** through importing and including the state update function you just created in **/model/parts/quiz_block.py**"
   ]
  },
  {
   "cell_type": "code",
   "execution_count": null,
   "metadata": {},
   "outputs": [],
   "source": [
    "#import model.parts.reserve_ratio as reserve_ratio\n",
    "# within state_update_blocks = [...]\n",
    "PSUB = {\n",
    "    description: \"\"\"\n",
    "        Update Reserve Ratio Toy PSUB\n",
    "    \"\"\",\n",
    "    policies: {},\n",
    "    variables: {\n",
    "        \"reserve_ratio\": reserve_ratio.update_reserve_ratio,\n",
    "    },\n",
    "},"
   ]
  },
  {
   "cell_type": "markdown",
   "metadata": {},
   "source": []
  },
  {
   "cell_type": "markdown",
   "metadata": {},
   "source": [
    "9. Re-run the **Sanity Checks Analysis Notebook**, and plot the **reserve_ratio** state variable alongside collateral ratio, for a *single* subset, where indicated."
   ]
  },
  {
   "cell_type": "code",
   "execution_count": null,
   "metadata": {},
   "outputs": [],
   "source": [
    "df_2.query(\"subset==0\").plot(\n",
    "    x=\"timestep\",\n",
    "    y=[\"collateralization_ratio\", \"reserve_ratio\"],\n",
    ")"
   ]
  },
  {
   "cell_type": "markdown",
   "metadata": {},
   "source": [
    "10. In the **Sanity Checks Analysis Notebook**, where indicated, add this variable to the **variables** python list, and re-execute notebook Analyses 2.1 and 2.2."
   ]
  },
  {
   "cell_type": "markdown",
   "metadata": {},
   "source": [
    "11. What is the correlation between **reserve_ratio** and **collateralization_ratio** ?"
   ]
  },
  {
   "cell_type": "markdown",
   "metadata": {},
   "source": [
    "**A:** The correlation is of **0.997** - this is expected given both these KPIs encode very similar information."
   ]
  },
  {
   "cell_type": "markdown",
   "metadata": {},
   "source": [
    "### Part 3 - Goal: Extend Simulation with model update refactor"
   ]
  },
  {
   "cell_type": "markdown",
   "metadata": {},
   "source": [
    "We can generally be much more efficient than creating a PSUB with associated model part just for a **single** state variable. Here we show how to add **reserve_ratio** into an existing policy."
   ]
  },
  {
   "cell_type": "markdown",
   "metadata": {},
   "source": [
    "1. Remove the existing PSUB from the model by **commenting out** its inclusion in  **/model/state_update_blocks.py**"
   ]
  },
  {
   "cell_type": "markdown",
   "metadata": {},
   "source": [
    "2. (Optional) Remove the file **/model/parts/quiz_block.py**"
   ]
  },
  {
   "cell_type": "markdown",
   "metadata": {},
   "source": [
    "3. Which **model part file** is it most appropriate to add in the calculation of this metric: _Hint: see radCAD Differential Spec_"
   ]
  },
  {
   "cell_type": "raw",
   "metadata": {},
   "source": [
    "/model/parts/system_metrics.py"
   ]
  },
  {
   "cell_type": "markdown",
   "metadata": {},
   "source": [
    "4. Create the calculation for the **reserve_ratio** as part of the appropriate policy function, and add it as an element of the python dict returned by the policy"
   ]
  },
  {
   "cell_type": "raw",
   "metadata": {},
   "source": [
    "def policy_system_metrics(params, substep, state_history, previous_state):\n",
    "    # ...\n",
    "    \n",
    "    total_pcv = previous_state[\"total_pcv\"]\n",
    "    total_protocol_owned_fei = previous_state[\"total_protocol_owned_fei\"]\n",
    "    total_fei_supply = previous_state[\"total_fei_supply\"]\n",
    "    \n",
    "    #... \n",
    "    \n",
    "    #RR = (PCV + Protocol-Owned FEI) / Total FEI Supply.\n",
    "    reserve_ratio = (total_pcv + total_protocol_owned_fei) / total_fei_supply\n",
    " \n",
    "    #...\n",
    "    \n",
    "    return {\n",
    "        \"stable_backing_ratio\": stable_backing_ratio,\n",
    "        \"stable_pcv_ratio\": stable_pcv_ratio,\n",
    "        \"collateralization_ratio\": collateralization_ratio,\n",
    "        \"pcv_yield_rate\": pcv_yield_rate,\n",
    "        \"protocol_equity\": protocol_equity,\n",
    "        \"protocol_revenue\": protocol_revenue,\n",
    "        \"reserve_ratio\": reserve_ratio, # <-- HERE!\n",
    "    }"
   ]
  },
  {
   "cell_type": "markdown",
   "metadata": {},
   "source": []
  },
  {
   "cell_type": "markdown",
   "metadata": {},
   "source": [
    "5. How do you make sure a state update of a variable just added to a policy function is included in radCAD execution?"
   ]
  },
  {
   "cell_type": "markdown",
   "metadata": {},
   "source": [
    "**A:** you must make sure it is present in the **variables: {}** item of the concerned PSUB"
   ]
  },
  {
   "cell_type": "markdown",
   "metadata": {},
   "source": [
    "6. How do you update the **reserve_ratio** variable in the PSUB whose description field is “System Metrics”, **without using a state update function?**"
   ]
  },
  {
   "cell_type": "markdown",
   "metadata": {},
   "source": [
    "**A:** use the radCAD **update_from_signal()** helper"
   ]
  },
  {
   "cell_type": "markdown",
   "metadata": {},
   "source": [
    "7. Include **reserve_ratio** in the list comprehension for the system metrics PSUB."
   ]
  },
  {
   "cell_type": "markdown",
   "metadata": {},
   "source": [
    "PSUB = {\n",
    "    description: \"\"\"\n",
    "        System Metrics\n",
    "    \"\"\",\n",
    "    policies: {\n",
    "        \"system_metrics\": system_metrics.policy_system_metrics,\n",
    "    },\n",
    "    variables: {\n",
    "        key: update_from_signal(key)\n",
    "        for key in [\n",
    "            # PCV System Metrics\n",
    "            \"stable_backing_ratio\",\n",
    "            \"stable_pcv_ratio\",\n",
    "            \"collateralization_ratio\",\n",
    "            \"pcv_yield_rate\",\n",
    "            \"reserve_ratio\", # <-- ADD HERE\n",
    "            # Protocol System Metrics\n",
    "            \"protocol_equity\",\n",
    "            \"protocol_revenue\",\n",
    "        ]\n",
    "    },\n",
    "},"
   ]
  },
  {
   "cell_type": "markdown",
   "metadata": {},
   "source": [
    "8. Re-run the sanity checks notebook and make sure outputs are the same as in the previous set of questions. "
   ]
  }
 ],
 "metadata": {
  "kernelspec": {
   "display_name": "Python 3",
   "language": "python",
   "name": "python3"
  },
  "language_info": {
   "codemirror_mode": {
    "name": "ipython",
    "version": 3
   },
   "file_extension": ".py",
   "mimetype": "text/x-python",
   "name": "python",
   "nbconvert_exporter": "python",
   "pygments_lexer": "ipython3",
   "version": "3.9.7"
  }
 },
 "nbformat": 4,
 "nbformat_minor": 4
}
