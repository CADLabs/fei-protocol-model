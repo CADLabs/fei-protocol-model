{
 "cells": [
  {
   "cell_type": "markdown",
   "metadata": {},
   "source": [
    "# Quiz Notebook 1: FEI Protocol Model Basics"
   ]
  },
  {
   "cell_type": "markdown",
   "metadata": {},
   "source": [
    "This Quiz Notebook is associated to [**Analysis Notebook 1: Sanity Checks**](../1_sanity_checks.ipynb).\n",
    "\n",
    "The goal of this notebook is understanding how to practically make changes and additions to the FEI Protocol radCAD model."
   ]
  },
  {
   "cell_type": "markdown",
   "metadata": {},
   "source": [
    "# Quiz Setup \n",
    "\n",
    "- The first section of all quiz notebooks contains all necessary code to run the relevant simulation **within the quiz**.\n",
    "- However, this is done for enabling experimentation. **In practice, each notebook should be gone through with the associated analysis notebook**.\n",
    "- Analysis notebook sections relevant to quiz questions will be pointed to in the analysis notebooks directly.\n",
    "- Solution cells are not meant to directly execute, as these may only contain the relevant snippets."
   ]
  },
  {
   "cell_type": "markdown",
   "metadata": {},
   "source": [
    "# Experiment Setup\n",
    "\n",
    "We begin with several experiment-notebook-level preparatory setup operations:\n",
    "\n",
    "* Import relevant dependencies\n",
    "* Import relevant experiment templates\n",
    "* Create copies of experiments\n",
    "* Configure and customize experiments \n",
    "\n",
    "Analysis-specific setup operations are handled in their respective notebook sections."
   ]
  },
  {
   "cell_type": "code",
   "execution_count": 1,
   "metadata": {},
   "outputs": [],
   "source": [
    "# Import the setup module:\n",
    "# * sets up the Python path\n",
    "# * runs shared notebook configuration methods, such as loading IPython modules\n",
    "import setup\n",
    "\n",
    "import copy\n",
    "import logging\n",
    "import numpy as np\n",
    "import pandas as pd\n",
    "import plotly.express as px\n",
    "\n",
    "import experiments.notebooks.visualizations as visualizations\n",
    "from experiments.run import run\n",
    "from experiments.utils import display_code"
   ]
  },
  {
   "cell_type": "code",
   "execution_count": 2,
   "metadata": {},
   "outputs": [],
   "source": [
    "import plotly.io as pio\n",
    "png_renderer = pio.renderers[\"png\"]\n",
    "png_renderer.width = 1200\n",
    "png_renderer.height = 500\n",
    "# png_renderer.scale = 1\n",
    "\n",
    "pio.renderers.default = \"png\""
   ]
  },
  {
   "cell_type": "code",
   "execution_count": 3,
   "metadata": {},
   "outputs": [],
   "source": [
    "from operator import lt, gt"
   ]
  },
  {
   "cell_type": "code",
   "execution_count": 4,
   "metadata": {},
   "outputs": [],
   "source": [
    "# Enable/disable logging\n",
    "logger = logging.getLogger()\n",
    "logger.disabled = False"
   ]
  },
  {
   "cell_type": "code",
   "execution_count": 5,
   "metadata": {},
   "outputs": [],
   "source": [
    "# Import experiment templates\n",
    "import experiments.default_experiment as default_experiment"
   ]
  },
  {
   "cell_type": "code",
   "execution_count": 6,
   "metadata": {},
   "outputs": [
    {
     "data": {
      "text/html": [
       "<style>pre { line-height: 125%; }\n",
       "td.linenos .normal { color: inherit; background-color: transparent; padding-left: 5px; padding-right: 5px; }\n",
       "span.linenos { color: inherit; background-color: transparent; padding-left: 5px; padding-right: 5px; }\n",
       "td.linenos .special { color: #000000; background-color: #ffffc0; padding-left: 5px; padding-right: 5px; }\n",
       "span.linenos.special { color: #000000; background-color: #ffffc0; padding-left: 5px; padding-right: 5px; }\n",
       ".highlight .hll { background-color: #ffffcc }\n",
       ".highlight { background: #f8f8f8; }\n",
       ".highlight .c { color: #408080; font-style: italic } /* Comment */\n",
       ".highlight .err { border: 1px solid #FF0000 } /* Error */\n",
       ".highlight .k { color: #008000; font-weight: bold } /* Keyword */\n",
       ".highlight .o { color: #666666 } /* Operator */\n",
       ".highlight .ch { color: #408080; font-style: italic } /* Comment.Hashbang */\n",
       ".highlight .cm { color: #408080; font-style: italic } /* Comment.Multiline */\n",
       ".highlight .cp { color: #BC7A00 } /* Comment.Preproc */\n",
       ".highlight .cpf { color: #408080; font-style: italic } /* Comment.PreprocFile */\n",
       ".highlight .c1 { color: #408080; font-style: italic } /* Comment.Single */\n",
       ".highlight .cs { color: #408080; font-style: italic } /* Comment.Special */\n",
       ".highlight .gd { color: #A00000 } /* Generic.Deleted */\n",
       ".highlight .ge { font-style: italic } /* Generic.Emph */\n",
       ".highlight .gr { color: #FF0000 } /* Generic.Error */\n",
       ".highlight .gh { color: #000080; font-weight: bold } /* Generic.Heading */\n",
       ".highlight .gi { color: #00A000 } /* Generic.Inserted */\n",
       ".highlight .go { color: #888888 } /* Generic.Output */\n",
       ".highlight .gp { color: #000080; font-weight: bold } /* Generic.Prompt */\n",
       ".highlight .gs { font-weight: bold } /* Generic.Strong */\n",
       ".highlight .gu { color: #800080; font-weight: bold } /* Generic.Subheading */\n",
       ".highlight .gt { color: #0044DD } /* Generic.Traceback */\n",
       ".highlight .kc { color: #008000; font-weight: bold } /* Keyword.Constant */\n",
       ".highlight .kd { color: #008000; font-weight: bold } /* Keyword.Declaration */\n",
       ".highlight .kn { color: #008000; font-weight: bold } /* Keyword.Namespace */\n",
       ".highlight .kp { color: #008000 } /* Keyword.Pseudo */\n",
       ".highlight .kr { color: #008000; font-weight: bold } /* Keyword.Reserved */\n",
       ".highlight .kt { color: #B00040 } /* Keyword.Type */\n",
       ".highlight .m { color: #666666 } /* Literal.Number */\n",
       ".highlight .s { color: #BA2121 } /* Literal.String */\n",
       ".highlight .na { color: #7D9029 } /* Name.Attribute */\n",
       ".highlight .nb { color: #008000 } /* Name.Builtin */\n",
       ".highlight .nc { color: #0000FF; font-weight: bold } /* Name.Class */\n",
       ".highlight .no { color: #880000 } /* Name.Constant */\n",
       ".highlight .nd { color: #AA22FF } /* Name.Decorator */\n",
       ".highlight .ni { color: #999999; font-weight: bold } /* Name.Entity */\n",
       ".highlight .ne { color: #D2413A; font-weight: bold } /* Name.Exception */\n",
       ".highlight .nf { color: #0000FF } /* Name.Function */\n",
       ".highlight .nl { color: #A0A000 } /* Name.Label */\n",
       ".highlight .nn { color: #0000FF; font-weight: bold } /* Name.Namespace */\n",
       ".highlight .nt { color: #008000; font-weight: bold } /* Name.Tag */\n",
       ".highlight .nv { color: #19177C } /* Name.Variable */\n",
       ".highlight .ow { color: #AA22FF; font-weight: bold } /* Operator.Word */\n",
       ".highlight .w { color: #bbbbbb } /* Text.Whitespace */\n",
       ".highlight .mb { color: #666666 } /* Literal.Number.Bin */\n",
       ".highlight .mf { color: #666666 } /* Literal.Number.Float */\n",
       ".highlight .mh { color: #666666 } /* Literal.Number.Hex */\n",
       ".highlight .mi { color: #666666 } /* Literal.Number.Integer */\n",
       ".highlight .mo { color: #666666 } /* Literal.Number.Oct */\n",
       ".highlight .sa { color: #BA2121 } /* Literal.String.Affix */\n",
       ".highlight .sb { color: #BA2121 } /* Literal.String.Backtick */\n",
       ".highlight .sc { color: #BA2121 } /* Literal.String.Char */\n",
       ".highlight .dl { color: #BA2121 } /* Literal.String.Delimiter */\n",
       ".highlight .sd { color: #BA2121; font-style: italic } /* Literal.String.Doc */\n",
       ".highlight .s2 { color: #BA2121 } /* Literal.String.Double */\n",
       ".highlight .se { color: #BB6622; font-weight: bold } /* Literal.String.Escape */\n",
       ".highlight .sh { color: #BA2121 } /* Literal.String.Heredoc */\n",
       ".highlight .si { color: #BB6688; font-weight: bold } /* Literal.String.Interpol */\n",
       ".highlight .sx { color: #008000 } /* Literal.String.Other */\n",
       ".highlight .sr { color: #BB6688 } /* Literal.String.Regex */\n",
       ".highlight .s1 { color: #BA2121 } /* Literal.String.Single */\n",
       ".highlight .ss { color: #19177C } /* Literal.String.Symbol */\n",
       ".highlight .bp { color: #008000 } /* Name.Builtin.Pseudo */\n",
       ".highlight .fm { color: #0000FF } /* Name.Function.Magic */\n",
       ".highlight .vc { color: #19177C } /* Name.Variable.Class */\n",
       ".highlight .vg { color: #19177C } /* Name.Variable.Global */\n",
       ".highlight .vi { color: #19177C } /* Name.Variable.Instance */\n",
       ".highlight .vm { color: #19177C } /* Name.Variable.Magic */\n",
       ".highlight .il { color: #666666 } /* Literal.Number.Integer.Long */</style>"
      ],
      "text/plain": [
       "<IPython.core.display.HTML object>"
      ]
     },
     "metadata": {},
     "output_type": "display_data"
    },
    {
     "data": {
      "text/html": [
       "<style>pre { line-height: 125%; }\n",
       "td.linenos .normal { color: inherit; background-color: transparent; padding-left: 5px; padding-right: 5px; }\n",
       "span.linenos { color: inherit; background-color: transparent; padding-left: 5px; padding-right: 5px; }\n",
       "td.linenos .special { color: #000000; background-color: #ffffc0; padding-left: 5px; padding-right: 5px; }\n",
       "span.linenos.special { color: #000000; background-color: #ffffc0; padding-left: 5px; padding-right: 5px; }\n",
       ".output_html .hll { background-color: #ffffcc }\n",
       ".output_html { background: #f8f8f8; }\n",
       ".output_html .c { color: #408080; font-style: italic } /* Comment */\n",
       ".output_html .err { border: 1px solid #FF0000 } /* Error */\n",
       ".output_html .k { color: #008000; font-weight: bold } /* Keyword */\n",
       ".output_html .o { color: #666666 } /* Operator */\n",
       ".output_html .ch { color: #408080; font-style: italic } /* Comment.Hashbang */\n",
       ".output_html .cm { color: #408080; font-style: italic } /* Comment.Multiline */\n",
       ".output_html .cp { color: #BC7A00 } /* Comment.Preproc */\n",
       ".output_html .cpf { color: #408080; font-style: italic } /* Comment.PreprocFile */\n",
       ".output_html .c1 { color: #408080; font-style: italic } /* Comment.Single */\n",
       ".output_html .cs { color: #408080; font-style: italic } /* Comment.Special */\n",
       ".output_html .gd { color: #A00000 } /* Generic.Deleted */\n",
       ".output_html .ge { font-style: italic } /* Generic.Emph */\n",
       ".output_html .gr { color: #FF0000 } /* Generic.Error */\n",
       ".output_html .gh { color: #000080; font-weight: bold } /* Generic.Heading */\n",
       ".output_html .gi { color: #00A000 } /* Generic.Inserted */\n",
       ".output_html .go { color: #888888 } /* Generic.Output */\n",
       ".output_html .gp { color: #000080; font-weight: bold } /* Generic.Prompt */\n",
       ".output_html .gs { font-weight: bold } /* Generic.Strong */\n",
       ".output_html .gu { color: #800080; font-weight: bold } /* Generic.Subheading */\n",
       ".output_html .gt { color: #0044DD } /* Generic.Traceback */\n",
       ".output_html .kc { color: #008000; font-weight: bold } /* Keyword.Constant */\n",
       ".output_html .kd { color: #008000; font-weight: bold } /* Keyword.Declaration */\n",
       ".output_html .kn { color: #008000; font-weight: bold } /* Keyword.Namespace */\n",
       ".output_html .kp { color: #008000 } /* Keyword.Pseudo */\n",
       ".output_html .kr { color: #008000; font-weight: bold } /* Keyword.Reserved */\n",
       ".output_html .kt { color: #B00040 } /* Keyword.Type */\n",
       ".output_html .m { color: #666666 } /* Literal.Number */\n",
       ".output_html .s { color: #BA2121 } /* Literal.String */\n",
       ".output_html .na { color: #7D9029 } /* Name.Attribute */\n",
       ".output_html .nb { color: #008000 } /* Name.Builtin */\n",
       ".output_html .nc { color: #0000FF; font-weight: bold } /* Name.Class */\n",
       ".output_html .no { color: #880000 } /* Name.Constant */\n",
       ".output_html .nd { color: #AA22FF } /* Name.Decorator */\n",
       ".output_html .ni { color: #999999; font-weight: bold } /* Name.Entity */\n",
       ".output_html .ne { color: #D2413A; font-weight: bold } /* Name.Exception */\n",
       ".output_html .nf { color: #0000FF } /* Name.Function */\n",
       ".output_html .nl { color: #A0A000 } /* Name.Label */\n",
       ".output_html .nn { color: #0000FF; font-weight: bold } /* Name.Namespace */\n",
       ".output_html .nt { color: #008000; font-weight: bold } /* Name.Tag */\n",
       ".output_html .nv { color: #19177C } /* Name.Variable */\n",
       ".output_html .ow { color: #AA22FF; font-weight: bold } /* Operator.Word */\n",
       ".output_html .w { color: #bbbbbb } /* Text.Whitespace */\n",
       ".output_html .mb { color: #666666 } /* Literal.Number.Bin */\n",
       ".output_html .mf { color: #666666 } /* Literal.Number.Float */\n",
       ".output_html .mh { color: #666666 } /* Literal.Number.Hex */\n",
       ".output_html .mi { color: #666666 } /* Literal.Number.Integer */\n",
       ".output_html .mo { color: #666666 } /* Literal.Number.Oct */\n",
       ".output_html .sa { color: #BA2121 } /* Literal.String.Affix */\n",
       ".output_html .sb { color: #BA2121 } /* Literal.String.Backtick */\n",
       ".output_html .sc { color: #BA2121 } /* Literal.String.Char */\n",
       ".output_html .dl { color: #BA2121 } /* Literal.String.Delimiter */\n",
       ".output_html .sd { color: #BA2121; font-style: italic } /* Literal.String.Doc */\n",
       ".output_html .s2 { color: #BA2121 } /* Literal.String.Double */\n",
       ".output_html .se { color: #BB6622; font-weight: bold } /* Literal.String.Escape */\n",
       ".output_html .sh { color: #BA2121 } /* Literal.String.Heredoc */\n",
       ".output_html .si { color: #BB6688; font-weight: bold } /* Literal.String.Interpol */\n",
       ".output_html .sx { color: #008000 } /* Literal.String.Other */\n",
       ".output_html .sr { color: #BB6688 } /* Literal.String.Regex */\n",
       ".output_html .s1 { color: #BA2121 } /* Literal.String.Single */\n",
       ".output_html .ss { color: #19177C } /* Literal.String.Symbol */\n",
       ".output_html .bp { color: #008000 } /* Name.Builtin.Pseudo */\n",
       ".output_html .fm { color: #0000FF } /* Name.Function.Magic */\n",
       ".output_html .vc { color: #19177C } /* Name.Variable.Class */\n",
       ".output_html .vg { color: #19177C } /* Name.Variable.Global */\n",
       ".output_html .vi { color: #19177C } /* Name.Variable.Instance */\n",
       ".output_html .vm { color: #19177C } /* Name.Variable.Magic */\n",
       ".output_html .il { color: #666666 } /* Literal.Number.Integer.Long */</style><div class=\"highlight\"><pre><span></span><span class=\"sd\">&quot;&quot;&quot;</span>\n",
       "<span class=\"sd\">The default experiment with default model Initial State, System Parameters, and Simulation Configuration.</span>\n",
       "<span class=\"sd\">The defaults are defined in their respective modules:</span>\n",
       "<span class=\"sd\">* Initial State in `model/state_variables.py`</span>\n",
       "<span class=\"sd\">* System Parameters in `model/system_parameters.py`</span>\n",
       "<span class=\"sd\">* Simulation Configuration in `experiments/simulation_configuration.py`</span>\n",
       "<span class=\"sd\">&quot;&quot;&quot;</span>\n",
       "\n",
       "<span class=\"kn\">from</span> <span class=\"nn\">radcad</span> <span class=\"kn\">import</span> <span class=\"n\">Simulation</span><span class=\"p\">,</span> <span class=\"n\">Experiment</span><span class=\"p\">,</span> <span class=\"n\">Backend</span>\n",
       "\n",
       "<span class=\"kn\">from</span> <span class=\"nn\">model</span> <span class=\"kn\">import</span> <span class=\"n\">model</span>\n",
       "<span class=\"kn\">from</span> <span class=\"nn\">experiments.simulation_configuration</span> <span class=\"kn\">import</span> <span class=\"n\">TIMESTEPS</span><span class=\"p\">,</span> <span class=\"n\">MONTE_CARLO_RUNS</span>\n",
       "<span class=\"kn\">from</span> <span class=\"nn\">model.initialization</span> <span class=\"kn\">import</span> <span class=\"n\">setup_initial_state</span>\n",
       "\n",
       "<span class=\"kn\">import</span> <span class=\"nn\">logging</span>\n",
       "<span class=\"n\">logging</span><span class=\"o\">.</span><span class=\"n\">disable</span><span class=\"p\">(</span><span class=\"n\">logging</span><span class=\"o\">.</span><span class=\"n\">DEBUG</span><span class=\"p\">)</span>\n",
       "\n",
       "\n",
       "<span class=\"c1\"># Create Model Simulation</span>\n",
       "<span class=\"n\">simulation</span> <span class=\"o\">=</span> <span class=\"n\">Simulation</span><span class=\"p\">(</span>\n",
       "    <span class=\"n\">model</span><span class=\"o\">=</span><span class=\"n\">model</span><span class=\"p\">,</span>\n",
       "    <span class=\"n\">timesteps</span><span class=\"o\">=</span><span class=\"n\">TIMESTEPS</span><span class=\"p\">,</span>\n",
       "    <span class=\"n\">runs</span><span class=\"o\">=</span><span class=\"n\">MONTE_CARLO_RUNS</span>\n",
       "<span class=\"p\">)</span>\n",
       "<span class=\"c1\"># Create Experiment of single Simulation</span>\n",
       "<span class=\"n\">experiment</span> <span class=\"o\">=</span> <span class=\"n\">Experiment</span><span class=\"p\">([</span><span class=\"n\">simulation</span><span class=\"p\">])</span>\n",
       "<span class=\"c1\"># Configure Simulation &amp; Experiment engine</span>\n",
       "<span class=\"n\">simulation</span><span class=\"o\">.</span><span class=\"n\">engine</span> <span class=\"o\">=</span> <span class=\"n\">experiment</span><span class=\"o\">.</span><span class=\"n\">engine</span>\n",
       "<span class=\"c1\"># experiment.engine.backend = Backend.SINGLE_PROCESS</span>\n",
       "<span class=\"n\">experiment</span><span class=\"o\">.</span><span class=\"n\">engine</span><span class=\"o\">.</span><span class=\"n\">deepcopy</span> <span class=\"o\">=</span> <span class=\"kc\">True</span>\n",
       "<span class=\"n\">experiment</span><span class=\"o\">.</span><span class=\"n\">engine</span><span class=\"o\">.</span><span class=\"n\">drop_substeps</span> <span class=\"o\">=</span> <span class=\"kc\">True</span>\n",
       "<span class=\"n\">experiment</span><span class=\"o\">.</span><span class=\"n\">engine</span><span class=\"o\">.</span><span class=\"n\">raise_exceptions</span> <span class=\"o\">=</span> <span class=\"kc\">True</span>\n",
       "\n",
       "<span class=\"c1\"># Configure simulation hooks</span>\n",
       "<span class=\"n\">before_subset</span> <span class=\"o\">=</span> <span class=\"k\">lambda</span> <span class=\"n\">context</span><span class=\"p\">:</span> <span class=\"p\">[</span>\n",
       "    <span class=\"n\">setup_initial_state</span><span class=\"p\">(</span><span class=\"n\">context</span><span class=\"p\">),</span>\n",
       "<span class=\"p\">]</span>\n",
       "<span class=\"n\">simulation</span><span class=\"o\">.</span><span class=\"n\">before_subset</span> <span class=\"o\">=</span> <span class=\"n\">before_subset</span>\n",
       "<span class=\"n\">experiment</span><span class=\"o\">.</span><span class=\"n\">before_subset</span> <span class=\"o\">=</span> <span class=\"n\">before_subset</span>\n",
       "</pre></div>\n"
      ],
      "text/latex": [
       "\\begin{Verbatim}[commandchars=\\\\\\{\\}]\n",
       "\\PY{l+s+sd}{\\PYZdq{}\\PYZdq{}\\PYZdq{}}\n",
       "\\PY{l+s+sd}{The default experiment with default model Initial State, System Parameters, and Simulation Configuration.}\n",
       "\\PY{l+s+sd}{The defaults are defined in their respective modules:}\n",
       "\\PY{l+s+sd}{* Initial State in `model/state\\PYZus{}variables.py`}\n",
       "\\PY{l+s+sd}{* System Parameters in `model/system\\PYZus{}parameters.py`}\n",
       "\\PY{l+s+sd}{* Simulation Configuration in `experiments/simulation\\PYZus{}configuration.py`}\n",
       "\\PY{l+s+sd}{\\PYZdq{}\\PYZdq{}\\PYZdq{}}\n",
       "\n",
       "\\PY{k+kn}{from} \\PY{n+nn}{radcad} \\PY{k+kn}{import} \\PY{n}{Simulation}\\PY{p}{,} \\PY{n}{Experiment}\\PY{p}{,} \\PY{n}{Backend}\n",
       "\n",
       "\\PY{k+kn}{from} \\PY{n+nn}{model} \\PY{k+kn}{import} \\PY{n}{model}\n",
       "\\PY{k+kn}{from} \\PY{n+nn}{experiments}\\PY{n+nn}{.}\\PY{n+nn}{simulation\\PYZus{}configuration} \\PY{k+kn}{import} \\PY{n}{TIMESTEPS}\\PY{p}{,} \\PY{n}{MONTE\\PYZus{}CARLO\\PYZus{}RUNS}\n",
       "\\PY{k+kn}{from} \\PY{n+nn}{model}\\PY{n+nn}{.}\\PY{n+nn}{initialization} \\PY{k+kn}{import} \\PY{n}{setup\\PYZus{}initial\\PYZus{}state}\n",
       "\n",
       "\\PY{k+kn}{import} \\PY{n+nn}{logging}\n",
       "\\PY{n}{logging}\\PY{o}{.}\\PY{n}{disable}\\PY{p}{(}\\PY{n}{logging}\\PY{o}{.}\\PY{n}{DEBUG}\\PY{p}{)}\n",
       "\n",
       "\n",
       "\\PY{c+c1}{\\PYZsh{} Create Model Simulation}\n",
       "\\PY{n}{simulation} \\PY{o}{=} \\PY{n}{Simulation}\\PY{p}{(}\n",
       "    \\PY{n}{model}\\PY{o}{=}\\PY{n}{model}\\PY{p}{,}\n",
       "    \\PY{n}{timesteps}\\PY{o}{=}\\PY{n}{TIMESTEPS}\\PY{p}{,}\n",
       "    \\PY{n}{runs}\\PY{o}{=}\\PY{n}{MONTE\\PYZus{}CARLO\\PYZus{}RUNS}\n",
       "\\PY{p}{)}\n",
       "\\PY{c+c1}{\\PYZsh{} Create Experiment of single Simulation}\n",
       "\\PY{n}{experiment} \\PY{o}{=} \\PY{n}{Experiment}\\PY{p}{(}\\PY{p}{[}\\PY{n}{simulation}\\PY{p}{]}\\PY{p}{)}\n",
       "\\PY{c+c1}{\\PYZsh{} Configure Simulation \\PYZam{} Experiment engine}\n",
       "\\PY{n}{simulation}\\PY{o}{.}\\PY{n}{engine} \\PY{o}{=} \\PY{n}{experiment}\\PY{o}{.}\\PY{n}{engine}\n",
       "\\PY{c+c1}{\\PYZsh{} experiment.engine.backend = Backend.SINGLE\\PYZus{}PROCESS}\n",
       "\\PY{n}{experiment}\\PY{o}{.}\\PY{n}{engine}\\PY{o}{.}\\PY{n}{deepcopy} \\PY{o}{=} \\PY{k+kc}{True}\n",
       "\\PY{n}{experiment}\\PY{o}{.}\\PY{n}{engine}\\PY{o}{.}\\PY{n}{drop\\PYZus{}substeps} \\PY{o}{=} \\PY{k+kc}{True}\n",
       "\\PY{n}{experiment}\\PY{o}{.}\\PY{n}{engine}\\PY{o}{.}\\PY{n}{raise\\PYZus{}exceptions} \\PY{o}{=} \\PY{k+kc}{True}\n",
       "\n",
       "\\PY{c+c1}{\\PYZsh{} Configure simulation hooks}\n",
       "\\PY{n}{before\\PYZus{}subset} \\PY{o}{=} \\PY{k}{lambda} \\PY{n}{context}\\PY{p}{:} \\PY{p}{[}\n",
       "    \\PY{n}{setup\\PYZus{}initial\\PYZus{}state}\\PY{p}{(}\\PY{n}{context}\\PY{p}{)}\\PY{p}{,}\n",
       "\\PY{p}{]}\n",
       "\\PY{n}{simulation}\\PY{o}{.}\\PY{n}{before\\PYZus{}subset} \\PY{o}{=} \\PY{n}{before\\PYZus{}subset}\n",
       "\\PY{n}{experiment}\\PY{o}{.}\\PY{n}{before\\PYZus{}subset} \\PY{o}{=} \\PY{n}{before\\PYZus{}subset}\n",
       "\\end{Verbatim}\n"
      ],
      "text/plain": [
       "\"\"\"\n",
       "The default experiment with default model Initial State, System Parameters, and Simulation Configuration.\n",
       "The defaults are defined in their respective modules:\n",
       "* Initial State in `model/state_variables.py`\n",
       "* System Parameters in `model/system_parameters.py`\n",
       "* Simulation Configuration in `experiments/simulation_configuration.py`\n",
       "\"\"\"\n",
       "\n",
       "from radcad import Simulation, Experiment, Backend\n",
       "\n",
       "from model import model\n",
       "from experiments.simulation_configuration import TIMESTEPS, MONTE_CARLO_RUNS\n",
       "from model.initialization import setup_initial_state\n",
       "\n",
       "import logging\n",
       "logging.disable(logging.DEBUG)\n",
       "\n",
       "\n",
       "# Create Model Simulation\n",
       "simulation = Simulation(\n",
       "    model=model,\n",
       "    timesteps=TIMESTEPS,\n",
       "    runs=MONTE_CARLO_RUNS\n",
       ")\n",
       "# Create Experiment of single Simulation\n",
       "experiment = Experiment([simulation])\n",
       "# Configure Simulation & Experiment engine\n",
       "simulation.engine = experiment.engine\n",
       "# experiment.engine.backend = Backend.SINGLE_PROCESS\n",
       "experiment.engine.deepcopy = True\n",
       "experiment.engine.drop_substeps = True\n",
       "experiment.engine.raise_exceptions = True\n",
       "\n",
       "# Configure simulation hooks\n",
       "before_subset = lambda context: [\n",
       "    setup_initial_state(context),\n",
       "]\n",
       "simulation.before_subset = before_subset\n",
       "experiment.before_subset = before_subset"
      ]
     },
     "execution_count": 6,
     "metadata": {},
     "output_type": "execute_result"
    }
   ],
   "source": [
    "# Inspect experiment template\n",
    "display_code(default_experiment)"
   ]
  },
  {
   "cell_type": "markdown",
   "metadata": {},
   "source": [
    "### Simulation 1 - Goal: Extend Simulation with Sweep"
   ]
  },
  {
   "cell_type": "code",
   "execution_count": 7,
   "metadata": {},
   "outputs": [],
   "source": [
    "# Create a simulation for each analysis\n",
    "simulation_1 = copy.deepcopy(default_experiment.experiment.simulations[0])"
   ]
  },
  {
   "cell_type": "code",
   "execution_count": 10,
   "metadata": {},
   "outputs": [],
   "source": [
    "# Analysis-specific setup\n",
    "parameter_overrides = {\n",
    "    # Disable policy by setting to `None`\n",
    "    \"target_stable_pcv_ratio\": [None],\n",
    "    \"target_stable_backing_ratio\": [None],\n",
    "    \"volatile_asset_price_process\": [\n",
    "        lambda _run, _timestep: 2_000,\n",
    "        lambda _run, timestep: 2_000 if timestep < 365 / 4 else (1_000 if timestep < 365 * 3/4 else 2_000),\n",
    "        lambda _run, timestep: 2_000 * (1 + timestep * 0.2 / 365),\n",
    "        lambda _run, timestep: 2_000 * (1 - timestep * 0.2 / 365),\n",
    "    ],\n",
    "}"
   ]
  },
  {
   "cell_type": "code",
   "execution_count": 11,
   "metadata": {},
   "outputs": [],
   "source": [
    "# Experiment configuration\n",
    "simulation_1.model.runs = 1\n",
    "\n",
    "# Override inital state\n",
    "simulation_1.model.initial_state.update({})\n",
    "\n",
    "# Override default experiment System Parameters\n",
    "simulation_1.model.params.update(parameter_overrides)"
   ]
  },
  {
   "cell_type": "code",
   "execution_count": null,
   "metadata": {},
   "outputs": [],
   "source": [
    "# Analysis-specific setup"
   ]
  },
  {
   "cell_type": "code",
   "execution_count": null,
   "metadata": {},
   "outputs": [],
   "source": [
    "# Experiment execution\n",
    "df, exceptions = run(simulation_1)"
   ]
  },
  {
   "cell_type": "code",
   "execution_count": null,
   "metadata": {},
   "outputs": [],
   "source": [
    "fig = df.plot(y='volatile_asset_price', color='subset')\n",
    "\n",
    "fig.update_layout(\n",
    "    title=\"Volatile Asset (e.g. ETH) Price Trajectories\",\n",
    "    xaxis_title=\"Timestamp\",\n",
    "    yaxis_title=\"Volatile Asset Price (USD)\",\n",
    "    autosize=False,\n",
    "    width=1200,\n",
    "    height=675,\n",
    ")"
   ]
  },
  {
   "cell_type": "markdown",
   "metadata": {},
   "source": [
    "### Part 1 - Sanity Checks Analysis 1"
   ]
  },
  {
   "cell_type": "markdown",
   "metadata": {},
   "source": [
    "1. Write a **lambda function** for a volatile asset price trajectory of your choosing"
   ]
  },
  {
   "cell_type": "markdown",
   "metadata": {},
   "source": [
    "*Answer here in markdown*"
   ]
  },
  {
   "cell_type": "markdown",
   "metadata": {},
   "source": [
    "2. Extend simulation 1 by adding the new trajectory to the parameter sweep"
   ]
  },
  {
   "cell_type": "markdown",
   "metadata": {},
   "source": [
    "*Answer here in markdown*"
   ]
  },
  {
   "cell_type": "markdown",
   "metadata": {},
   "source": [
    "3. In the **Sanity Checks Analysis Notebook**, add this new trajectory to the **volatile_asset_price_process** parameter sweep and re-execute **Analysis 1** in the notebook. Confirm that you can see the new trajectory as a new element in all relevant plots. Note the dynamics you observe for the price process you added."
   ]
  },
  {
   "cell_type": "markdown",
   "metadata": {},
   "source": [
    "### Part 2 - Goal: Extend Simulation with model update"
   ]
  },
  {
   "cell_type": "markdown",
   "metadata": {},
   "source": [
    "1. How is a new state variable added to a radCAD model?\n"
   ]
  },
  {
   "cell_type": "markdown",
   "metadata": {},
   "source": [
    "*Answer here in markdown*"
   ]
  },
  {
   "cell_type": "markdown",
   "metadata": {},
   "source": [
    "2. Add a state variable named <b>reserve_ratio</b> to the relevant file for setting state variables, and initialize its value to 1\n"
   ]
  },
  {
   "cell_type": "markdown",
   "metadata": {},
   "source": [
    "3. Where in the directory structure can partial state update blocks be added?\n"
   ]
  },
  {
   "cell_type": "markdown",
   "metadata": {},
   "source": [
    "*Answer here in markdown*"
   ]
  },
  {
   "cell_type": "markdown",
   "metadata": {},
   "source": [
    "4. Create the file <b>/model/parts/quiz_block.py</b>\n"
   ]
  },
  {
   "cell_type": "markdown",
   "metadata": {},
   "source": [
    "5. In this file, create a **state update function** which updates the **reserve_ratio** state variable as: **RR = (PCV + Protocol-Owned FEI) / Total FEI Supply.** You are provided with all state variables needed to compute this."
   ]
  },
  {
   "cell_type": "markdown",
   "metadata": {},
   "source": [
    "*Answer here in markdown*"
   ]
  },
  {
   "cell_type": "markdown",
   "metadata": {},
   "source": [
    "6. How and where do you include a State Update Function as part of a radCAD model?"
   ]
  },
  {
   "cell_type": "markdown",
   "metadata": {},
   "source": [
    "*Answer here in markdown*"
   ]
  },
  {
   "cell_type": "markdown",
   "metadata": {},
   "source": [
    "7. In the file **/model/state_update_blocks.py** create a new PSUB (by copying the existing structure) and append it as the last element of the list."
   ]
  },
  {
   "cell_type": "markdown",
   "metadata": {},
   "source": [
    "*Answer here in markdown*"
   ]
  },
  {
   "cell_type": "markdown",
   "metadata": {},
   "source": [
    "8. Process the state variable update to **reserve_ratio** through importing and including the state update function you just created in **/model/parts/quiz_block.py**"
   ]
  },
  {
   "cell_type": "markdown",
   "metadata": {},
   "source": [
    "*Answer here in markdown*"
   ]
  },
  {
   "cell_type": "markdown",
   "metadata": {},
   "source": [
    "9. Re-run the **Sanity Checks Analysis Notebook**, and plot the **reserve_ratio** state variable alongside collateral ratio, for a *single* subset, where indicated."
   ]
  },
  {
   "cell_type": "markdown",
   "metadata": {},
   "source": [
    "*Answer here in markdown*"
   ]
  },
  {
   "cell_type": "markdown",
   "metadata": {},
   "source": [
    "10. In the **Sanity Checks Analysis Notebook**, where indicated, add this variable to the **variables** python list, and re-execute notebook Analyses 2.1 and 2.2."
   ]
  },
  {
   "cell_type": "markdown",
   "metadata": {},
   "source": [
    "*Answer here in markdown*"
   ]
  },
  {
   "cell_type": "markdown",
   "metadata": {},
   "source": [
    "11. What is the correlation between **reserve_ratio** and **collateralization_ratio** ?"
   ]
  },
  {
   "cell_type": "markdown",
   "metadata": {},
   "source": [
    "*Answer here in markdown*"
   ]
  },
  {
   "cell_type": "markdown",
   "metadata": {},
   "source": [
    "### Part 3 - Goal: Extend Simulation with model update refactor"
   ]
  },
  {
   "cell_type": "markdown",
   "metadata": {},
   "source": [
    "We can generally be much more efficient than creating a PSUB with associated model part just for a **single** state variable. Here we show how to add **reserve_ratio** into an existing policy."
   ]
  },
  {
   "cell_type": "markdown",
   "metadata": {},
   "source": [
    "1. Remove the existing PSUB from the model by **commenting out** its inclusion in  **/model/state_update_blocks.py**"
   ]
  },
  {
   "cell_type": "markdown",
   "metadata": {},
   "source": [
    "2. (Optional) Remove the file **/model/parts/quiz_block.py**"
   ]
  },
  {
   "cell_type": "markdown",
   "metadata": {},
   "source": [
    "3. Which **model part file** is it most appropriate to add in the calculation of this metric: _Hint: see radCAD Differential Spec_"
   ]
  },
  {
   "cell_type": "markdown",
   "metadata": {},
   "source": [
    "*Answer here in markdown*"
   ]
  },
  {
   "cell_type": "markdown",
   "metadata": {},
   "source": [
    "4. Create the calculation for the **reserve_ratio** as part of the appropriate policy function, and add it as an element of the python dict returned by the policy"
   ]
  },
  {
   "cell_type": "markdown",
   "metadata": {},
   "source": [
    "*Answer here in markdown*"
   ]
  },
  {
   "cell_type": "markdown",
   "metadata": {},
   "source": [
    "5. How do you make sure a state update of a variable just added to a policy function is included in radCAD execution?"
   ]
  },
  {
   "cell_type": "markdown",
   "metadata": {},
   "source": [
    "*Answer here in markdown*"
   ]
  },
  {
   "cell_type": "markdown",
   "metadata": {},
   "source": [
    "6. How do you update the **reserve_ratio** variable in the PSUB whose description field is “System Metrics”, **without using a state update function?**"
   ]
  },
  {
   "cell_type": "markdown",
   "metadata": {},
   "source": [
    "*Answer here in markdown*"
   ]
  },
  {
   "cell_type": "markdown",
   "metadata": {},
   "source": [
    "7. Include **reserve_ratio** in the list comprehension for the system metrics PSUB."
   ]
  },
  {
   "cell_type": "markdown",
   "metadata": {},
   "source": [
    "*Answer here in markdown*"
   ]
  },
  {
   "cell_type": "markdown",
   "metadata": {},
   "source": [
    "8. Re-run the sanity checks notebook and make sure outputs are the same as in the previous set of questions. "
   ]
  }
 ],
 "metadata": {
  "kernelspec": {
   "display_name": "Python 3",
   "language": "python",
   "name": "python3"
  },
  "language_info": {
   "codemirror_mode": {
    "name": "ipython",
    "version": 3
   },
   "file_extension": ".py",
   "mimetype": "text/x-python",
   "name": "python",
   "nbconvert_exporter": "python",
   "pygments_lexer": "ipython3",
   "version": "3.9.7"
  }
 },
 "nbformat": 4,
 "nbformat_minor": 4
}
