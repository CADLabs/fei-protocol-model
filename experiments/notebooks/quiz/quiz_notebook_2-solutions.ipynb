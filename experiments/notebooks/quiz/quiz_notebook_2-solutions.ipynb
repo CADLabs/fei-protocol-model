{
 "cells": [
  {
   "cell_type": "markdown",
   "metadata": {},
   "source": [
    "# Quiz Notebook 2: FEI Protocol Savings Rate"
   ]
  },
  {
   "cell_type": "markdown",
   "metadata": {},
   "source": [
    "This Quiz Notebook is associated to [**Analysis Notebook 2: FEI Savings Rate**](../2_fei_savings_rate.ipynb).\n",
    "\n",
    "The goal of this notebook is to comprehensively evaluate an analysis by way of using parameter sweeps for monetary policy setting."
   ]
  },
  {
   "cell_type": "markdown",
   "metadata": {},
   "source": [
    "# Quiz Setup \n",
    "\n",
    "- The first section of all quiz notebooks contains all necessary code to run the relevant simulation **within the quiz**.\n",
    "- However, this is done for enabling experimentation. **In practice, each notebook should be gone through with the associated analysis notebook**.\n",
    "- Analysis notebook sections relevant to quiz questions will be pointed to in the analysis notebooks directly.\n",
    "- Solution cells are not meant to directly execute, as these may only contain the relevant snippets."
   ]
  },
  {
   "cell_type": "markdown",
   "metadata": {},
   "source": [
    "# Experiment Setup\n",
    "\n",
    "We begin with several experiment-notebook-level preparatory setup operations:\n",
    "\n",
    "* Import relevant dependencies\n",
    "* Import relevant experiment templates\n",
    "* Create copies of experiments\n",
    "* Configure and customize experiments \n",
    "\n",
    "Analysis-specific setup operations are handled in their respective notebook sections."
   ]
  },
  {
   "cell_type": "code",
   "execution_count": null,
   "metadata": {},
   "outputs": [],
   "source": [
    "# Import the setup module:\n",
    "# * sets up the Python path\n",
    "# * runs shared notebook configuration methods, such as loading IPython modules\n",
    "import setup\n",
    "\n",
    "import copy\n",
    "import logging\n",
    "import numpy as np\n",
    "import pandas as pd\n",
    "import plotly.express as px\n",
    "\n",
    "import experiments.notebooks.visualizations as visualizations\n",
    "from experiments.run import run\n",
    "from experiments.utils import display_code"
   ]
  },
  {
   "cell_type": "code",
   "execution_count": null,
   "metadata": {},
   "outputs": [],
   "source": [
    "import plotly.io as pio\n",
    "png_renderer = pio.renderers[\"png\"]\n",
    "png_renderer.width = 1200\n",
    "png_renderer.height = 500\n",
    "# png_renderer.scale = 1\n",
    "\n",
    "pio.renderers.default = \"png\""
   ]
  },
  {
   "cell_type": "code",
   "execution_count": null,
   "metadata": {},
   "outputs": [],
   "source": [
    "from operator import lt, gt"
   ]
  },
  {
   "cell_type": "code",
   "execution_count": null,
   "metadata": {},
   "outputs": [],
   "source": [
    "# Enable/disable logging\n",
    "logger = logging.getLogger()\n",
    "logger.disabled = False"
   ]
  },
  {
   "cell_type": "code",
   "execution_count": null,
   "metadata": {},
   "outputs": [],
   "source": [
    "# Import experiment templates\n",
    "import experiments.default_experiment as default_experiment"
   ]
  },
  {
   "cell_type": "code",
   "execution_count": null,
   "metadata": {},
   "outputs": [],
   "source": [
    "# Inspect experiment template\n",
    "display_code(default_experiment)"
   ]
  },
  {
   "cell_type": "markdown",
   "metadata": {},
   "source": [
    "### Goal: Understanding Fei Savings rate and Capital Allocation Model"
   ]
  },
  {
   "cell_type": "markdown",
   "metadata": {},
   "source": [
    "#### Prompt:"
   ]
  },
  {
   "cell_type": "code",
   "execution_count": null,
   "metadata": {},
   "outputs": [],
   "source": [
    "# Create a simulation for each analysis\n",
    "simulation_1 = copy.deepcopy(default_experiment.experiment.simulations[0])"
   ]
  },
  {
   "cell_type": "code",
   "execution_count": null,
   "metadata": {},
   "outputs": [],
   "source": [
    "cam_deposits = [\n",
    "    \"fei_liquidity_pool_user_deposit\",\n",
    "    \"fei_money_market_user_deposit\",\n",
    "    \"fei_savings_user_deposit\",\n",
    "    \"fei_idle_user_deposit\",\n",
    "]"
   ]
  },
  {
   "cell_type": "code",
   "execution_count": null,
   "metadata": {},
   "outputs": [],
   "source": [
    "parameter_overrides = {\n",
    "    \"capital_allocation_fei_deposit_variables\": [\n",
    "            cam_deposits,\n",
    "    ],\n",
    "    \"capital_allocation_rebalance_duration\": [30],\n",
    "    \"fei_savings_rate_process\": [\n",
    "         lambda _run, timestep: 0.005,\n",
    "         lambda _run, timestep: 0.03,\n",
    "         lambda _run, timestep: 0.005 if timestep < 365 / 4 else (0.03 if timestep < 365 * 3/4 else 0.02),\n",
    "         lambda _run, timestep: 0,\n",
    "    ],\n",
    "}"
   ]
  },
  {
   "cell_type": "code",
   "execution_count": null,
   "metadata": {},
   "outputs": [],
   "source": [
    "# Experiment configuration\n",
    "simulation_1.model.runs = 1\n",
    "\n",
    "# Override inital state\n",
    "simulation_1.model.initial_state.update({})\n",
    "\n",
    "# Override default experiment System Parameters\n",
    "simulation_1.model.params.update(parameter_overrides)"
   ]
  },
  {
   "cell_type": "code",
   "execution_count": null,
   "metadata": {},
   "outputs": [],
   "source": [
    "# Analysis-specific setup"
   ]
  },
  {
   "cell_type": "code",
   "execution_count": null,
   "metadata": {},
   "outputs": [],
   "source": [
    "# Experiment execution\n",
    "# df, exceptions = run(simulation_1)"
   ]
  },
  {
   "cell_type": "code",
   "execution_count": null,
   "metadata": {},
   "outputs": [],
   "source": [
    "df.query('run==1').plot(x='timestamp', y=['fei_savings_rate'], color='subset')"
   ]
  },
  {
   "cell_type": "markdown",
   "metadata": {},
   "source": [
    "#### Questions:"
   ]
  },
  {
   "cell_type": "markdown",
   "metadata": {},
   "source": [
    "Which system parameter allows setting the FEI savings rate?\n"
   ]
  },
  {
   "cell_type": "code",
   "execution_count": null,
   "metadata": {},
   "outputs": [],
   "source": [
    "# FEI Savings Deposit\n",
    "fei_savings_rate_process: List[Callable[[Run, Timestep], APR]] = default(\n",
    "    [lambda _run, _timestep: 0.015]\n",
    ")"
   ]
  },
  {
   "cell_type": "markdown",
   "metadata": {},
   "source": [
    "1. What effect does removing the process: **lambda _run, timestep: 0** from the FEI savings rate sweep imply for the model? Would this lead to an interruption in notebook execution?\n"
   ]
  },
  {
   "cell_type": "markdown",
   "metadata": {},
   "source": [
    "**A:** this implies removing the scenario in which the FEI savings rate is disabled, hence mimicking the current state of implementation of Fei. In the **FEI Savings Rate analysis** notebook, we are interested in scenarios where the FEI Savings rate is enabled.\n",
    "\n",
    "This **would lead** to an interruption in the **FEI Savings Rate analysis** notebook execution as there are notebook sections dedicated to **each setting of the savings rate**. It is sufficient to remove the appropriate subsection of the analysis."
   ]
  },
  {
   "cell_type": "markdown",
   "metadata": {},
   "source": [
    "2. What effect does adding the process: **lambda _run, timestep: 0.02** to the FEI savings rate sweep imply for the model? Would this lead to an interruption in notebook execution?"
   ]
  },
  {
   "cell_type": "markdown",
   "metadata": {},
   "source": [
    "**A:** this implies adding an extra scenario for the FEI Savings rate, set at 2%.\n",
    "\n",
    "This **would NOT lead** to an interruption in the **FEI Savings Rate analysis** notebook execution. However, as there are notebook sections dedicated to **each setting of the savings rate**, one must add the appropriate subsection of the analysis by duplicating cells from other settings of the sweep."
   ]
  },
  {
   "cell_type": "markdown",
   "metadata": {},
   "source": [
    "3. _Intuition:_ Inspect the “weight evolution” plots for all settings of the FEI savings rate. Why is the weight for the Idle FEI deposit zero throughout the simulation?"
   ]
  },
  {
   "cell_type": "markdown",
   "metadata": {},
   "source": [
    "**A:** The weight for Idle FEI (**fei_idle_user_deposit**) is zero, as it is not a yield-bearing deposit. This encodes the dynamic that users have no utility for idle FEI upon the existance of a savings rate competing with other yield bearing avenues - here a money market and a liquidity pool."
   ]
  },
  {
   "cell_type": "markdown",
   "metadata": {},
   "source": [
    "4. What are the implications of this on the evolution of capital allocation throughout the simulation?"
   ]
  },
  {
   "cell_type": "markdown",
   "metadata": {},
   "source": [
    "**A:** the amount of Idle FEI monotonically (with some stochastic noise) reaches zero in all simulation settings and for all runs."
   ]
  },
  {
   "cell_type": "markdown",
   "metadata": {},
   "source": [
    "_BONUS:_ how are CAM weights computed?"
   ]
  },
  {
   "cell_type": "markdown",
   "metadata": {},
   "source": [
    "**A:** CAM weights are represented as a four dimensional vector where each element is one of the four CAM deposits. The weight associated to each deposit is computed as a function of deposit yield and risk, including idle which gets an attribution of zero by current construction."
   ]
  },
  {
   "cell_type": "markdown",
   "metadata": {},
   "source": [
    "_BONUS:_ how are CAM weights disaggregated into actual transfers between user deposits? **Hint: [See HackMD](https://hackmd.io/keg-pULfSLqJdqB3dBcahQ)**"
   ]
  },
  {
   "cell_type": "markdown",
   "metadata": {},
   "source": [
    "CAM weights are disaggregated into constituent transfers which are performed via the **transfer()** function of the User FEI deposit dataclass. Each timestep, the computed weights represent the total change in balance to each deposit. This total change is disaggregated into constituent amounts computed as the solution to a constrained system of linear equations, ensuring total overall balance changes are consistent with indivdual transfers.\n",
    "\n",
    "**NOTE:** This balance change consistency will not be respected if the deposit does not have enough balance to transfer. In this case all available balance will be transferred."
   ]
  },
  {
   "cell_type": "markdown",
   "metadata": {},
   "source": [
    "**Extensions:** For each of the below use only 10 monte carlo runs."
   ]
  },
  {
   "cell_type": "markdown",
   "metadata": {},
   "source": [
    "1. Re-run the notebook without the **Idle FEI** CAM deposit. Compare the Capital Allocation Area Chart for savings rate Setting 1 (Section 1.1) with the deposit enabled vs disabled What do you notice? \n",
    "\n",
    "    In Section 2.1, compare the **Total User Circulating FEI** plots when the idle deposit is enabled vs disabled."
   ]
  },
  {
   "cell_type": "markdown",
   "metadata": {},
   "source": [
    "**A:**\n",
    "\n",
    "- In Setting 1 (FSR = 2%), without the **Idle FEI User Deposit** the initial conditions of the model make it so that the transitory state within the first couple months is different than when the deposit is present. However, *in percentage terms*, the steady-state of the model is virtually **identical**. This is in accordance with intuiton. When only yield bearing avenues for FEI exist, in the long term, no idle avenues for FEI will be relevant.\n",
    "\n",
    "\n",
    "- Without the **Idle FEI deposit** changes in user-circulating FEI are **smaller** than with the deposit enabled. The reason for this is that the Idle FEI depoisit starts out with a large amount of FEI which is fully re-allocated amongst other yield bearing deposits very quickly. In absence of the Idle Deposit, capital allocation occurs only between yield bearing deposits, which are initialized at lower values."
   ]
  },
  {
   "cell_type": "markdown",
   "metadata": {},
   "source": [
    "2. Re-run the notebook without the **FEI Money Market** CAM deposit. Compare the Capital Allocation Area Chart for savings rate Setting 1 and Setting 4 (disabled). What do you notice? "
   ]
  },
  {
   "cell_type": "markdown",
   "metadata": {},
   "source": [
    "**A:**\n",
    "\n",
    "- In Setting 1 (FSR = 2%), without the fei savings deposit all allocation happens between the **FEI savings deposit** and the **fei liquidity pool**. This model subset is the one that would be representative of a scenario where *Fei completely deleverages from money markets*.\n",
    "\n",
    "\n",
    "- In Setting 4 (FSR = 0%), we come into an example of a **degenerate analysis**. Here, the capital allocation should be between the **FEI savings deposit** and the **fei liquidity pool**, but the FEI savings rate is disabled, so the CAM in fact reduces **only to capital allocation in liquidity pool**. "
   ]
  },
  {
   "cell_type": "markdown",
   "metadata": {},
   "source": [
    "3. Re-run the notebook without the **FEI Savings Deposit** CAM deposit. Compare the Capital Allocation Area Chart for savings rate Setting 1 and Setting 4 (disabled). What do you notice? "
   ]
  },
  {
   "cell_type": "markdown",
   "metadata": {},
   "source": [
    "**A:**\n",
    "\n",
    "- In Setting 1 (FSR = 2%), without the fei savings deposit all allocation happens between the **money market** and the **fei liquidity pool**. In practice, since the **Idle FEI deposit** has do independent dynamics, this model subset is the one *closest to the current state of implementation in the FEI protocol*.\n",
    "\n",
    "- In Setting 4 (FSR = 0%), there is **no change** compared to Setting 1 or any other setting. In fact, we've **disabled the deposit object of the parameter sweep**, making any rate setting redundant."
   ]
  },
  {
   "cell_type": "markdown",
   "metadata": {},
   "source": [
    "4. Re-run the notebook without the **FEI Liquidity Pool** CAM deposit. Compare the Capital Allocation Area Chart for savings rate Setting 1 and Setting 4 (disabled). What do you notice? \n",
    "\n",
    "    Then compare **liquidity pool trading fees** (section 3.2). What do you notice?"
   ]
  },
  {
   "cell_type": "markdown",
   "metadata": {},
   "source": [
    "**A:**\n",
    "\n",
    "- In Setting 1 (FSR = 2%), without the liquidity pool deposit all allocation happens between the **money market** and the **fei savings deposit**. In practice, since the **Idle FEI deposit** has do independent dynamics, this model subset is the one *closest to the original 'FEI Savings Rate' model*.\n",
    "\n",
    "- In Setting 4 (FSR = 0%), all allocation is taken by the **money market** deposit, since the **savings deposit** has zero yield, hence zero weight.\n",
    "\n",
    "- Liquidity Pool trading fees are not CAM-dependent when the deposit is disabled."
   ]
  },
  {
   "cell_type": "code",
   "execution_count": null,
   "metadata": {},
   "outputs": [],
   "source": []
  }
 ],
 "metadata": {
  "kernelspec": {
   "display_name": "Python 3",
   "language": "python",
   "name": "python3"
  },
  "language_info": {
   "codemirror_mode": {
    "name": "ipython",
    "version": 3
   },
   "file_extension": ".py",
   "mimetype": "text/x-python",
   "name": "python",
   "nbconvert_exporter": "python",
   "pygments_lexer": "ipython3",
   "version": "3.9.7"
  }
 },
 "nbformat": 4,
 "nbformat_minor": 4
}
