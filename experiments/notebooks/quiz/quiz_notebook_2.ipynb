{
 "cells": [
  {
   "cell_type": "markdown",
   "metadata": {},
   "source": [
    "# Quiz Notebook 2: FEI Protocol Savings Rate"
   ]
  },
  {
   "cell_type": "markdown",
   "metadata": {},
   "source": [
    "This Quiz Notebook is associated to [**Analysis Notebook 2: FEI Savings Rate**](../2_fei_savings_rate.ipynb).\n",
    "\n",
    "The goal of this notebook is to comprehensively evaluate an analysis by way of using parameter sweeps for monetary policy setting."
   ]
  },
  {
   "cell_type": "markdown",
   "metadata": {},
   "source": [
    "# Quiz Setup \n",
    "\n",
    "- The first section of all quiz notebooks contains all necessary code to run the relevant simulation **within the quiz**.\n",
    "- However, this is done for enabling experimentation. **In practice, each notebook should be gone through with the associated analysis notebook**.\n",
    "- Analysis notebook sections relevant to quiz questions will be pointed to in the analysis notebooks directly.\n",
    "- Solution cells are not meant to directly execute, as these may only contain the relevant snippets."
   ]
  },
  {
   "cell_type": "markdown",
   "metadata": {},
   "source": [
    "# Experiment Setup\n",
    "\n",
    "We begin with several experiment-notebook-level preparatory setup operations:\n",
    "\n",
    "* Import relevant dependencies\n",
    "* Import relevant experiment templates\n",
    "* Create copies of experiments\n",
    "* Configure and customize experiments \n",
    "\n",
    "Analysis-specific setup operations are handled in their respective notebook sections."
   ]
  },
  {
   "cell_type": "code",
   "execution_count": null,
   "metadata": {},
   "outputs": [],
   "source": [
    "# Import the setup module:\n",
    "# * sets up the Python path\n",
    "# * runs shared notebook configuration methods, such as loading IPython modules\n",
    "import setup\n",
    "\n",
    "import copy\n",
    "import logging\n",
    "import numpy as np\n",
    "import pandas as pd\n",
    "import plotly.express as px\n",
    "\n",
    "import experiments.notebooks.visualizations as visualizations\n",
    "from experiments.run import run\n",
    "from experiments.utils import display_code"
   ]
  },
  {
   "cell_type": "code",
   "execution_count": null,
   "metadata": {},
   "outputs": [],
   "source": [
    "import plotly.io as pio\n",
    "png_renderer = pio.renderers[\"png\"]\n",
    "png_renderer.width = 1200\n",
    "png_renderer.height = 500\n",
    "# png_renderer.scale = 1\n",
    "\n",
    "pio.renderers.default = \"png\""
   ]
  },
  {
   "cell_type": "code",
   "execution_count": null,
   "metadata": {},
   "outputs": [],
   "source": [
    "from operator import lt, gt"
   ]
  },
  {
   "cell_type": "code",
   "execution_count": null,
   "metadata": {},
   "outputs": [],
   "source": [
    "# Enable/disable logging\n",
    "logger = logging.getLogger()\n",
    "logger.disabled = False"
   ]
  },
  {
   "cell_type": "code",
   "execution_count": null,
   "metadata": {},
   "outputs": [],
   "source": [
    "# Import experiment templates\n",
    "import experiments.default_experiment as default_experiment"
   ]
  },
  {
   "cell_type": "code",
   "execution_count": null,
   "metadata": {},
   "outputs": [],
   "source": [
    "# Inspect experiment template\n",
    "display_code(default_experiment)"
   ]
  },
  {
   "cell_type": "markdown",
   "metadata": {},
   "source": [
    "### Goal: Understanding Fei Savings rate and Capital Allocation Model"
   ]
  },
  {
   "cell_type": "code",
   "execution_count": null,
   "metadata": {},
   "outputs": [],
   "source": [
    "# Create a simulation for each analysis\n",
    "simulation_1 = copy.deepcopy(default_experiment.experiment.simulations[0])"
   ]
  },
  {
   "cell_type": "code",
   "execution_count": null,
   "metadata": {},
   "outputs": [],
   "source": [
    "cam_deposits = [\n",
    "    \"fei_liquidity_pool_user_deposit\",\n",
    "    \"fei_money_market_user_deposit\",\n",
    "    \"fei_savings_user_deposit\",\n",
    "    \"fei_idle_user_deposit\",\n",
    "]"
   ]
  },
  {
   "cell_type": "code",
   "execution_count": null,
   "metadata": {},
   "outputs": [],
   "source": [
    "parameter_overrides = {\n",
    "    \"capital_allocation_fei_deposit_variables\": [\n",
    "            cam_deposits,\n",
    "    ],\n",
    "    \"capital_allocation_rebalance_duration\": [30],\n",
    "    \"fei_savings_rate_process\": [\n",
    "         lambda _run, timestep: 0.005,\n",
    "         lambda _run, timestep: 0.03,\n",
    "         lambda _run, timestep: 0.005 if timestep < 365 / 4 else (0.03 if timestep < 365 * 3/4 else 0.02),\n",
    "         lambda _run, timestep: 0,\n",
    "    ],\n",
    "}"
   ]
  },
  {
   "cell_type": "code",
   "execution_count": null,
   "metadata": {},
   "outputs": [],
   "source": [
    "# Experiment configuration\n",
    "simulation_1.model.runs = 1\n",
    "\n",
    "# Override inital state\n",
    "simulation_1.model.initial_state.update({})\n",
    "\n",
    "# Override default experiment System Parameters\n",
    "simulation_1.model.params.update(parameter_overrides)"
   ]
  },
  {
   "cell_type": "code",
   "execution_count": null,
   "metadata": {},
   "outputs": [],
   "source": [
    "# Analysis-specific setup"
   ]
  },
  {
   "cell_type": "code",
   "execution_count": null,
   "metadata": {},
   "outputs": [],
   "source": [
    "# Experiment execution\n",
    "# df, exceptions = run(simulation_1)"
   ]
  },
  {
   "cell_type": "code",
   "execution_count": null,
   "metadata": {},
   "outputs": [],
   "source": [
    "df.query('run==1').plot(x='timestamp', y=['fei_savings_rate'], color='subset')"
   ]
  },
  {
   "cell_type": "markdown",
   "metadata": {},
   "source": [
    "#### Questions:"
   ]
  },
  {
   "cell_type": "markdown",
   "metadata": {},
   "source": [
    "0. Which system parameter allows setting the FEI savings rate?\n"
   ]
  },
  {
   "cell_type": "markdown",
   "metadata": {},
   "source": [
    "*Answer here in markdown*"
   ]
  },
  {
   "cell_type": "markdown",
   "metadata": {},
   "source": [
    "1. What effect does removing the process: **lambda _run, timestep: 0** from the FEI savings rate sweep imply for the model? Would this lead to an interruption in notebook execution?\n"
   ]
  },
  {
   "cell_type": "markdown",
   "metadata": {},
   "source": [
    "*Answer here in markdown*"
   ]
  },
  {
   "cell_type": "markdown",
   "metadata": {},
   "source": [
    "2. What effect does adding the process: **lambda _run, timestep: 0.02** to the FEI savings rate sweep imply for the model? Would this lead to an interruption in notebook execution?"
   ]
  },
  {
   "cell_type": "markdown",
   "metadata": {},
   "source": [
    "*Answer here in markdown*"
   ]
  },
  {
   "cell_type": "markdown",
   "metadata": {},
   "source": [
    "3. _Intuition:_ Inspect the “weight evolution” plots for all settings of the FEI savings rate. Why is the weight for the Idle FEI deposit zero throughout the simulation?"
   ]
  },
  {
   "cell_type": "markdown",
   "metadata": {},
   "source": [
    "*Answer here in markdown*"
   ]
  },
  {
   "cell_type": "markdown",
   "metadata": {},
   "source": [
    "4. What are the implications of this on the evolution of capital allocation throughout the simulation?"
   ]
  },
  {
   "cell_type": "markdown",
   "metadata": {},
   "source": [
    "*Answer here in markdown*"
   ]
  },
  {
   "cell_type": "markdown",
   "metadata": {},
   "source": [
    "_BONUS:_ how are CAM weights computed?"
   ]
  },
  {
   "cell_type": "markdown",
   "metadata": {},
   "source": [
    "*Answer here in markdown*"
   ]
  },
  {
   "cell_type": "markdown",
   "metadata": {},
   "source": [
    "_BONUS:_ how are CAM weights disaggregated into actual transfers between user deposits? **Hint: [See HackMD](https://hackmd.io/keg-pULfSLqJdqB3dBcahQ)**"
   ]
  },
  {
   "cell_type": "markdown",
   "metadata": {},
   "source": [
    "*Answer here in markdown*"
   ]
  },
  {
   "cell_type": "markdown",
   "metadata": {},
   "source": [
    "**Extensions:** For each of the below use only 10 monte carlo runs."
   ]
  },
  {
   "cell_type": "markdown",
   "metadata": {},
   "source": [
    "1. Re-run the notebook without the **Idle FEI** CAM deposit. Compare the Capital Allocation Area Chart for savings rate Setting 1 (Section 1.1) with the deposit enabled vs disabled What do you notice? \n",
    "\n",
    "    In Section 2.1, compare the **Total User Circulating FEI** plots when the idle deposit is enabled vs disabled."
   ]
  },
  {
   "cell_type": "markdown",
   "metadata": {},
   "source": [
    "*Answer here in markdown*"
   ]
  },
  {
   "cell_type": "markdown",
   "metadata": {},
   "source": [
    "2. Re-run the notebook without the **FEI Money Market** CAM deposit. Compare the Capital Allocation Area Chart for savings rate Setting 1 and Setting 4 (disabled). What do you notice? "
   ]
  },
  {
   "cell_type": "markdown",
   "metadata": {},
   "source": [
    "*Answer here in markdown*"
   ]
  },
  {
   "cell_type": "markdown",
   "metadata": {},
   "source": [
    "3. Re-run the notebook without the **FEI Savings Deposit** CAM deposit. Compare the Capital Allocation Area Chart for savings rate Setting 1 and Setting 4 (disabled). What do you notice? "
   ]
  },
  {
   "cell_type": "markdown",
   "metadata": {},
   "source": [
    "*Answer here in markdown*"
   ]
  },
  {
   "cell_type": "markdown",
   "metadata": {},
   "source": [
    "4. Re-run the notebook without the **FEI Liquidity Pool** CAM deposit. Compare the Capital Allocation Area Chart for savings rate Setting 1 and Setting 4 (disabled). What do you notice? \n",
    "\n",
    "    Then compare **liquidity pool trading fees** (section 3.2). What do you notice?"
   ]
  },
  {
   "cell_type": "markdown",
   "metadata": {},
   "source": [
    "*Answer here in markdown*"
   ]
  },
  {
   "cell_type": "code",
   "execution_count": null,
   "metadata": {},
   "outputs": [],
   "source": []
  }
 ],
 "metadata": {
  "kernelspec": {
   "display_name": "Python 3",
   "language": "python",
   "name": "python3"
  },
  "language_info": {
   "codemirror_mode": {
    "name": "ipython",
    "version": 3
   },
   "file_extension": ".py",
   "mimetype": "text/x-python",
   "name": "python",
   "nbconvert_exporter": "python",
   "pygments_lexer": "ipython3",
   "version": "3.9.7"
  }
 },
 "nbformat": 4,
 "nbformat_minor": 4
}
