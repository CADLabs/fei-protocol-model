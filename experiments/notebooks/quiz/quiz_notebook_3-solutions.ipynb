{
 "cells": [
  {
   "cell_type": "markdown",
   "metadata": {},
   "source": [
    "# Quiz Notebook 3: FEI Protocol PCV Management"
   ]
  },
  {
   "cell_type": "markdown",
   "metadata": {},
   "source": [
    "This Quiz Notebook is associated to [**Analysis Notebook 3: PCV Management**](../3_protocol_controlled_value.ipynb).\n",
    "\n",
    "The goal of this notebook is to understand how to do A/B testing with pre-implemented policies."
   ]
  },
  {
   "cell_type": "markdown",
   "metadata": {},
   "source": [
    "# Quiz Setup \n",
    "\n",
    "- The first section of all quiz notebooks contains all necessary code to run the relevant simulation **within the quiz**.\n",
    "- However, this is done for enabling experimentation. **In practice, each notebook should be gone through with the associated analysis notebook**.\n",
    "- Analysis notebook sections relevant to quiz questions will be pointed to in the analysis notebooks directly.\n",
    "- Solution cells are not meant to directly execute, as these may only contain the relevant snippets."
   ]
  },
  {
   "cell_type": "markdown",
   "metadata": {},
   "source": [
    "# Experiment Setup\n",
    "\n",
    "We begin with several experiment-notebook-level preparatory setup operations:\n",
    "\n",
    "* Import relevant dependencies\n",
    "* Import relevant experiment templates\n",
    "* Create copies of experiments\n",
    "* Configure and customize experiments \n",
    "\n",
    "Analysis-specific setup operations are handled in their respective notebook sections."
   ]
  },
  {
   "cell_type": "code",
   "execution_count": null,
   "metadata": {},
   "outputs": [],
   "source": [
    "# Import the setup module:\n",
    "# * sets up the Python path\n",
    "# * runs shared notebook configuration methods, such as loading IPython modules\n",
    "import setup\n",
    "\n",
    "import copy\n",
    "import logging\n",
    "import numpy as np\n",
    "import pandas as pd\n",
    "import plotly.express as px\n",
    "\n",
    "import experiments.notebooks.visualizations as visualizations\n",
    "from experiments.run import run\n",
    "from experiments.utils import display_code"
   ]
  },
  {
   "cell_type": "code",
   "execution_count": null,
   "metadata": {},
   "outputs": [],
   "source": [
    "import plotly.io as pio\n",
    "png_renderer = pio.renderers[\"png\"]\n",
    "png_renderer.width = 1200\n",
    "png_renderer.height = 500\n",
    "# png_renderer.scale = 1\n",
    "\n",
    "pio.renderers.default = \"png\""
   ]
  },
  {
   "cell_type": "code",
   "execution_count": null,
   "metadata": {},
   "outputs": [],
   "source": [
    "from operator import lt, gt"
   ]
  },
  {
   "cell_type": "code",
   "execution_count": null,
   "metadata": {},
   "outputs": [],
   "source": [
    "# Enable/disable logging\n",
    "logger = logging.getLogger()\n",
    "logger.disabled = False"
   ]
  },
  {
   "cell_type": "code",
   "execution_count": null,
   "metadata": {},
   "outputs": [],
   "source": [
    "# Import experiment templates\n",
    "import experiments.default_experiment as default_experiment"
   ]
  },
  {
   "cell_type": "code",
   "execution_count": null,
   "metadata": {},
   "outputs": [],
   "source": [
    "# Inspect experiment template\n",
    "display_code(default_experiment)"
   ]
  },
  {
   "cell_type": "markdown",
   "metadata": {},
   "source": [
    "### Goal: Extend Simulation by A/B Testing Alternative Policies"
   ]
  },
  {
   "cell_type": "markdown",
   "metadata": {},
   "source": [
    "#### Prompt:"
   ]
  },
  {
   "cell_type": "code",
   "execution_count": null,
   "metadata": {},
   "outputs": [],
   "source": [
    "parameter_overrides = {\n",
    "    \"target_rebalancing_condition\": [gt, lt], # Simulate decrease and increase of stable backing\n",
    "    \"target_stable_pcv_ratio\": [None], # Disable Stable PCV Ratio Targeting\n",
    "    \"target_stable_backing_ratio\": [0.3, 0.8], # Simulate decrease and increase of stable backing\n",
    "    \"rebalancing_period\": [int(365/4)],  # Quarterly rebalancing\n",
    "    \"yield_withdrawal_period\": [None],  # Disable yield-withdrawal policy\n",
    "    \"yield_reinvest_period\": [None],  # Disable yield-reinvestment policy\n",
    "}"
   ]
  },
  {
   "cell_type": "code",
   "execution_count": null,
   "metadata": {},
   "outputs": [],
   "source": [
    "# Create a simulation for each analysis\n",
    "simulation_1 = copy.deepcopy(default_experiment.experiment.simulations[0])"
   ]
  },
  {
   "cell_type": "code",
   "execution_count": null,
   "metadata": {},
   "outputs": [],
   "source": [
    "# Experiment configuration\n",
    "simulation_1.model.runs = 1\n",
    "\n",
    "# Override inital state\n",
    "simulation_1.model.initial_state.update({})\n",
    "\n",
    "# Override default experiment System Parameters\n",
    "simulation_1.model.params.update(parameter_overrides)"
   ]
  },
  {
   "cell_type": "code",
   "execution_count": null,
   "metadata": {},
   "outputs": [],
   "source": [
    "# Analysis-specific setup"
   ]
  },
  {
   "cell_type": "code",
   "execution_count": null,
   "metadata": {},
   "outputs": [],
   "source": [
    "# Experiment execution\n",
    "# df, exceptions = run(simulation_1)"
   ]
  },
  {
   "cell_type": "markdown",
   "metadata": {},
   "source": [
    "#### Questions:"
   ]
  },
  {
   "cell_type": "markdown",
   "metadata": {},
   "source": [
    "1. **T/F** the FEI Protocol model has **two** different Policies for PCV management and rebalancing."
   ]
  },
  {
   "cell_type": "markdown",
   "metadata": {},
   "source": [
    "**A**: True."
   ]
  },
  {
   "cell_type": "markdown",
   "metadata": {},
   "source": [
    "2. Which state variables do each of these policies target, and where are the files for these policies located?"
   ]
  },
  {
   "cell_type": "markdown",
   "metadata": {},
   "source": [
    "**A:** The two policies, found in **/model/parts/pcv_management** respectively target **stable_pcv_ratio** and **stable_backing_ratio**."
   ]
  },
  {
   "cell_type": "markdown",
   "metadata": {},
   "source": [
    "_BONUS:_ how is deposit prioritization calculated for rebalancing? Hint - see PCV rebalancing algorithm lucidchart document (or its export)."
   ]
  },
  {
   "cell_type": "code",
   "execution_count": null,
   "metadata": {},
   "outputs": [],
   "source": [
    "# TODO: link"
   ]
  },
  {
   "cell_type": "markdown",
   "metadata": {},
   "source": [
    "In both the case of Stable Backing and Stable PCV ratio targeting, the algorithm will initially see if the amount to be rebalanced (ex: volatile asset sold, equivalent dollar value of stable bought) can be viably performed via sale of idle PCV deposit balance. If the idle PCV deposit does not have enough balance, the yield bearing deposits will be used, which implies withdrawal of PCV yield."
   ]
  },
  {
   "cell_type": "markdown",
   "metadata": {},
   "source": [
    "### Extension: A/B Testing - PCV at Risk for Stable PCV Ratio Targeting"
   ]
  },
  {
   "cell_type": "markdown",
   "metadata": {},
   "source": [
    "1. Edit **Analysis 2 - PCV at Risk for Stable Backing Ratio Targets** in the following way: \n",
    "\n",
    "    Keeping the same levels and directions of rebalancing in the parameter sweep, **configure the parameter overrides to target stable PCV ratio instead of stable backing ratio**.\n",
    "    \n",
    "    Set the number of monte carlo runs to 25."
   ]
  },
  {
   "cell_type": "code",
   "execution_count": null,
   "metadata": {},
   "outputs": [],
   "source": [
    "parameter_overrides = {\n",
    "    \"target_rebalancing_condition\": [gt, lt], # Simulate decrease and increase of stable backing\n",
    "    \"target_stable_pcv_ratio\": [0.3, 0.8], # Simulate decrease and increase of stable PCV\n",
    "    \"target_stable_backing_ratio\": [None], # Disable targeting of Stable Backing Ratio\n",
    "    \"rebalancing_period\": [int(365/4)],  # Quarterly rebalancing\n",
    "    \"yield_withdrawal_period\": [None],  # Disable yield-withdrawal policy\n",
    "    \"yield_reinvest_period\": [None],  # Disable yield-reinvestment policy\n",
    "}"
   ]
  },
  {
   "cell_type": "markdown",
   "metadata": {},
   "source": [
    "2. Run the experiment and compare all metrics related to PCVaR which are outputs of the analysis in analyses 3 vs 4."
   ]
  },
  {
   "cell_type": "markdown",
   "metadata": {},
   "source": [
    "3. Which policy targeting (Stable Backing vs Stable PCV) provides better risk management for the protocol, across all monte carlo runs?\n"
   ]
  },
  {
   "cell_type": "markdown",
   "metadata": {},
   "source": [
    "**A:** PCV at Risk delta between the volatile-exposed policy vs the conservative policy is greater with the Stable backing ratio than stable PCV ratio. The delta in quantiles is also slightly greater when targeting stable backing.\n",
    "\n",
    "In terms of effect on the collateral ratio, the empirical probability of the conservative policy being an effective risk management setting is unchanged between settings, though visually we notice greater divergence in collateral ratio when targeting stable PCV ratio.\n",
    "\n",
    "While we cannot conclude directly which policy is better in absolute terms, policy selection can be informed by a-priori governance goals in KPI setting. However, by construction the stable backing ratio depends on two volatile processes - total PCV and user-circulating FEI, whereas stable PCV targeting only depends on total PCV."
   ]
  },
  {
   "cell_type": "code",
   "execution_count": null,
   "metadata": {},
   "outputs": [],
   "source": []
  }
 ],
 "metadata": {
  "kernelspec": {
   "display_name": "Python 3",
   "language": "python",
   "name": "python3"
  },
  "language_info": {
   "codemirror_mode": {
    "name": "ipython",
    "version": 3
   },
   "file_extension": ".py",
   "mimetype": "text/x-python",
   "name": "python",
   "nbconvert_exporter": "python",
   "pygments_lexer": "ipython3",
   "version": "3.9.7"
  }
 },
 "nbformat": 4,
 "nbformat_minor": 4
}
