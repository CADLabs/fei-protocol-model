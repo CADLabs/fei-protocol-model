{
 "cells": [
  {
   "cell_type": "markdown",
   "metadata": {},
   "source": [
    "# Experiment Notebook: Sanity Checks"
   ]
  },
  {
   "cell_type": "markdown",
   "metadata": {},
   "source": [
    "# Table of Contents\n",
    "* [Experiment Summary](#Experiment-Summary)\n",
    "* [Experiment Assumptions](#Experiment-Assumptions)\n",
    "* [Experiment Setup](#Experiment-Setup)\n",
    "* [Analysis 1: PCV Sanity Checks](#Analysis-1:-PCV-Sanity-Checks)"
   ]
  },
  {
   "cell_type": "markdown",
   "metadata": {},
   "source": [
    "# Experiment Summary \n",
    "\n",
    "The purpose of this notebook is to...\n",
    "\n",
    "# Experiment Assumptions\n",
    "\n",
    "See [assumptions document](../../ASSUMPTIONS.md) for further details."
   ]
  },
  {
   "cell_type": "markdown",
   "metadata": {},
   "source": [
    "# Experiment Setup\n",
    "\n",
    "We begin with several experiment-notebook-level preparatory setup operations:\n",
    "\n",
    "* Import relevant dependencies\n",
    "* Import relevant experiment templates\n",
    "* Create copies of experiments\n",
    "* Configure and customize experiments \n",
    "\n",
    "Analysis-specific setup operations are handled in their respective notebook sections."
   ]
  },
  {
   "cell_type": "code",
   "execution_count": null,
   "metadata": {},
   "outputs": [],
   "source": [
    "# Import the setup module:\n",
    "# * sets up the Python path\n",
    "# * runs shared notebook configuration methods, such as loading IPython modules\n",
    "import setup\n",
    "\n",
    "import copy\n",
    "import logging\n",
    "import numpy as np\n",
    "import pandas as pd\n",
    "import plotly.express as px\n",
    "\n",
    "import experiments.notebooks.visualizations as visualizations\n",
    "from experiments.run import run\n",
    "from experiments.utils import display_code"
   ]
  },
  {
   "cell_type": "code",
   "execution_count": null,
   "metadata": {},
   "outputs": [],
   "source": [
    "# Enable/disable logging\n",
    "logger = logging.getLogger()\n",
    "logger.disabled = False"
   ]
  },
  {
   "cell_type": "code",
   "execution_count": null,
   "metadata": {},
   "outputs": [],
   "source": [
    "# Import experiment templates\n",
    "import experiments.default_experiment as default_experiment"
   ]
  },
  {
   "cell_type": "code",
   "execution_count": null,
   "metadata": {},
   "outputs": [],
   "source": [
    "# Inspect experiment template\n",
    "display_code(default_experiment)"
   ]
  },
  {
   "cell_type": "code",
   "execution_count": null,
   "metadata": {},
   "outputs": [],
   "source": [
    "# Create a simulation for each analysis\n",
    "simulation_1 = copy.deepcopy(default_experiment.experiment.simulations[0])"
   ]
  },
  {
   "cell_type": "code",
   "execution_count": null,
   "metadata": {},
   "outputs": [],
   "source": [
    "# Experiment configuration\n",
    "simulation_1.model.initial_state.update({})\n",
    "\n",
    "simulation_1.model.params.update({})"
   ]
  },
  {
   "cell_type": "markdown",
   "metadata": {},
   "source": [
    "# Analysis 1: PCV Sanity Checks"
   ]
  },
  {
   "cell_type": "markdown",
   "metadata": {},
   "source": [
    "A simulation across 4 volatile asset price scenarios to validate PCV states and metrics."
   ]
  },
  {
   "cell_type": "code",
   "execution_count": null,
   "metadata": {},
   "outputs": [],
   "source": [
    "# Analysis-specific setup\n",
    "simulation_1.model.params.update({\n",
    "    \"volatile_asset_price_process\": [\n",
    "        lambda _run, _timestep: 2_000,\n",
    "        lambda _run, timestep: 2_000 if timestep < 365 / 4 else (1_000 if timestep < 365 * 3/4 else 2_000),\n",
    "        lambda _run, timestep: 2_000 * (1 + timestep * 0.2 / 365),\n",
    "        lambda _run, timestep: 2_000 * (1 - timestep * 0.2 / 365),\n",
    "    ],\n",
    "})"
   ]
  },
  {
   "cell_type": "code",
   "execution_count": null,
   "metadata": {},
   "outputs": [],
   "source": [
    "# Experiment execution\n",
    "df, exceptions = run(simulation_1)"
   ]
  },
  {
   "cell_type": "code",
   "execution_count": null,
   "metadata": {},
   "outputs": [],
   "source": [
    "# Post-processing and visualizations"
   ]
  },
  {
   "cell_type": "code",
   "execution_count": null,
   "metadata": {},
   "outputs": [],
   "source": [
    "fig = df.plot(y='volatile_asset_price', color='subset')\n",
    "\n",
    "fig.update_xaxes(title='Timestamp')"
   ]
  },
  {
   "cell_type": "code",
   "execution_count": null,
   "metadata": {},
   "outputs": [],
   "source": [
    "from plotly.subplots import make_subplots\n",
    "import plotly.graph_objects as go\n",
    "import itertools\n",
    "from experiments.notebooks.visualizations.plotly_theme import cadlabs_colorway_sequence\n",
    "color_cycle = itertools.cycle(cadlabs_colorway_sequence)\n",
    "\n",
    "\n",
    "fig = make_subplots(rows=5, cols=len(df.subset.unique()), shared_yaxes=True)\n",
    "\n",
    "for subset in df.subset.unique():\n",
    "    df_plot = df.query('subset == @subset')\n",
    "    \n",
    "    fig.add_trace(\n",
    "        go.Scatter(\n",
    "            x=df_plot.timestamp,\n",
    "            y=df_plot.volatile_asset_price,\n",
    "            name=\"Volatile Asset Price\",\n",
    "            line=dict(color=cadlabs_colorway_sequence[0]),\n",
    "            showlegend=(True if subset == 0 else False),\n",
    "        ),\n",
    "        row=1, col=subset+1,\n",
    "    )\n",
    "\n",
    "    fig.add_trace(\n",
    "        go.Scatter(\n",
    "            x=df_plot.timestamp,\n",
    "            y=df_plot.total_pcv,\n",
    "            name=\"Total PCV\",\n",
    "            line=dict(color=cadlabs_colorway_sequence[1]),\n",
    "            showlegend=(True if subset == 0 else False),\n",
    "        ),\n",
    "        row=2, col=subset+1\n",
    "    )\n",
    "\n",
    "    fig.add_trace(\n",
    "        go.Scatter(\n",
    "            x=df_plot.timestamp,\n",
    "            y=df_plot.collateralization_ratio,\n",
    "            name=\"Collateralization Ratio\",\n",
    "            line=dict(color=cadlabs_colorway_sequence[2]),\n",
    "            showlegend=(True if subset == 0 else False),\n",
    "        ),\n",
    "        row=3, col=subset+1\n",
    "    )\n",
    "    \n",
    "    fig.add_trace(\n",
    "        go.Scatter(\n",
    "            x=df_plot.timestamp,\n",
    "            y=df_plot.total_volatile_asset_pcv,\n",
    "            name=\"Volatile Asset PCV\",\n",
    "            line=dict(color=cadlabs_colorway_sequence[3]),\n",
    "            showlegend=(True if subset == 0 else False),\n",
    "            stackgroup='one',\n",
    "        ),\n",
    "        row=4, col=subset+1\n",
    "    )\n",
    "    \n",
    "    fig.add_trace(\n",
    "        go.Scatter(\n",
    "            x=df_plot.timestamp,\n",
    "            y=df_plot.total_stable_asset_pcv,\n",
    "            name=\"Stable Asset PCV\",\n",
    "            line=dict(color=cadlabs_colorway_sequence[4]),\n",
    "            showlegend=(True if subset == 0 else False),\n",
    "            stackgroup='one',\n",
    "        ),\n",
    "        row=4, col=subset+1\n",
    "    )\n",
    "    \n",
    "    fig.add_trace(\n",
    "        go.Scatter(\n",
    "            x=df_plot.timestamp,\n",
    "            y=df_plot.liquidity_pool_tvl,\n",
    "            name=\"Liquidity Pool TVL\",\n",
    "            line=dict(color=cadlabs_colorway_sequence[4]),\n",
    "            showlegend=(True if subset == 0 else False),\n",
    "        ),\n",
    "        row=5, col=subset+1\n",
    "    )\n",
    "\n",
    "\n",
    "fig.update_layout(height=1000, title_text=\"PCV Sanity Checks\")\n",
    "fig.show()"
   ]
  }
 ],
 "metadata": {
  "kernelspec": {
   "display_name": "Python (CADLabs Fei Model)",
   "language": "python",
   "name": "python-cadlabs-fei"
  },
  "language_info": {
   "codemirror_mode": {
    "name": "ipython",
    "version": 3
   },
   "file_extension": ".py",
   "mimetype": "text/x-python",
   "name": "python",
   "nbconvert_exporter": "python",
   "pygments_lexer": "ipython3",
   "version": "3.8.13"
  }
 },
 "nbformat": 4,
 "nbformat_minor": 4
}
