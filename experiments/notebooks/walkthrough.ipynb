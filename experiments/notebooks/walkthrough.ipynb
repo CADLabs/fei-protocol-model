{
 "cells": [
  {
   "cell_type": "markdown",
   "metadata": {},
   "source": [
    "# Experiment Notebook: Code Walkthrough"
   ]
  },
  {
   "cell_type": "markdown",
   "metadata": {},
   "source": [
    "# Table of Contents\n",
    "* [Experiment Summary](#Experiment-Summary)\n",
    "* [Experiment Assumptions](#Experiment-Assumptions)\n",
    "* [Experiment Setup](#Experiment-Setup)\n",
    "* [Analysis 1: ...](#Analysis-1:-...)"
   ]
  },
  {
   "cell_type": "markdown",
   "metadata": {},
   "source": [
    "# Experiment Summary \n",
    "\n",
    "The purpose of this notebook is to...\n",
    "\n",
    "# Experiment Assumptions\n",
    "\n",
    "See [assumptions document](../../ASSUMPTIONS.md) for further details."
   ]
  },
  {
   "cell_type": "markdown",
   "metadata": {},
   "source": [
    "# Experiment Setup\n",
    "\n",
    "We begin with several experiment-notebook-level preparatory setup operations:\n",
    "\n",
    "* Import relevant dependencies\n",
    "* Import relevant experiment templates\n",
    "* Create copies of experiments\n",
    "* Configure and customize experiments \n",
    "\n",
    "Analysis-specific setup operations are handled in their respective notebook sections."
   ]
  },
  {
   "cell_type": "code",
   "execution_count": null,
   "metadata": {},
   "outputs": [],
   "source": [
    "# Import the setup module:\n",
    "# * sets up the Python path\n",
    "# * runs shared notebook configuration methods, such as loading IPython modules\n",
    "import setup\n",
    "\n",
    "import copy\n",
    "import logging\n",
    "import numpy as np\n",
    "import pandas as pd\n",
    "import plotly.express as px\n",
    "\n",
    "import experiments.notebooks.visualizations as visualizations\n",
    "from experiments.run import run\n",
    "from experiments.utils import display_code"
   ]
  },
  {
   "cell_type": "code",
   "execution_count": null,
   "metadata": {},
   "outputs": [],
   "source": [
    "import plotly.io as pio\n",
    "png_renderer = pio.renderers[\"png\"]\n",
    "png_renderer.width = 1200\n",
    "png_renderer.height = 500\n",
    "# png_renderer.scale = 1\n",
    "\n",
    "pio.renderers.default = \"png\""
   ]
  },
  {
   "cell_type": "code",
   "execution_count": null,
   "metadata": {},
   "outputs": [],
   "source": [
    "# Enable/disable logging\n",
    "logger = logging.getLogger()\n",
    "logger.disabled = False"
   ]
  },
  {
   "cell_type": "code",
   "execution_count": null,
   "metadata": {},
   "outputs": [],
   "source": [
    "# Import experiment templates\n",
    "import experiments.default_experiment as default_experiment"
   ]
  },
  {
   "cell_type": "code",
   "execution_count": null,
   "metadata": {},
   "outputs": [],
   "source": [
    "# Inspect experiment template\n",
    "display_code(default_experiment)"
   ]
  },
  {
   "cell_type": "code",
   "execution_count": null,
   "metadata": {},
   "outputs": [],
   "source": [
    "# Create a simulation for each analysis\n",
    "simulation_1 = copy.deepcopy(default_experiment.experiment.simulations[0])"
   ]
  },
  {
   "cell_type": "code",
   "execution_count": null,
   "metadata": {},
   "outputs": [],
   "source": [
    "# Experiment configuration\n",
    "simulation_1.runs = 5\n",
    "\n",
    "simulation_1.model.initial_state.update({})\n",
    "\n",
    "simulation_1.model.params.update({\n",
    "    \"rebalancing_period\": [30, 60, 90]\n",
    "})"
   ]
  },
  {
   "cell_type": "code",
   "execution_count": null,
   "metadata": {},
   "outputs": [],
   "source": [
    "# TODO: where can this be put? Utils?\n",
    "def plotly_to_static(plot, width=900, height=500, scale=1):\n",
    "    return Image(plot.to_image(format=\"png\", width=width, height=height, scale=scale))"
   ]
  },
  {
   "cell_type": "markdown",
   "metadata": {},
   "source": [
    "# Analysis 1: Model Output"
   ]
  },
  {
   "cell_type": "markdown",
   "metadata": {},
   "source": [
    "A visualization of model outputs based on existing implementation of \n",
    "- PCV Management and Rebalancing\n",
    "- Liquidity Pool CFMM Dynamics"
   ]
  },
  {
   "cell_type": "code",
   "execution_count": null,
   "metadata": {},
   "outputs": [],
   "source": [
    "# Analysis-specific setup"
   ]
  },
  {
   "cell_type": "code",
   "execution_count": null,
   "metadata": {},
   "outputs": [],
   "source": [
    "# Experiment execution\n",
    "df, exceptions = run(simulation_1)"
   ]
  },
  {
   "cell_type": "code",
   "execution_count": null,
   "metadata": {},
   "outputs": [],
   "source": [
    "# Post-processing and visualizations"
   ]
  },
  {
   "cell_type": "code",
   "execution_count": null,
   "metadata": {},
   "outputs": [],
   "source": [
    "df"
   ]
  },
  {
   "cell_type": "markdown",
   "metadata": {},
   "source": [
    "## Asset Prices"
   ]
  },
  {
   "cell_type": "markdown",
   "metadata": {},
   "source": [
    "Asset prices are implemented as two types of stochatic processes:\n",
    "- Volatile Assets: Brownian Motion $$dX_t = \\mu_t dt + \\sigma_t dW_t, \\ W_t \\sim BM(0,1)$$\n",
    "- Stable Assets: Gaussian Noise $$X_t = \\mu + \\sigma Z_t, Z_t \\sim N(0,1)$$"
   ]
  },
  {
   "cell_type": "markdown",
   "metadata": {},
   "source": [
    "Volatile Asset price process for monte carlo runs for parameter values: $$\\mu=-50, \\sigma=20$$"
   ]
  },
  {
   "cell_type": "code",
   "execution_count": null,
   "metadata": {},
   "outputs": [],
   "source": [
    "Stable Asset price process for monte carlo runs for parameter values: $$\\mu=1, \\sigma=0.005$$"
   ]
  },
  {
   "cell_type": "markdown",
   "metadata": {},
   "source": [
    "Stable Asset price process for monte carlo runs for parameter values: $$\\mu=1, \\sigma=0.005$$"
   ]
  },
  {
   "cell_type": "code",
   "execution_count": null,
   "metadata": {},
   "outputs": [],
   "source": [
    "df.query(\"subset == 0\").plot(x='timestep', y='stable_asset_price', color='run')"
   ]
  },
  {
   "cell_type": "markdown",
   "metadata": {},
   "source": [
    "A realization of a single stable asset process run, compared to FEI's current implementation as equal to $1 by construction"
   ]
  },
  {
   "cell_type": "code",
   "execution_count": null,
   "metadata": {},
   "outputs": [],
   "source": [
    "fig = df.query(\"run == 1 and subset == 0\").plot(x='timestep', y=['stable_asset_price', 'fei_price'])\n",
    "plotly_to_static(fig)"
   ]
  },
  {
   "cell_type": "markdown",
   "metadata": {},
   "source": [
    "A realization of a single stable asset process run, compared to FEI's current implementation as equal to $1 by construction"
   ]
  },
  {
   "cell_type": "markdown",
   "metadata": {},
   "source": [
    "## Protocol Controlled Value"
   ]
  },
  {
   "cell_type": "markdown",
   "metadata": {},
   "source": [
    "The main <b>monetary policy lever</b> implemented and defining the dynamics of this block is <b>PCV rebalancing</b>. The current implementation is a naive <i>stable-backing-ratio based</i> rebalancing strategy. Where if the stable backing ratio is below an arbitrary value (50%) in this case, the necessary amount of volatile assets is sold and the corresponding amount of stable assets is bought. The test for stable backing ratio comparison occurs arbitrarily for three parameter values of rebalancing frequency:\n",
    "- 30 days\n",
    "- 60 days\n",
    "- 90 days\n",
    "\n",
    "The strategy pays no attention to dollar cost averaging the entry/exit of respective positions nor does it take any other parameters into account, as such, the dynamics are largely impulsive."
   ]
  },
  {
   "cell_type": "markdown",
   "metadata": {},
   "source": [
    "The stable backing ratio resulting from the rebalancing policy for various rebalancing frequency dates. The stable backing ratio for the current run never falls below 50% after 200 timesteps."
   ]
  },
  {
   "cell_type": "code",
   "execution_count": null,
   "metadata": {},
   "outputs": [],
   "source": [
    "fig = df.query('run == 1').plot(\n",
    "    x='timestep',\n",
    "    y=['stable_backing_ratio'],\n",
    "    title='Stable Backing Ratio',\n",
    "    color='subset'\n",
    ")\n",
    "\n",
    "fig.update_xaxes(title='Timestep (days)')\n",
    "fig.update_yaxes(title='Stable Backing Ratio')"
   ]
  },
  {
   "cell_type": "markdown",
   "metadata": {},
   "source": [
    "An overall look at PCV rebalancing. At period 30,roughly 140M of Volatile asset is sold, and 140M worth of Stable asset is bought. This does not affect the total PCV value but changes the stable backing ratio to the one desired."
   ]
  },
  {
   "cell_type": "code",
   "execution_count": null,
   "metadata": {},
   "outputs": [],
   "source": [
    "fig = df.query(\"run == 1 and subset == 0\").plot(\n",
    "    x='timestep',\n",
    "    y=['total_volatile_asset_pcv', 'total_stable_asset_pcv', 'total_pcv'],\n",
    "    title='Stable and Volatile Asset PCV Totals',\n",
    ")\n",
    "\n",
    "fig.update_xaxes(title='Timestep (days)')\n",
    "fig.update_yaxes(title='PCV (USD)')\n",
    "\n",
    "plotly_to_static(fig, width=1200)"
   ]
  },
  {
   "cell_type": "markdown",
   "metadata": {},
   "source": [
    "An overall look at PCV rebalancing. At period 30,roughly 140M of Volatile asset is sold, and 140M worth of Stable asset is bought. This does not affect the total PCV value but changes the stable backing ratio to the one desired."
   ]
  },
  {
   "cell_type": "markdown",
   "metadata": {},
   "source": [
    "The <b>dollar value</b> of the Stable Asset constituent of PCV across rebalancing frequencies."
   ]
  },
  {
   "cell_type": "code",
   "execution_count": null,
   "metadata": {},
   "outputs": [],
   "source": [
    "fig = df.query('run == 1').plot(\n",
    "    x='timestep',\n",
    "    y='total_stable_asset_pcv',\n",
    "    title='Stable Asset Protocol Controlled Value',\n",
    "    color='subset'\n",
    ")\n",
    "\n",
    "fig.update_xaxes(title='Timestep (days)')\n",
    "fig.update_yaxes(title='Stable Asset PCV (USD)')\n",
    "\n",
    "plotly_to_static(fig)"
   ]
  },
  {
   "cell_type": "markdown",
   "metadata": {},
   "source": [
    "The <b>dollar value</b> of the Stable Asset constituent of PCV across rebalancing frequencies."
   ]
  },
  {
   "cell_type": "markdown",
   "metadata": {},
   "source": [
    "The <b>dollar value</b> of the Volatile Asset constituent of PCV across rebalancing frequencies."
   ]
  },
  {
   "cell_type": "code",
   "execution_count": null,
   "metadata": {},
   "outputs": [],
   "source": [
    "fig = df.query('run == 1').plot(\n",
    "    x='timestep',\n",
    "    y='total_volatile_asset_pcv',\n",
    "    title='Volatile Asset Protocol Controlled Value',\n",
    "    color='subset'\n",
    ")\n",
    "\n",
    "fig.update_xaxes(title='Timestep (days)')\n",
    "fig.update_yaxes(title='Volatile Asset PCV (USD)')"
   ]
  },
  {
   "cell_type": "markdown",
   "metadata": {},
   "source": [
    "The <b>dollar value</b> of PCV across rebalancing frequencies."
   ]
  },
  {
   "cell_type": "code",
   "execution_count": null,
   "metadata": {},
   "outputs": [],
   "source": [
    "fig = df.query('run == 1').plot(\n",
    "    x='timestep',\n",
    "    y='total_pcv',\n",
    "    title='Total Protocol Controlled Value',\n",
    "    color='subset',\n",
    ")\n",
    "\n",
    "fig.update_xaxes(title='Timestep (days)')\n",
    "fig.update_yaxes(title='Total PCV (USD)')\n",
    "\n",
    "plotly_to_static(fig)"
   ]
  },
  {
   "cell_type": "markdown",
   "metadata": {},
   "source": [
    "The collateral ratio series over time. This is, by construction, strongly correlated with PCV Value, and in practice driven by the realization of the ETH price process for the current run."
   ]
  },
  {
   "cell_type": "code",
   "execution_count": null,
   "metadata": {},
   "outputs": [],
   "source": [
    "fig = df.query('run == 1').plot(\n",
    "    x='timestep',\n",
    "    y=['collateralization_ratio'],\n",
    "    title='Collateralization Ratio',\n",
    "    color='subset'\n",
    ")\n",
    "\n",
    "fig.update_xaxes(title='Timestep (days)')\n",
    "fig.update_yaxes(title='Collateralization Ratio')\n",
    "\n",
    "plotly_to_static(fig)"
   ]
  },
  {
   "cell_type": "markdown",
   "metadata": {},
   "source": [
    "The collateral ratio series over time. This is, by construction, strongly correlated with PCV Value, and in practice driven by the realization of the ETH price process for the current run."
   ]
  },
  {
   "cell_type": "markdown",
   "metadata": {},
   "source": [
    "## Liquidity Pool Source / Sink"
   ]
  },
  {
   "cell_type": "markdown",
   "metadata": {},
   "source": [
    "Here we look at the dynamics of <b>FEI sourced and sinked</b> as a result of CFMM movements. These dynamics do <b>not</b> tie into broader PCV management save for the basic accounting of FEI and Volatile asset amount held."
   ]
  },
  {
   "cell_type": "markdown",
   "metadata": {},
   "source": [
    "## Liquidity Pool Source / Sink"
   ]
  },
  {
   "cell_type": "markdown",
   "metadata": {},
   "source": [
    "Here we look at the dynamics of <b>FEI sourced and sinked</b> as a result of CFMM movements. These dynamics do <b>not</b> tie into broader PCV management save for the basic accounting of FEI and Volatile asset amount held."
   ]
  },
  {
   "cell_type": "code",
   "execution_count": null,
   "metadata": {},
   "outputs": [],
   "source": [
    "def get_pcv_balance_from_deposits(df, asset, deposit_type, subset=0):\n",
    "    \n",
    "    col_str = asset+'_deposit_'+deposit_type\n",
    "    \n",
    "    df_ = df.query(\"subset == @subset\")[[col_str, 'run', 'timestep']]\n",
    "    df_[col_str+'_balance'] = df_[col_str].map(lambda x: x.balance)\n",
    "    return df_[[col_str+'_balance', 'run', 'timestep']]"
   ]
  },
  {
   "cell_type": "markdown",
   "metadata": {},
   "source": [
    "Liquidity pool TVL for 5 monte carlo runs for the same underlying volatile asset price parameters."
   ]
  },
  {
   "cell_type": "code",
   "execution_count": null,
   "metadata": {},
   "outputs": [],
   "source": [
    "df.query(\"subset == 0\").plot(x='timestep', y ='liquidity_pool_tvl', color='run', title='FEI/VOL LP TVL',)"
   ]
  },
  {
   "cell_type": "markdown",
   "metadata": {},
   "source": [
    "FEI balance, in <b>FEI units (FEI)</b>, in the liquidity pool, for 5 monte carlo runs for the same underlying volatile asset price parameters."
   ]
  },
  {
   "cell_type": "code",
   "execution_count": null,
   "metadata": {},
   "outputs": [],
   "source": [
    "get_pcv_balance_from_deposits(df, 'fei', 'liquidity_pool', subset=0).plot(\n",
    "    title='FEI Balance of LP (in FEI)',\n",
    "    x='timestep',\n",
    "    y='fei_deposit_liquidity_pool_balance',\n",
    "    color='run'\n",
    ")"
   ]
  },
  {
   "cell_type": "markdown",
   "metadata": {},
   "source": [
    "Volatile asset balance, in <b>Volatile Asset Units</b> in the liquidity pool, for 5 monte carlo runs for the same underlying volatile asset price parameters."
   ]
  },
  {
   "cell_type": "code",
   "execution_count": null,
   "metadata": {},
   "outputs": [],
   "source": [
    "get_pcv_balance_from_deposits(df, 'volatile', 'liquidity_pool', subset=0).plot(\n",
    "    title='Volatile Asset Balance of LP (in Volatile Asset Units)',\n",
    "    x='timestep',\n",
    "    y='volatile_deposit_liquidity_pool_balance',\n",
    "    color='run'\n",
    ")"
   ]
  },
  {
   "cell_type": "markdown",
   "metadata": {},
   "source": [
    "Here, we broadly illustrate the dynamics captured in the corresponding CFMM spreadhseet - As ETH price decreases, FEI amount in pool decreases and ETH amount in pool increases. Need more ETH per unit of FEI. As a result, TVL decreases."
   ]
  },
  {
   "cell_type": "markdown",
   "metadata": {},
   "source": [
    "The time series of FEI LP balance differential in subsequent time periods for a single run."
   ]
  },
  {
   "cell_type": "code",
   "execution_count": null,
   "metadata": {},
   "outputs": [],
   "source": [
    "fig = fei_amt.plot(\n",
    "    title='FEI Released into Market (in FEI)',\n",
    "    x='timestep',\n",
    "    y='fei_released_into_market',\n",
    "    color='run'\n",
    ")\n",
    "plotly_to_static(fig)"
   ]
  },
  {
   "cell_type": "markdown",
   "metadata": {},
   "source": [
    "As per the spreadsheet, we proceed to calculate <b>FEI Released to Market</b> with respect to t=0, which is the current FEI LP balance minus the balance at time zero, in number of FEI tokens."
   ]
  },
  {
   "cell_type": "code",
   "execution_count": null,
   "metadata": {},
   "outputs": [],
   "source": [
    "fei_amt = get_pcv_balance_from_deposits(df, 'fei', 'liquidity_pool', subset=0)\n",
    "fei_amt_init = fei_amt.iloc[0]['fei_deposit_liquidity_pool_balance']\n",
    "\n",
    "fei_amt['fei_released_into_market'] = -(fei_amt['fei_deposit_liquidity_pool_balance'] - fei_amt_init)"
   ]
  },
  {
   "cell_type": "code",
   "execution_count": null,
   "metadata": {},
   "outputs": [],
   "source": [
    "fei_amt.plot(\n",
    "    title='FEI Released into Market (in FEI)',\n",
    "    x='timestep',\n",
    "    y='fei_released_into_market',\n",
    "    color='run'\n",
    ")"
   ]
  },
  {
   "cell_type": "code",
   "execution_count": null,
   "metadata": {},
   "outputs": [],
   "source": []
  }
 ],
 "metadata": {
  "kernelspec": {
   "display_name": "Python [conda env:cadcad] *",
   "language": "python",
   "name": "conda-env-cadcad-py"
  },
  "language_info": {
   "codemirror_mode": {
    "name": "ipython",
    "version": 3
   },
   "file_extension": ".py",
   "mimetype": "text/x-python",
   "name": "python",
   "nbconvert_exporter": "python",
   "pygments_lexer": "ipython3",
   "version": "3.9.12"
  }
 },
 "nbformat": 4,
 "nbformat_minor": 4
}
